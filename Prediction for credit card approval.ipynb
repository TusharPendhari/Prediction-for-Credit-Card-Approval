{
 "cells": [
  {
   "cell_type": "code",
   "execution_count": 1,
   "id": "3b8440c3",
   "metadata": {},
   "outputs": [],
   "source": [
    "import numpy as np\n",
    "import pandas as pd\n",
    "import seaborn as sns\n",
    "import matplotlib.pyplot as plt\n",
    "\n",
    "from sklearn.preprocessing import LabelEncoder, OneHotEncoder\n",
    "from scipy.stats import normaltest\n",
    "\n",
    "from sklearn.model_selection import train_test_split\n",
    "import warnings\n",
    "warnings.filterwarnings('ignore')"
   ]
  },
  {
   "cell_type": "markdown",
   "id": "a34289e3",
   "metadata": {},
   "source": [
    "# 1. Problem Statement"
   ]
  },
  {
   "cell_type": "raw",
   "id": "3df58e74",
   "metadata": {},
   "source": [
    "The primary objective of this project is to predict the approval or rejection of credit card applications.\n",
    "The challenge lies in understanding the key factors influencing credit card approval decisions and\n",
    "building a predictive model to assist in the decision-making process."
   ]
  },
  {
   "cell_type": "markdown",
   "id": "d9a7a5f6",
   "metadata": {},
   "source": [
    "# 2. Data Gathering"
   ]
  },
  {
   "cell_type": "code",
   "execution_count": 2,
   "id": "c7ab2159",
   "metadata": {},
   "outputs": [
    {
     "data": {
      "text/html": [
       "<div>\n",
       "<style scoped>\n",
       "    .dataframe tbody tr th:only-of-type {\n",
       "        vertical-align: middle;\n",
       "    }\n",
       "\n",
       "    .dataframe tbody tr th {\n",
       "        vertical-align: top;\n",
       "    }\n",
       "\n",
       "    .dataframe thead th {\n",
       "        text-align: right;\n",
       "    }\n",
       "</style>\n",
       "<table border=\"1\" class=\"dataframe\">\n",
       "  <thead>\n",
       "    <tr style=\"text-align: right;\">\n",
       "      <th></th>\n",
       "      <th>ID</th>\n",
       "      <th>Gender</th>\n",
       "      <th>Has a car</th>\n",
       "      <th>Has a property</th>\n",
       "      <th>Children count</th>\n",
       "      <th>Income</th>\n",
       "      <th>Employment status</th>\n",
       "      <th>Education level</th>\n",
       "      <th>Marital status</th>\n",
       "      <th>Dwelling</th>\n",
       "      <th>Age</th>\n",
       "      <th>Employment length</th>\n",
       "      <th>Has a mobile phone</th>\n",
       "      <th>Has a work phone</th>\n",
       "      <th>Has a phone</th>\n",
       "      <th>Has an email</th>\n",
       "      <th>Job title</th>\n",
       "      <th>Family member count</th>\n",
       "      <th>Account age</th>\n",
       "      <th>Is high risk</th>\n",
       "    </tr>\n",
       "  </thead>\n",
       "  <tbody>\n",
       "    <tr>\n",
       "      <th>0</th>\n",
       "      <td>5037048</td>\n",
       "      <td>M</td>\n",
       "      <td>Y</td>\n",
       "      <td>Y</td>\n",
       "      <td>0</td>\n",
       "      <td>135000.0</td>\n",
       "      <td>Working</td>\n",
       "      <td>Secondary / secondary special</td>\n",
       "      <td>Married</td>\n",
       "      <td>With parents</td>\n",
       "      <td>-16271</td>\n",
       "      <td>-3111</td>\n",
       "      <td>1</td>\n",
       "      <td>0</td>\n",
       "      <td>0</td>\n",
       "      <td>0</td>\n",
       "      <td>Core staff</td>\n",
       "      <td>2.0</td>\n",
       "      <td>-17.0</td>\n",
       "      <td>0</td>\n",
       "    </tr>\n",
       "    <tr>\n",
       "      <th>1</th>\n",
       "      <td>5044630</td>\n",
       "      <td>F</td>\n",
       "      <td>Y</td>\n",
       "      <td>N</td>\n",
       "      <td>1</td>\n",
       "      <td>135000.0</td>\n",
       "      <td>Commercial associate</td>\n",
       "      <td>Higher education</td>\n",
       "      <td>Single / not married</td>\n",
       "      <td>House / apartment</td>\n",
       "      <td>-10130</td>\n",
       "      <td>-1651</td>\n",
       "      <td>1</td>\n",
       "      <td>0</td>\n",
       "      <td>0</td>\n",
       "      <td>0</td>\n",
       "      <td>Accountants</td>\n",
       "      <td>2.0</td>\n",
       "      <td>-1.0</td>\n",
       "      <td>0</td>\n",
       "    </tr>\n",
       "    <tr>\n",
       "      <th>2</th>\n",
       "      <td>5079079</td>\n",
       "      <td>F</td>\n",
       "      <td>N</td>\n",
       "      <td>Y</td>\n",
       "      <td>2</td>\n",
       "      <td>180000.0</td>\n",
       "      <td>Commercial associate</td>\n",
       "      <td>Secondary / secondary special</td>\n",
       "      <td>Married</td>\n",
       "      <td>House / apartment</td>\n",
       "      <td>-12821</td>\n",
       "      <td>-5657</td>\n",
       "      <td>1</td>\n",
       "      <td>0</td>\n",
       "      <td>0</td>\n",
       "      <td>0</td>\n",
       "      <td>Laborers</td>\n",
       "      <td>4.0</td>\n",
       "      <td>-38.0</td>\n",
       "      <td>0</td>\n",
       "    </tr>\n",
       "    <tr>\n",
       "      <th>3</th>\n",
       "      <td>5112872</td>\n",
       "      <td>F</td>\n",
       "      <td>Y</td>\n",
       "      <td>Y</td>\n",
       "      <td>0</td>\n",
       "      <td>360000.0</td>\n",
       "      <td>Commercial associate</td>\n",
       "      <td>Higher education</td>\n",
       "      <td>Single / not married</td>\n",
       "      <td>House / apartment</td>\n",
       "      <td>-20929</td>\n",
       "      <td>-2046</td>\n",
       "      <td>1</td>\n",
       "      <td>0</td>\n",
       "      <td>0</td>\n",
       "      <td>1</td>\n",
       "      <td>Managers</td>\n",
       "      <td>1.0</td>\n",
       "      <td>-11.0</td>\n",
       "      <td>0</td>\n",
       "    </tr>\n",
       "    <tr>\n",
       "      <th>4</th>\n",
       "      <td>5105858</td>\n",
       "      <td>F</td>\n",
       "      <td>N</td>\n",
       "      <td>N</td>\n",
       "      <td>0</td>\n",
       "      <td>270000.0</td>\n",
       "      <td>Working</td>\n",
       "      <td>Secondary / secondary special</td>\n",
       "      <td>Separated</td>\n",
       "      <td>House / apartment</td>\n",
       "      <td>-16207</td>\n",
       "      <td>-515</td>\n",
       "      <td>1</td>\n",
       "      <td>0</td>\n",
       "      <td>1</td>\n",
       "      <td>0</td>\n",
       "      <td>NaN</td>\n",
       "      <td>1.0</td>\n",
       "      <td>-41.0</td>\n",
       "      <td>0</td>\n",
       "    </tr>\n",
       "  </tbody>\n",
       "</table>\n",
       "</div>"
      ],
      "text/plain": [
       "        ID Gender Has a car Has a property  Children count    Income  \\\n",
       "0  5037048      M         Y              Y               0  135000.0   \n",
       "1  5044630      F         Y              N               1  135000.0   \n",
       "2  5079079      F         N              Y               2  180000.0   \n",
       "3  5112872      F         Y              Y               0  360000.0   \n",
       "4  5105858      F         N              N               0  270000.0   \n",
       "\n",
       "      Employment status                Education level        Marital status  \\\n",
       "0               Working  Secondary / secondary special               Married   \n",
       "1  Commercial associate               Higher education  Single / not married   \n",
       "2  Commercial associate  Secondary / secondary special               Married   \n",
       "3  Commercial associate               Higher education  Single / not married   \n",
       "4               Working  Secondary / secondary special             Separated   \n",
       "\n",
       "            Dwelling    Age  Employment length  Has a mobile phone  \\\n",
       "0       With parents -16271              -3111                   1   \n",
       "1  House / apartment -10130              -1651                   1   \n",
       "2  House / apartment -12821              -5657                   1   \n",
       "3  House / apartment -20929              -2046                   1   \n",
       "4  House / apartment -16207               -515                   1   \n",
       "\n",
       "   Has a work phone  Has a phone  Has an email    Job title  \\\n",
       "0                 0            0             0   Core staff   \n",
       "1                 0            0             0  Accountants   \n",
       "2                 0            0             0     Laborers   \n",
       "3                 0            0             1     Managers   \n",
       "4                 0            1             0          NaN   \n",
       "\n",
       "   Family member count  Account age  Is high risk  \n",
       "0                  2.0        -17.0             0  \n",
       "1                  2.0         -1.0             0  \n",
       "2                  4.0        -38.0             0  \n",
       "3                  1.0        -11.0             0  \n",
       "4                  1.0        -41.0             0  "
      ]
     },
     "execution_count": 2,
     "metadata": {},
     "output_type": "execute_result"
    }
   ],
   "source": [
    "train_df = pd.read_csv('train_data.csv')\n",
    "train_df.head()"
   ]
  },
  {
   "cell_type": "code",
   "execution_count": 3,
   "id": "9c02f823",
   "metadata": {},
   "outputs": [
    {
     "name": "stdout",
     "output_type": "stream",
     "text": [
      "<class 'pandas.core.frame.DataFrame'>\n",
      "RangeIndex: 7292 entries, 0 to 7291\n",
      "Data columns (total 20 columns):\n",
      " #   Column               Non-Null Count  Dtype  \n",
      "---  ------               --------------  -----  \n",
      " 0   ID                   7292 non-null   int64  \n",
      " 1   Gender               7292 non-null   object \n",
      " 2   Has a car            7292 non-null   object \n",
      " 3   Has a property       7292 non-null   object \n",
      " 4   Children count       7292 non-null   int64  \n",
      " 5   Income               7292 non-null   float64\n",
      " 6   Employment status    7292 non-null   object \n",
      " 7   Education level      7292 non-null   object \n",
      " 8   Marital status       7292 non-null   object \n",
      " 9   Dwelling             7292 non-null   object \n",
      " 10  Age                  7292 non-null   int64  \n",
      " 11  Employment length    7292 non-null   int64  \n",
      " 12  Has a mobile phone   7292 non-null   int64  \n",
      " 13  Has a work phone     7292 non-null   int64  \n",
      " 14  Has a phone          7292 non-null   int64  \n",
      " 15  Has an email         7292 non-null   int64  \n",
      " 16  Job title            4996 non-null   object \n",
      " 17  Family member count  7292 non-null   float64\n",
      " 18  Account age          7292 non-null   float64\n",
      " 19  Is high risk         7292 non-null   int64  \n",
      "dtypes: float64(3), int64(9), object(8)\n",
      "memory usage: 1.1+ MB\n"
     ]
    }
   ],
   "source": [
    "test_df = pd.read_csv('test_data.csv')\n",
    "test_df.info()"
   ]
  },
  {
   "cell_type": "code",
   "execution_count": 4,
   "id": "696be3bd",
   "metadata": {},
   "outputs": [
    {
     "name": "stdout",
     "output_type": "stream",
     "text": [
      "<class 'pandas.core.frame.DataFrame'>\n",
      "RangeIndex: 7292 entries, 0 to 7291\n",
      "Data columns (total 20 columns):\n",
      " #   Column               Non-Null Count  Dtype  \n",
      "---  ------               --------------  -----  \n",
      " 0   ID                   7292 non-null   int64  \n",
      " 1   Gender               7292 non-null   object \n",
      " 2   Has a car            7292 non-null   object \n",
      " 3   Has a property       7292 non-null   object \n",
      " 4   Children count       7292 non-null   int64  \n",
      " 5   Income               7292 non-null   float64\n",
      " 6   Employment status    7292 non-null   object \n",
      " 7   Education level      7292 non-null   object \n",
      " 8   Marital status       7292 non-null   object \n",
      " 9   Dwelling             7292 non-null   object \n",
      " 10  Age                  7292 non-null   int64  \n",
      " 11  Employment length    7292 non-null   int64  \n",
      " 12  Has a mobile phone   7292 non-null   int64  \n",
      " 13  Has a work phone     7292 non-null   int64  \n",
      " 14  Has a phone          7292 non-null   int64  \n",
      " 15  Has an email         7292 non-null   int64  \n",
      " 16  Job title            4996 non-null   object \n",
      " 17  Family member count  7292 non-null   float64\n",
      " 18  Account age          7292 non-null   float64\n",
      " 19  Is high risk         7292 non-null   int64  \n",
      "dtypes: float64(3), int64(9), object(8)\n",
      "memory usage: 1.1+ MB\n"
     ]
    }
   ],
   "source": [
    "# testing data information\n",
    "test_df.info()"
   ]
  },
  {
   "cell_type": "code",
   "execution_count": 5,
   "id": "729ac58a",
   "metadata": {},
   "outputs": [
    {
     "data": {
      "text/plain": [
       "ID                        0\n",
       "Gender                    0\n",
       "Has a car                 0\n",
       "Has a property            0\n",
       "Children count            0\n",
       "Income                    0\n",
       "Employment status         0\n",
       "Education level           0\n",
       "Marital status            0\n",
       "Dwelling                  0\n",
       "Age                       0\n",
       "Employment length         0\n",
       "Has a mobile phone        0\n",
       "Has a work phone          0\n",
       "Has a phone               0\n",
       "Has an email              0\n",
       "Job title              9027\n",
       "Family member count       0\n",
       "Account age               0\n",
       "Is high risk              0\n",
       "dtype: int64"
      ]
     },
     "execution_count": 5,
     "metadata": {},
     "output_type": "execute_result"
    }
   ],
   "source": [
    "# training data null values\n",
    "train_df.isna().sum()"
   ]
  },
  {
   "cell_type": "code",
   "execution_count": 6,
   "id": "e059558d",
   "metadata": {},
   "outputs": [
    {
     "data": {
      "text/plain": [
       "['Job title']"
      ]
     },
     "execution_count": 6,
     "metadata": {},
     "output_type": "execute_result"
    }
   ],
   "source": [
    "[feature for feature in train_df.columns if train_df[feature].isna().sum()>0]"
   ]
  },
  {
   "cell_type": "code",
   "execution_count": 7,
   "id": "e0b2e0b8",
   "metadata": {},
   "outputs": [
    {
     "data": {
      "text/plain": [
       "ID                        0\n",
       "Gender                    0\n",
       "Has a car                 0\n",
       "Has a property            0\n",
       "Children count            0\n",
       "Income                    0\n",
       "Employment status         0\n",
       "Education level           0\n",
       "Marital status            0\n",
       "Dwelling                  0\n",
       "Age                       0\n",
       "Employment length         0\n",
       "Has a mobile phone        0\n",
       "Has a work phone          0\n",
       "Has a phone               0\n",
       "Has an email              0\n",
       "Job title              2296\n",
       "Family member count       0\n",
       "Account age               0\n",
       "Is high risk              0\n",
       "dtype: int64"
      ]
     },
     "execution_count": 7,
     "metadata": {},
     "output_type": "execute_result"
    }
   ],
   "source": [
    "# testing data null values\n",
    "test_df.isna().sum()"
   ]
  },
  {
   "cell_type": "code",
   "execution_count": 8,
   "id": "c467f040",
   "metadata": {},
   "outputs": [
    {
     "data": {
      "text/plain": [
       "['Job title']"
      ]
     },
     "execution_count": 8,
     "metadata": {},
     "output_type": "execute_result"
    }
   ],
   "source": [
    "[feature for feature in test_df.columns if test_df[feature].isna().sum()>0]"
   ]
  },
  {
   "cell_type": "markdown",
   "id": "89625de9",
   "metadata": {},
   "source": [
    "# "
   ]
  },
  {
   "cell_type": "markdown",
   "id": "88f848ca",
   "metadata": {},
   "source": [
    "# Appending data into single data frame"
   ]
  },
  {
   "cell_type": "code",
   "execution_count": 9,
   "id": "2bd25076",
   "metadata": {},
   "outputs": [
    {
     "data": {
      "text/html": [
       "<div>\n",
       "<style scoped>\n",
       "    .dataframe tbody tr th:only-of-type {\n",
       "        vertical-align: middle;\n",
       "    }\n",
       "\n",
       "    .dataframe tbody tr th {\n",
       "        vertical-align: top;\n",
       "    }\n",
       "\n",
       "    .dataframe thead th {\n",
       "        text-align: right;\n",
       "    }\n",
       "</style>\n",
       "<table border=\"1\" class=\"dataframe\">\n",
       "  <thead>\n",
       "    <tr style=\"text-align: right;\">\n",
       "      <th></th>\n",
       "      <th>ID</th>\n",
       "      <th>Gender</th>\n",
       "      <th>Has a car</th>\n",
       "      <th>Has a property</th>\n",
       "      <th>Children count</th>\n",
       "      <th>Income</th>\n",
       "      <th>Employment status</th>\n",
       "      <th>Education level</th>\n",
       "      <th>Marital status</th>\n",
       "      <th>Dwelling</th>\n",
       "      <th>Age</th>\n",
       "      <th>Employment length</th>\n",
       "      <th>Has a mobile phone</th>\n",
       "      <th>Has a work phone</th>\n",
       "      <th>Has a phone</th>\n",
       "      <th>Has an email</th>\n",
       "      <th>Job title</th>\n",
       "      <th>Family member count</th>\n",
       "      <th>Account age</th>\n",
       "      <th>Is high risk</th>\n",
       "    </tr>\n",
       "  </thead>\n",
       "  <tbody>\n",
       "    <tr>\n",
       "      <th>0</th>\n",
       "      <td>5037048</td>\n",
       "      <td>M</td>\n",
       "      <td>Y</td>\n",
       "      <td>Y</td>\n",
       "      <td>0</td>\n",
       "      <td>135000.0</td>\n",
       "      <td>Working</td>\n",
       "      <td>Secondary / secondary special</td>\n",
       "      <td>Married</td>\n",
       "      <td>With parents</td>\n",
       "      <td>-16271</td>\n",
       "      <td>-3111</td>\n",
       "      <td>1</td>\n",
       "      <td>0</td>\n",
       "      <td>0</td>\n",
       "      <td>0</td>\n",
       "      <td>Core staff</td>\n",
       "      <td>2.0</td>\n",
       "      <td>-17.0</td>\n",
       "      <td>0</td>\n",
       "    </tr>\n",
       "    <tr>\n",
       "      <th>1</th>\n",
       "      <td>5044630</td>\n",
       "      <td>F</td>\n",
       "      <td>Y</td>\n",
       "      <td>N</td>\n",
       "      <td>1</td>\n",
       "      <td>135000.0</td>\n",
       "      <td>Commercial associate</td>\n",
       "      <td>Higher education</td>\n",
       "      <td>Single / not married</td>\n",
       "      <td>House / apartment</td>\n",
       "      <td>-10130</td>\n",
       "      <td>-1651</td>\n",
       "      <td>1</td>\n",
       "      <td>0</td>\n",
       "      <td>0</td>\n",
       "      <td>0</td>\n",
       "      <td>Accountants</td>\n",
       "      <td>2.0</td>\n",
       "      <td>-1.0</td>\n",
       "      <td>0</td>\n",
       "    </tr>\n",
       "    <tr>\n",
       "      <th>2</th>\n",
       "      <td>5079079</td>\n",
       "      <td>F</td>\n",
       "      <td>N</td>\n",
       "      <td>Y</td>\n",
       "      <td>2</td>\n",
       "      <td>180000.0</td>\n",
       "      <td>Commercial associate</td>\n",
       "      <td>Secondary / secondary special</td>\n",
       "      <td>Married</td>\n",
       "      <td>House / apartment</td>\n",
       "      <td>-12821</td>\n",
       "      <td>-5657</td>\n",
       "      <td>1</td>\n",
       "      <td>0</td>\n",
       "      <td>0</td>\n",
       "      <td>0</td>\n",
       "      <td>Laborers</td>\n",
       "      <td>4.0</td>\n",
       "      <td>-38.0</td>\n",
       "      <td>0</td>\n",
       "    </tr>\n",
       "    <tr>\n",
       "      <th>3</th>\n",
       "      <td>5112872</td>\n",
       "      <td>F</td>\n",
       "      <td>Y</td>\n",
       "      <td>Y</td>\n",
       "      <td>0</td>\n",
       "      <td>360000.0</td>\n",
       "      <td>Commercial associate</td>\n",
       "      <td>Higher education</td>\n",
       "      <td>Single / not married</td>\n",
       "      <td>House / apartment</td>\n",
       "      <td>-20929</td>\n",
       "      <td>-2046</td>\n",
       "      <td>1</td>\n",
       "      <td>0</td>\n",
       "      <td>0</td>\n",
       "      <td>1</td>\n",
       "      <td>Managers</td>\n",
       "      <td>1.0</td>\n",
       "      <td>-11.0</td>\n",
       "      <td>0</td>\n",
       "    </tr>\n",
       "    <tr>\n",
       "      <th>4</th>\n",
       "      <td>5105858</td>\n",
       "      <td>F</td>\n",
       "      <td>N</td>\n",
       "      <td>N</td>\n",
       "      <td>0</td>\n",
       "      <td>270000.0</td>\n",
       "      <td>Working</td>\n",
       "      <td>Secondary / secondary special</td>\n",
       "      <td>Separated</td>\n",
       "      <td>House / apartment</td>\n",
       "      <td>-16207</td>\n",
       "      <td>-515</td>\n",
       "      <td>1</td>\n",
       "      <td>0</td>\n",
       "      <td>1</td>\n",
       "      <td>0</td>\n",
       "      <td>NaN</td>\n",
       "      <td>1.0</td>\n",
       "      <td>-41.0</td>\n",
       "      <td>0</td>\n",
       "    </tr>\n",
       "  </tbody>\n",
       "</table>\n",
       "</div>"
      ],
      "text/plain": [
       "        ID Gender Has a car Has a property  Children count    Income  \\\n",
       "0  5037048      M         Y              Y               0  135000.0   \n",
       "1  5044630      F         Y              N               1  135000.0   \n",
       "2  5079079      F         N              Y               2  180000.0   \n",
       "3  5112872      F         Y              Y               0  360000.0   \n",
       "4  5105858      F         N              N               0  270000.0   \n",
       "\n",
       "      Employment status                Education level        Marital status  \\\n",
       "0               Working  Secondary / secondary special               Married   \n",
       "1  Commercial associate               Higher education  Single / not married   \n",
       "2  Commercial associate  Secondary / secondary special               Married   \n",
       "3  Commercial associate               Higher education  Single / not married   \n",
       "4               Working  Secondary / secondary special             Separated   \n",
       "\n",
       "            Dwelling    Age  Employment length  Has a mobile phone  \\\n",
       "0       With parents -16271              -3111                   1   \n",
       "1  House / apartment -10130              -1651                   1   \n",
       "2  House / apartment -12821              -5657                   1   \n",
       "3  House / apartment -20929              -2046                   1   \n",
       "4  House / apartment -16207               -515                   1   \n",
       "\n",
       "   Has a work phone  Has a phone  Has an email    Job title  \\\n",
       "0                 0            0             0   Core staff   \n",
       "1                 0            0             0  Accountants   \n",
       "2                 0            0             0     Laborers   \n",
       "3                 0            0             1     Managers   \n",
       "4                 0            1             0          NaN   \n",
       "\n",
       "   Family member count  Account age  Is high risk  \n",
       "0                  2.0        -17.0             0  \n",
       "1                  2.0         -1.0             0  \n",
       "2                  4.0        -38.0             0  \n",
       "3                  1.0        -11.0             0  \n",
       "4                  1.0        -41.0             0  "
      ]
     },
     "execution_count": 9,
     "metadata": {},
     "output_type": "execute_result"
    }
   ],
   "source": [
    "# here we are appending test data to train data\n",
    "# so that it is easy for us to explore whole data\n",
    "df = train_df.append(test_df)\n",
    "df.head()"
   ]
  },
  {
   "cell_type": "code",
   "execution_count": 10,
   "id": "dc19c910",
   "metadata": {},
   "outputs": [
    {
     "name": "stdout",
     "output_type": "stream",
     "text": [
      "<class 'pandas.core.frame.DataFrame'>\n",
      "Int64Index: 36457 entries, 0 to 7291\n",
      "Data columns (total 20 columns):\n",
      " #   Column               Non-Null Count  Dtype  \n",
      "---  ------               --------------  -----  \n",
      " 0   ID                   36457 non-null  int64  \n",
      " 1   Gender               36457 non-null  object \n",
      " 2   Has a car            36457 non-null  object \n",
      " 3   Has a property       36457 non-null  object \n",
      " 4   Children count       36457 non-null  int64  \n",
      " 5   Income               36457 non-null  float64\n",
      " 6   Employment status    36457 non-null  object \n",
      " 7   Education level      36457 non-null  object \n",
      " 8   Marital status       36457 non-null  object \n",
      " 9   Dwelling             36457 non-null  object \n",
      " 10  Age                  36457 non-null  int64  \n",
      " 11  Employment length    36457 non-null  int64  \n",
      " 12  Has a mobile phone   36457 non-null  int64  \n",
      " 13  Has a work phone     36457 non-null  int64  \n",
      " 14  Has a phone          36457 non-null  int64  \n",
      " 15  Has an email         36457 non-null  int64  \n",
      " 16  Job title            25134 non-null  object \n",
      " 17  Family member count  36457 non-null  float64\n",
      " 18  Account age          36457 non-null  float64\n",
      " 19  Is high risk         36457 non-null  int64  \n",
      "dtypes: float64(3), int64(9), object(8)\n",
      "memory usage: 5.8+ MB\n"
     ]
    }
   ],
   "source": [
    "df.info()"
   ]
  },
  {
   "cell_type": "code",
   "execution_count": 11,
   "id": "a0336812",
   "metadata": {},
   "outputs": [
    {
     "data": {
      "text/plain": [
       "ID                         0\n",
       "Gender                     0\n",
       "Has a car                  0\n",
       "Has a property             0\n",
       "Children count             0\n",
       "Income                     0\n",
       "Employment status          0\n",
       "Education level            0\n",
       "Marital status             0\n",
       "Dwelling                   0\n",
       "Age                        0\n",
       "Employment length          0\n",
       "Has a mobile phone         0\n",
       "Has a work phone           0\n",
       "Has a phone                0\n",
       "Has an email               0\n",
       "Job title              11323\n",
       "Family member count        0\n",
       "Account age                0\n",
       "Is high risk               0\n",
       "dtype: int64"
      ]
     },
     "execution_count": 11,
     "metadata": {},
     "output_type": "execute_result"
    }
   ],
   "source": [
    "# whole dataset null values\n",
    "df.isna().sum()"
   ]
  },
  {
   "cell_type": "code",
   "execution_count": 12,
   "id": "765f3261",
   "metadata": {},
   "outputs": [],
   "source": [
    "# separating numerical and categorical variables\n",
    "num = df.select_dtypes(include='number')\n",
    "cat = df.select_dtypes(include='object')"
   ]
  },
  {
   "cell_type": "code",
   "execution_count": 13,
   "id": "0c1c37a6",
   "metadata": {},
   "outputs": [
    {
     "data": {
      "text/plain": [
       "Index(['ID', 'Children count', 'Income', 'Age', 'Employment length',\n",
       "       'Has a mobile phone', 'Has a work phone', 'Has a phone', 'Has an email',\n",
       "       'Family member count', 'Account age', 'Is high risk'],\n",
       "      dtype='object')"
      ]
     },
     "execution_count": 13,
     "metadata": {},
     "output_type": "execute_result"
    }
   ],
   "source": [
    "num.columns"
   ]
  },
  {
   "cell_type": "code",
   "execution_count": 14,
   "id": "ff8ca8ee",
   "metadata": {},
   "outputs": [
    {
     "data": {
      "text/plain": [
       "Index(['Gender', 'Has a car', 'Has a property', 'Employment status',\n",
       "       'Education level', 'Marital status', 'Dwelling', 'Job title'],\n",
       "      dtype='object')"
      ]
     },
     "execution_count": 14,
     "metadata": {},
     "output_type": "execute_result"
    }
   ],
   "source": [
    "cat.columns"
   ]
  },
  {
   "cell_type": "code",
   "execution_count": null,
   "id": "7333c88f",
   "metadata": {},
   "outputs": [],
   "source": []
  },
  {
   "cell_type": "markdown",
   "id": "6286a27e",
   "metadata": {},
   "source": [
    "# "
   ]
  },
  {
   "cell_type": "markdown",
   "id": "b70f2918",
   "metadata": {},
   "source": [
    "# 3. Getting insight from data(categorical variables) "
   ]
  },
  {
   "cell_type": "code",
   "execution_count": 15,
   "id": "ccc22a78",
   "metadata": {},
   "outputs": [
    {
     "data": {
      "text/plain": [
       "Index(['Gender', 'Has a car', 'Has a property', 'Employment status',\n",
       "       'Education level', 'Marital status', 'Dwelling', 'Job title'],\n",
       "      dtype='object')"
      ]
     },
     "execution_count": 15,
     "metadata": {},
     "output_type": "execute_result"
    }
   ],
   "source": [
    "cat.columns"
   ]
  },
  {
   "cell_type": "markdown",
   "id": "cd50a9e3",
   "metadata": {},
   "source": [
    "### 1.Gender"
   ]
  },
  {
   "cell_type": "code",
   "execution_count": 16,
   "id": "1fcf14ac",
   "metadata": {},
   "outputs": [
    {
     "data": {
      "text/plain": [
       "<AxesSubplot:xlabel='Is high risk', ylabel='count'>"
      ]
     },
     "execution_count": 16,
     "metadata": {},
     "output_type": "execute_result"
    },
    {
     "data": {
      "image/png": "[encoded data removed]",
      "text/plain": [
       "<Figure size 432x288 with 1 Axes>"
      ]
     },
     "metadata": {
      "needs_background": "light"
     },
     "output_type": "display_data"
    }
   ],
   "source": [
    "sns.countplot('Is high risk',hue='Gender',data=df)\n",
    "# Observation :- \n",
    "# In a total number of 'no risky applicants', 'females' are more than the 'males'.\n",
    "# 'females' candidates have more chances of getting credit card approved\n",
    "# we also see, it is an imbalanced data,that might affect our accuracy, so we need to handle this."
   ]
  },
  {
   "cell_type": "markdown",
   "id": "e909a167",
   "metadata": {},
   "source": [
    "### 2. Marital status"
   ]
  },
  {
   "cell_type": "code",
   "execution_count": 17,
   "id": "d6d215ff",
   "metadata": {},
   "outputs": [
    {
     "data": {
      "text/plain": [
       "<AxesSubplot:xlabel='Is high risk', ylabel='count'>"
      ]
     },
     "execution_count": 17,
     "metadata": {},
     "output_type": "execute_result"
    },
    {
     "data": {
      "image/png": "[encoded data removed]",
      "text/plain": [
       "<Figure size 432x288 with 1 Axes>"
      ]
     },
     "metadata": {
      "needs_background": "light"
     },
     "output_type": "display_data"
    }
   ],
   "source": [
    "sns.countplot('Is high risk',hue='Marital status',data=df)\n",
    "# Observation :- \n",
    "# Possibility of a 'married' applicant to approve credit card is higher.\n",
    "# 'Married' applicants bears low risk, followed by 'single/non married' applicants."
   ]
  },
  {
   "cell_type": "markdown",
   "id": "bcfe7724",
   "metadata": {},
   "source": [
    "### 3. Has a car"
   ]
  },
  {
   "cell_type": "code",
   "execution_count": 18,
   "id": "84159609",
   "metadata": {},
   "outputs": [
    {
     "data": {
      "text/plain": [
       "<AxesSubplot:xlabel='Is high risk', ylabel='count'>"
      ]
     },
     "execution_count": 18,
     "metadata": {},
     "output_type": "execute_result"
    },
    {
     "data": {
      "image/png": "[encoded data removed]",
      "text/plain": [
       "<Figure size 432x288 with 1 Axes>"
      ]
     },
     "metadata": {
      "needs_background": "light"
     },
     "output_type": "display_data"
    }
   ],
   "source": [
    "sns.countplot('Is high risk',hue='Has a car',data=df)\n",
    "# Observations :-\n",
    "# Credit card approved for applicants 'with no car' is highet,as they bears a lower risk"
   ]
  },
  {
   "cell_type": "code",
   "execution_count": 19,
   "id": "43a968a8",
   "metadata": {},
   "outputs": [
    {
     "data": {
      "text/plain": [
       "<AxesSubplot:xlabel='Has a car', ylabel='count'>"
      ]
     },
     "execution_count": 19,
     "metadata": {},
     "output_type": "execute_result"
    },
    {
     "data": {
      "image/png": "[encoded data removed]",
      "text/plain": [
       "<Figure size 432x288 with 1 Axes>"
      ]
     },
     "metadata": {
      "needs_background": "light"
     },
     "output_type": "display_data"
    }
   ],
   "source": [
    "sns.countplot('Has a car',hue='Gender',data=df)\n",
    "\n",
    "# Observations :-\n",
    "# There are more 'male' candidate that posses car than 'female' candidate."
   ]
  },
  {
   "cell_type": "markdown",
   "id": "703d9825",
   "metadata": {},
   "source": [
    "### 4. Employment status"
   ]
  },
  {
   "cell_type": "code",
   "execution_count": 20,
   "id": "879e364b",
   "metadata": {},
   "outputs": [
    {
     "name": "stdout",
     "output_type": "stream",
     "text": [
      "Working                 18819\n",
      "Commercial associate     8490\n",
      "Pensioner                6152\n",
      "State servant            2985\n",
      "Student                    11\n",
      "Name: Employment status, dtype: int64\n"
     ]
    },
    {
     "data": {
      "text/plain": [
       "<AxesSubplot:xlabel='Is high risk', ylabel='count'>"
      ]
     },
     "execution_count": 20,
     "metadata": {},
     "output_type": "execute_result"
    },
    {
     "data": {
      "image/png": "[encoded data removed]",
      "text/plain": [
       "<Figure size 432x288 with 1 Axes>"
      ]
     },
     "metadata": {
      "needs_background": "light"
     },
     "output_type": "display_data"
    }
   ],
   "source": [
    "print(df['Employment status'].value_counts())\n",
    "sns.countplot('Is high risk', hue='Employment status',data=df)\n",
    "\n",
    "# observations:-\n",
    "# 'Students' have no chance of getting loan approved.\n",
    "# we can also say that not much records are available for 'students'.\n",
    "# 'Working' are more in number in dataset, and also has a higher chances of getting credit card approved. "
   ]
  },
  {
   "cell_type": "markdown",
   "id": "b76fff59",
   "metadata": {},
   "source": [
    "### 5. Education level"
   ]
  },
  {
   "cell_type": "code",
   "execution_count": 21,
   "id": "63339eca",
   "metadata": {},
   "outputs": [
    {
     "name": "stdout",
     "output_type": "stream",
     "text": [
      "Secondary / secondary special    24777\n",
      "Higher education                  9864\n",
      "Incomplete higher                 1410\n",
      "Lower secondary                    374\n",
      "Academic degree                     32\n",
      "Name: Education level, dtype: int64\n"
     ]
    },
    {
     "data": {
      "text/plain": [
       "<AxesSubplot:xlabel='Is high risk', ylabel='count'>"
      ]
     },
     "execution_count": 21,
     "metadata": {},
     "output_type": "execute_result"
    },
    {
     "data": {
      "image/png": "[encoded data removed]",
      "text/plain": [
       "<Figure size 432x288 with 1 Axes>"
      ]
     },
     "metadata": {
      "needs_background": "light"
     },
     "output_type": "display_data"
    }
   ],
   "source": [
    "print(df['Education level'].value_counts())\n",
    "sns.countplot('Is high risk',hue='Education level',data=df)\n",
    "\n",
    "# Observations :-\n",
    "# 'Secondary / secondary special' has a low risky applicants, so the possibility to get credit card approved is higher.\n",
    "# followed by 'higher education'.\n",
    "# Very low data is available for 'Academic degree' and 'Lower secondary' education level."
   ]
  },
  {
   "cell_type": "code",
   "execution_count": 22,
   "id": "57d40498",
   "metadata": {},
   "outputs": [
    {
     "data": {
      "text/plain": [
       "<AxesSubplot:xlabel='Education level', ylabel='count'>"
      ]
     },
     "execution_count": 22,
     "metadata": {},
     "output_type": "execute_result"
    },
    {
     "data": {
      "image/png": "[encoded data removed]",
      "text/plain": [
       "<Figure size 720x432 with 1 Axes>"
      ]
     },
     "metadata": {
      "needs_background": "light"
     },
     "output_type": "display_data"
    }
   ],
   "source": [
    "plt.figure(figsize=(10,6))\n",
    "sns.countplot('Education level',hue='Gender',data=df)\n",
    "\n",
    "# Observations :- \n",
    "# 'Secondary / secondary special, Higher education, Lower secondary, Academic degree' , in below mention category,\n",
    "# we can say that, more number of 'females' are educated than 'male'."
   ]
  },
  {
   "cell_type": "markdown",
   "id": "30dcdfff",
   "metadata": {},
   "source": [
    "### 6. Has a property"
   ]
  },
  {
   "cell_type": "code",
   "execution_count": 23,
   "id": "1070e7b2",
   "metadata": {},
   "outputs": [
    {
     "name": "stdout",
     "output_type": "stream",
     "text": [
      "Y    24506\n",
      "N    11951\n",
      "Name: Has a property, dtype: int64\n"
     ]
    },
    {
     "data": {
      "text/plain": [
       "<AxesSubplot:xlabel='Is high risk', ylabel='count'>"
      ]
     },
     "execution_count": 23,
     "metadata": {},
     "output_type": "execute_result"
    },
    {
     "data": {
      "image/png": "[encoded data removed]",
      "text/plain": [
       "<Figure size 432x288 with 1 Axes>"
      ]
     },
     "metadata": {
      "needs_background": "light"
     },
     "output_type": "display_data"
    }
   ],
   "source": [
    "print(df['Has a property'].value_counts())\n",
    "sns.countplot('Is high risk',hue='Has a property',data=df)\n",
    "# Observations :- \n",
    "# Applicant 'with a propert'y have higher chance of getting credit card approved that applicant with 'no property'"
   ]
  },
  {
   "cell_type": "code",
   "execution_count": 24,
   "id": "6905041c",
   "metadata": {},
   "outputs": [
    {
     "name": "stdout",
     "output_type": "stream",
     "text": [
      "Y    24506\n",
      "N    11951\n",
      "Name: Has a property, dtype: int64\n"
     ]
    },
    {
     "data": {
      "text/plain": [
       "<AxesSubplot:xlabel='Gender', ylabel='count'>"
      ]
     },
     "execution_count": 24,
     "metadata": {},
     "output_type": "execute_result"
    },
    {
     "data": {
      "image/png": "[encoded data removed]",
      "text/plain": [
       "<Figure size 432x288 with 1 Axes>"
      ]
     },
     "metadata": {
      "needs_background": "light"
     },
     "output_type": "display_data"
    }
   ],
   "source": [
    "print(df['Has a property'].value_counts())\n",
    "sns.countplot('Gender',hue='Has a property',data=df)"
   ]
  },
  {
   "cell_type": "markdown",
   "id": "34ea5ab8",
   "metadata": {},
   "source": [
    "### 7. Dwelling"
   ]
  },
  {
   "cell_type": "code",
   "execution_count": 25,
   "id": "df4dd130",
   "metadata": {},
   "outputs": [
    {
     "name": "stdout",
     "output_type": "stream",
     "text": [
      "House / apartment      32548\n",
      "With parents            1776\n",
      "Municipal apartment     1128\n",
      "Rented apartment         575\n",
      "Office apartment         262\n",
      "Co-op apartment          168\n",
      "Name: Dwelling, dtype: int64\n"
     ]
    },
    {
     "data": {
      "text/plain": [
       "<AxesSubplot:xlabel='Is high risk', ylabel='count'>"
      ]
     },
     "execution_count": 25,
     "metadata": {},
     "output_type": "execute_result"
    },
    {
     "data": {
      "image/png": "[encoded data removed]",
      "text/plain": [
       "<Figure size 720x432 with 1 Axes>"
      ]
     },
     "metadata": {
      "needs_background": "light"
     },
     "output_type": "display_data"
    }
   ],
   "source": [
    "print(df['Dwelling'].value_counts())\n",
    "plt.figure(figsize=(10,6))\n",
    "sns.countplot('Is high risk',hue='Dwelling',data=df)\n",
    "\n",
    "# Observations :-\n",
    "# More data is available for applicant with 'house / apartment'.\n",
    "# Applicant with 'house / apartment' have more chances of credit card approval."
   ]
  },
  {
   "cell_type": "code",
   "execution_count": 26,
   "id": "4afa6caa",
   "metadata": {},
   "outputs": [
    {
     "data": {
      "text/plain": [
       "Index(['Gender', 'Has a car', 'Has a property', 'Employment status',\n",
       "       'Education level', 'Marital status', 'Dwelling', 'Job title'],\n",
       "      dtype='object')"
      ]
     },
     "execution_count": 26,
     "metadata": {},
     "output_type": "execute_result"
    }
   ],
   "source": [
    "cat.columns"
   ]
  },
  {
   "cell_type": "markdown",
   "id": "7c20c731",
   "metadata": {},
   "source": [
    "### 8. Job title"
   ]
  },
  {
   "cell_type": "code",
   "execution_count": 27,
   "id": "dccdf121",
   "metadata": {},
   "outputs": [
    {
     "name": "stdout",
     "output_type": "stream",
     "text": [
      "{'Laborers': 6211, 'Core staff': 3591, 'Sales staff': 3485, 'Managers': 3012, 'Drivers': 2138, 'High skill tech staff': 1383, 'Accountants': 1241, 'Medicine staff': 1207, 'Cooking staff': 655, 'Security staff': 592, 'Cleaning staff': 551, 'Private service staff': 344, 'Low-skill Laborers': 175, 'Waiters/barmen staff': 174, 'Secretaries': 151, 'HR staff': 85, 'Realty agents': 79, 'IT staff': 60}\n"
     ]
    },
    {
     "data": {
      "text/plain": [
       "<AxesSubplot:xlabel='Is high risk', ylabel='count'>"
      ]
     },
     "execution_count": 27,
     "metadata": {},
     "output_type": "execute_result"
    },
    {
     "data": {
      "image/png": "[encoded data removed]",
      "text/plain": [
       "<Figure size 720x432 with 1 Axes>"
      ]
     },
     "metadata": {
      "needs_background": "light"
     },
     "output_type": "display_data"
    }
   ],
   "source": [
    "print(df['Job title'].value_counts().to_dict())\n",
    "plt.figure(figsize=(10,6))\n",
    "sns.countplot('Is high risk',hue='Job title',data=df)\n",
    "\n",
    "# Observations :- \n",
    "# 'Laborers' are more in number in dataset, followed by 'Cire staff'.\n",
    "# 'Laborers' are low risky applicants"
   ]
  },
  {
   "cell_type": "markdown",
   "id": "b0485926",
   "metadata": {},
   "source": [
    "# "
   ]
  },
  {
   "cell_type": "code",
   "execution_count": 28,
   "id": "a2f1a167",
   "metadata": {},
   "outputs": [
    {
     "data": {
      "text/plain": [
       "Index(['ID', 'Children count', 'Income', 'Age', 'Employment length',\n",
       "       'Has a mobile phone', 'Has a work phone', 'Has a phone', 'Has an email',\n",
       "       'Family member count', 'Account age', 'Is high risk'],\n",
       "      dtype='object')"
      ]
     },
     "execution_count": 28,
     "metadata": {},
     "output_type": "execute_result"
    }
   ],
   "source": [
    "num.columns"
   ]
  },
  {
   "cell_type": "markdown",
   "id": "a09333c7",
   "metadata": {},
   "source": [
    "### 1. Children count"
   ]
  },
  {
   "cell_type": "code",
   "execution_count": 29,
   "id": "055a1c6f",
   "metadata": {},
   "outputs": [
    {
     "name": "stdout",
     "output_type": "stream",
     "text": [
      "0     25201\n",
      "1      7492\n",
      "2      3256\n",
      "3       419\n",
      "4        63\n",
      "5        20\n",
      "14        3\n",
      "7         2\n",
      "19        1\n",
      "Name: Children count, dtype: int64\n"
     ]
    },
    {
     "data": {
      "text/plain": [
       "<AxesSubplot:xlabel='Is high risk', ylabel='count'>"
      ]
     },
     "execution_count": 29,
     "metadata": {},
     "output_type": "execute_result"
    },
    {
     "data": {
      "image/png": "[encoded data removed]",
      "text/plain": [
       "<Figure size 720x432 with 1 Axes>"
      ]
     },
     "metadata": {
      "needs_background": "light"
     },
     "output_type": "display_data"
    }
   ],
   "source": [
    "print(df['Children count'].value_counts())\n",
    "plt.figure(figsize=(10,6))\n",
    "sns.countplot('Is high risk',hue='Children count',data=df)\n",
    "\n",
    "# Observations :-\n",
    "# More data available for applicants with zero children.\n",
    "# Applicant with zero children have more chances of getting credit card approved.\n",
    "# "
   ]
  },
  {
   "cell_type": "markdown",
   "id": "efcf8f23",
   "metadata": {},
   "source": [
    "# "
   ]
  },
  {
   "cell_type": "markdown",
   "id": "65ceae83",
   "metadata": {},
   "source": [
    "# 4. EDA"
   ]
  },
  {
   "cell_type": "code",
   "execution_count": 30,
   "id": "a042f1cf",
   "metadata": {},
   "outputs": [
    {
     "name": "stdout",
     "output_type": "stream",
     "text": [
      "<class 'pandas.core.frame.DataFrame'>\n",
      "Int64Index: 36457 entries, 0 to 7291\n",
      "Data columns (total 20 columns):\n",
      " #   Column               Non-Null Count  Dtype  \n",
      "---  ------               --------------  -----  \n",
      " 0   ID                   36457 non-null  int64  \n",
      " 1   Gender               36457 non-null  object \n",
      " 2   Has a car            36457 non-null  object \n",
      " 3   Has a property       36457 non-null  object \n",
      " 4   Children count       36457 non-null  int64  \n",
      " 5   Income               36457 non-null  float64\n",
      " 6   Employment status    36457 non-null  object \n",
      " 7   Education level      36457 non-null  object \n",
      " 8   Marital status       36457 non-null  object \n",
      " 9   Dwelling             36457 non-null  object \n",
      " 10  Age                  36457 non-null  int64  \n",
      " 11  Employment length    36457 non-null  int64  \n",
      " 12  Has a mobile phone   36457 non-null  int64  \n",
      " 13  Has a work phone     36457 non-null  int64  \n",
      " 14  Has a phone          36457 non-null  int64  \n",
      " 15  Has an email         36457 non-null  int64  \n",
      " 16  Job title            25134 non-null  object \n",
      " 17  Family member count  36457 non-null  float64\n",
      " 18  Account age          36457 non-null  float64\n",
      " 19  Is high risk         36457 non-null  int64  \n",
      "dtypes: float64(3), int64(9), object(8)\n",
      "memory usage: 5.8+ MB\n"
     ]
    }
   ],
   "source": [
    "df.info()"
   ]
  },
  {
   "cell_type": "code",
   "execution_count": 31,
   "id": "4f420e66",
   "metadata": {},
   "outputs": [],
   "source": [
    "# We dont need 'ID' column, so we are dropping it.\n",
    "# There is unique Id for every customer.\n",
    "df.drop('ID',axis=1,inplace=True)"
   ]
  },
  {
   "cell_type": "markdown",
   "id": "aa13366e",
   "metadata": {},
   "source": [
    "### 1. Gender"
   ]
  },
  {
   "cell_type": "code",
   "execution_count": 32,
   "id": "161c2787",
   "metadata": {},
   "outputs": [
    {
     "data": {
      "text/plain": [
       "F    24430\n",
       "M    12027\n",
       "Name: Gender, dtype: int64"
      ]
     },
     "execution_count": 32,
     "metadata": {},
     "output_type": "execute_result"
    }
   ],
   "source": [
    "df['Gender'].value_counts()"
   ]
  },
  {
   "cell_type": "code",
   "execution_count": 33,
   "id": "452e2d23",
   "metadata": {},
   "outputs": [],
   "source": [
    "df['Gender'] = df['Gender'].replace({'F' : 0, 'M' : 1})"
   ]
  },
  {
   "cell_type": "code",
   "execution_count": 34,
   "id": "96e9b766",
   "metadata": {},
   "outputs": [
    {
     "name": "stdout",
     "output_type": "stream",
     "text": [
      "<class 'pandas.core.series.Series'>\n",
      "Int64Index: 36457 entries, 0 to 7291\n",
      "Series name: Gender\n",
      "Non-Null Count  Dtype\n",
      "--------------  -----\n",
      "36457 non-null  int64\n",
      "dtypes: int64(1)\n",
      "memory usage: 569.6 KB\n"
     ]
    }
   ],
   "source": [
    "df['Gender'].info()"
   ]
  },
  {
   "cell_type": "markdown",
   "id": "d432bc16",
   "metadata": {},
   "source": [
    "### 2. Has a car"
   ]
  },
  {
   "cell_type": "code",
   "execution_count": 35,
   "id": "a154cce3",
   "metadata": {},
   "outputs": [
    {
     "data": {
      "text/plain": [
       "N    22614\n",
       "Y    13843\n",
       "Name: Has a car, dtype: int64"
      ]
     },
     "execution_count": 35,
     "metadata": {},
     "output_type": "execute_result"
    }
   ],
   "source": [
    "df['Has a car'].value_counts()"
   ]
  },
  {
   "cell_type": "code",
   "execution_count": 36,
   "id": "416d4d11",
   "metadata": {},
   "outputs": [],
   "source": [
    "df['Has a car'] = df['Has a car'].replace({'N' : 0, 'Y' : 1})"
   ]
  },
  {
   "cell_type": "code",
   "execution_count": 37,
   "id": "81285551",
   "metadata": {},
   "outputs": [
    {
     "name": "stdout",
     "output_type": "stream",
     "text": [
      "<class 'pandas.core.series.Series'>\n",
      "Int64Index: 36457 entries, 0 to 7291\n",
      "Series name: Has a car\n",
      "Non-Null Count  Dtype\n",
      "--------------  -----\n",
      "36457 non-null  int64\n",
      "dtypes: int64(1)\n",
      "memory usage: 569.6 KB\n"
     ]
    }
   ],
   "source": [
    "df['Has a car'].info()"
   ]
  },
  {
   "cell_type": "markdown",
   "id": "2476ec7d",
   "metadata": {},
   "source": [
    "### 3. Has a property"
   ]
  },
  {
   "cell_type": "code",
   "execution_count": 38,
   "id": "611882ca",
   "metadata": {},
   "outputs": [
    {
     "data": {
      "text/plain": [
       "Y    24506\n",
       "N    11951\n",
       "Name: Has a property, dtype: int64"
      ]
     },
     "execution_count": 38,
     "metadata": {},
     "output_type": "execute_result"
    }
   ],
   "source": [
    "df['Has a property'].value_counts()"
   ]
  },
  {
   "cell_type": "code",
   "execution_count": 39,
   "id": "4edfac94",
   "metadata": {},
   "outputs": [],
   "source": [
    "df['Has a property'] = df['Has a property'].replace({'N' : 0, 'Y' : 1})"
   ]
  },
  {
   "cell_type": "code",
   "execution_count": 40,
   "id": "c74680af",
   "metadata": {},
   "outputs": [
    {
     "name": "stdout",
     "output_type": "stream",
     "text": [
      "<class 'pandas.core.series.Series'>\n",
      "Int64Index: 36457 entries, 0 to 7291\n",
      "Series name: Has a property\n",
      "Non-Null Count  Dtype\n",
      "--------------  -----\n",
      "36457 non-null  int64\n",
      "dtypes: int64(1)\n",
      "memory usage: 569.6 KB\n"
     ]
    }
   ],
   "source": [
    "df['Has a property'].info()"
   ]
  },
  {
   "cell_type": "markdown",
   "id": "22155248",
   "metadata": {},
   "source": [
    "### 4. Employment status"
   ]
  },
  {
   "cell_type": "code",
   "execution_count": 41,
   "id": "79b88f9b",
   "metadata": {},
   "outputs": [
    {
     "data": {
      "text/plain": [
       "Working                 18819\n",
       "Commercial associate     8490\n",
       "Pensioner                6152\n",
       "State servant            2985\n",
       "Student                    11\n",
       "Name: Employment status, dtype: int64"
      ]
     },
     "execution_count": 41,
     "metadata": {},
     "output_type": "execute_result"
    }
   ],
   "source": [
    "df['Employment status'].value_counts()"
   ]
  },
  {
   "cell_type": "code",
   "execution_count": 42,
   "id": "a278a870",
   "metadata": {},
   "outputs": [],
   "source": [
    "df['Employment status'].replace({\"Student\": 0 , 'Pensioner' : 1, 'Working' : 2, 'Commercial associate' : 3, \n",
    "                               'State servant' : 4},inplace=True)"
   ]
  },
  {
   "cell_type": "code",
   "execution_count": 43,
   "id": "32288019",
   "metadata": {},
   "outputs": [
    {
     "name": "stdout",
     "output_type": "stream",
     "text": [
      "<class 'pandas.core.series.Series'>\n",
      "Int64Index: 36457 entries, 0 to 7291\n",
      "Series name: Employment status\n",
      "Non-Null Count  Dtype\n",
      "--------------  -----\n",
      "36457 non-null  int64\n",
      "dtypes: int64(1)\n",
      "memory usage: 569.6 KB\n"
     ]
    }
   ],
   "source": [
    "df['Employment status'].info()"
   ]
  },
  {
   "cell_type": "markdown",
   "id": "af4a1897",
   "metadata": {},
   "source": [
    "### 5. Education level"
   ]
  },
  {
   "cell_type": "code",
   "execution_count": 44,
   "id": "8abb7958",
   "metadata": {},
   "outputs": [
    {
     "data": {
      "text/plain": [
       "Secondary / secondary special    24777\n",
       "Higher education                  9864\n",
       "Incomplete higher                 1410\n",
       "Lower secondary                    374\n",
       "Academic degree                     32\n",
       "Name: Education level, dtype: int64"
      ]
     },
     "execution_count": 44,
     "metadata": {},
     "output_type": "execute_result"
    }
   ],
   "source": [
    "df['Education level'].value_counts()"
   ]
  },
  {
   "cell_type": "code",
   "execution_count": 45,
   "id": "83ba2c86",
   "metadata": {},
   "outputs": [],
   "source": [
    "# Here we are using label encoder. We can also use replace function or one hot encoding technique"
   ]
  },
  {
   "cell_type": "code",
   "execution_count": 46,
   "id": "4604aa96",
   "metadata": {},
   "outputs": [
    {
     "data": {
      "text/plain": [
       "4    24777\n",
       "1     9864\n",
       "2     1410\n",
       "3      374\n",
       "0       32\n",
       "Name: Education level, dtype: int64"
      ]
     },
     "execution_count": 46,
     "metadata": {},
     "output_type": "execute_result"
    }
   ],
   "source": [
    "label_enc = LabelEncoder()\n",
    "df['Education level'] = label_enc.fit_transform(df['Education level'])\n",
    "df['Education level'].value_counts()"
   ]
  },
  {
   "cell_type": "markdown",
   "id": "eaafa2ba",
   "metadata": {},
   "source": [
    "### 6. Marital status"
   ]
  },
  {
   "cell_type": "code",
   "execution_count": 47,
   "id": "dbac89db",
   "metadata": {},
   "outputs": [
    {
     "data": {
      "text/plain": [
       "Married                 25048\n",
       "Single / not married     4829\n",
       "Civil marriage           2945\n",
       "Separated                2103\n",
       "Widow                    1532\n",
       "Name: Marital status, dtype: int64"
      ]
     },
     "execution_count": 47,
     "metadata": {},
     "output_type": "execute_result"
    }
   ],
   "source": [
    "df['Marital status'].value_counts()"
   ]
  },
  {
   "cell_type": "code",
   "execution_count": 48,
   "id": "072950a2",
   "metadata": {},
   "outputs": [],
   "source": [
    "df['Marital status'] = label_enc.fit_transform(df['Marital status'])"
   ]
  },
  {
   "cell_type": "code",
   "execution_count": 49,
   "id": "59894426",
   "metadata": {},
   "outputs": [
    {
     "data": {
      "text/plain": [
       "1    25048\n",
       "3     4829\n",
       "0     2945\n",
       "2     2103\n",
       "4     1532\n",
       "Name: Marital status, dtype: int64"
      ]
     },
     "execution_count": 49,
     "metadata": {},
     "output_type": "execute_result"
    }
   ],
   "source": [
    "df['Marital status'].value_counts()"
   ]
  },
  {
   "cell_type": "markdown",
   "id": "3557d433",
   "metadata": {},
   "source": [
    "### 7. Dwelling"
   ]
  },
  {
   "cell_type": "code",
   "execution_count": 50,
   "id": "ba7dc458",
   "metadata": {},
   "outputs": [
    {
     "data": {
      "text/plain": [
       "House / apartment      32548\n",
       "With parents            1776\n",
       "Municipal apartment     1128\n",
       "Rented apartment         575\n",
       "Office apartment         262\n",
       "Co-op apartment          168\n",
       "Name: Dwelling, dtype: int64"
      ]
     },
     "execution_count": 50,
     "metadata": {},
     "output_type": "execute_result"
    }
   ],
   "source": [
    "df['Dwelling'].value_counts()"
   ]
  },
  {
   "cell_type": "code",
   "execution_count": 51,
   "id": "3a52f7f2",
   "metadata": {},
   "outputs": [],
   "source": [
    "df['Dwelling'] = label_enc.fit_transform(df['Dwelling'])"
   ]
  },
  {
   "cell_type": "code",
   "execution_count": 52,
   "id": "91a60ce3",
   "metadata": {},
   "outputs": [
    {
     "data": {
      "text/plain": [
       "1    32548\n",
       "5     1776\n",
       "2     1128\n",
       "4      575\n",
       "3      262\n",
       "0      168\n",
       "Name: Dwelling, dtype: int64"
      ]
     },
     "execution_count": 52,
     "metadata": {},
     "output_type": "execute_result"
    }
   ],
   "source": [
    "df['Dwelling'].value_counts()"
   ]
  },
  {
   "cell_type": "markdown",
   "id": "81e41da6",
   "metadata": {},
   "source": [
    "### 8. Job title"
   ]
  },
  {
   "cell_type": "code",
   "execution_count": 53,
   "id": "b7c3f46b",
   "metadata": {},
   "outputs": [
    {
     "data": {
      "text/plain": [
       "Laborers                 6211\n",
       "Core staff               3591\n",
       "Sales staff              3485\n",
       "Managers                 3012\n",
       "Drivers                  2138\n",
       "High skill tech staff    1383\n",
       "Accountants              1241\n",
       "Medicine staff           1207\n",
       "Cooking staff             655\n",
       "Security staff            592\n",
       "Cleaning staff            551\n",
       "Private service staff     344\n",
       "Low-skill Laborers        175\n",
       "Waiters/barmen staff      174\n",
       "Secretaries               151\n",
       "HR staff                   85\n",
       "Realty agents              79\n",
       "IT staff                   60\n",
       "Name: Job title, dtype: int64"
      ]
     },
     "execution_count": 53,
     "metadata": {},
     "output_type": "execute_result"
    }
   ],
   "source": [
    "df['Job title'].value_counts()"
   ]
  },
  {
   "cell_type": "code",
   "execution_count": 54,
   "id": "0bf93984",
   "metadata": {},
   "outputs": [
    {
     "data": {
      "text/plain": [
       "11323"
      ]
     },
     "execution_count": 54,
     "metadata": {},
     "output_type": "execute_result"
    }
   ],
   "source": [
    "df['Job title'].isna().sum()"
   ]
  },
  {
   "cell_type": "code",
   "execution_count": 55,
   "id": "145215cd",
   "metadata": {},
   "outputs": [],
   "source": [
    "# Observation :- \n",
    "# There are null values present in 'Job title' \n",
    "# so we have to fill these null values.\n",
    "# by observation, we can say that, it is a categorical variable.\n",
    "# So the best way to fill null values for categorical variable is, to replace it with mode."
   ]
  },
  {
   "cell_type": "code",
   "execution_count": 56,
   "id": "5c33b4ca",
   "metadata": {},
   "outputs": [
    {
     "data": {
      "text/plain": [
       "Laborers                 6211\n",
       "Core staff               3591\n",
       "Sales staff              3485\n",
       "Managers                 3012\n",
       "Drivers                  2138\n",
       "High skill tech staff    1383\n",
       "Accountants              1241\n",
       "Medicine staff           1207\n",
       "Cooking staff             655\n",
       "Security staff            592\n",
       "Cleaning staff            551\n",
       "Private service staff     344\n",
       "Low-skill Laborers        175\n",
       "Waiters/barmen staff      174\n",
       "Secretaries               151\n",
       "HR staff                   85\n",
       "Realty agents              79\n",
       "IT staff                   60\n",
       "Name: Job title, dtype: int64"
      ]
     },
     "execution_count": 56,
     "metadata": {},
     "output_type": "execute_result"
    }
   ],
   "source": [
    "df['Job title'].value_counts()"
   ]
  },
  {
   "cell_type": "code",
   "execution_count": 57,
   "id": "30d1f83c",
   "metadata": {},
   "outputs": [],
   "source": [
    "df['Job title'].fillna('Laborers',inplace=True)"
   ]
  },
  {
   "cell_type": "code",
   "execution_count": 58,
   "id": "41de9035",
   "metadata": {},
   "outputs": [
    {
     "data": {
      "text/plain": [
       "Laborers                 17534\n",
       "Core staff                3591\n",
       "Sales staff               3485\n",
       "Managers                  3012\n",
       "Drivers                   2138\n",
       "High skill tech staff     1383\n",
       "Accountants               1241\n",
       "Medicine staff            1207\n",
       "Cooking staff              655\n",
       "Security staff             592\n",
       "Cleaning staff             551\n",
       "Private service staff      344\n",
       "Low-skill Laborers         175\n",
       "Waiters/barmen staff       174\n",
       "Secretaries                151\n",
       "HR staff                    85\n",
       "Realty agents               79\n",
       "IT staff                    60\n",
       "Name: Job title, dtype: int64"
      ]
     },
     "execution_count": 58,
     "metadata": {},
     "output_type": "execute_result"
    }
   ],
   "source": [
    "df['Job title'].value_counts()"
   ]
  },
  {
   "cell_type": "code",
   "execution_count": 59,
   "id": "a80bd297",
   "metadata": {},
   "outputs": [],
   "source": [
    "df['Job title']= label_enc.fit_transform(df['Job title'])"
   ]
  },
  {
   "cell_type": "code",
   "execution_count": 60,
   "id": "89403b01",
   "metadata": {},
   "outputs": [
    {
     "data": {
      "text/plain": [
       "0"
      ]
     },
     "execution_count": 60,
     "metadata": {},
     "output_type": "execute_result"
    }
   ],
   "source": [
    "df['Job title'].isna().sum()"
   ]
  },
  {
   "cell_type": "code",
   "execution_count": 61,
   "id": "26194e03",
   "metadata": {},
   "outputs": [],
   "source": [
    "#df['Job title'].value_counts()"
   ]
  },
  {
   "cell_type": "code",
   "execution_count": 62,
   "id": "7e3eabeb",
   "metadata": {},
   "outputs": [
    {
     "name": "stdout",
     "output_type": "stream",
     "text": [
      "<class 'pandas.core.series.Series'>\n",
      "Int64Index: 36457 entries, 0 to 7291\n",
      "Series name: Job title\n",
      "Non-Null Count  Dtype\n",
      "--------------  -----\n",
      "36457 non-null  int32\n",
      "dtypes: int32(1)\n",
      "memory usage: 427.2 KB\n"
     ]
    }
   ],
   "source": [
    "df['Job title'].info()"
   ]
  },
  {
   "cell_type": "code",
   "execution_count": 63,
   "id": "40b9a998",
   "metadata": {},
   "outputs": [],
   "source": [
    "#df.info()"
   ]
  },
  {
   "cell_type": "markdown",
   "id": "3d6cbd32",
   "metadata": {},
   "source": [
    "# "
   ]
  },
  {
   "cell_type": "markdown",
   "id": "9b404c2b",
   "metadata": {},
   "source": [
    "## Handling outliers"
   ]
  },
  {
   "cell_type": "markdown",
   "id": "cb5ee72d",
   "metadata": {},
   "source": [
    "### 1. Children count"
   ]
  },
  {
   "cell_type": "code",
   "execution_count": 64,
   "id": "70014009",
   "metadata": {},
   "outputs": [
    {
     "data": {
      "text/plain": [
       "<AxesSubplot:xlabel='Children count'>"
      ]
     },
     "execution_count": 64,
     "metadata": {},
     "output_type": "execute_result"
    },
    {
     "data": {
      "image/png": "[encoded data removed]",
      "text/plain": [
       "<Figure size 432x288 with 1 Axes>"
      ]
     },
     "metadata": {
      "needs_background": "light"
     },
     "output_type": "display_data"
    }
   ],
   "source": [
    "#boxplot before handling outliers\n",
    "sns.boxplot(df['Children count'])"
   ]
  },
  {
   "cell_type": "code",
   "execution_count": 65,
   "id": "c779090f",
   "metadata": {},
   "outputs": [
    {
     "data": {
      "text/plain": [
       "{0: 25201, 1: 7492, 2: 3256, 3: 419, 4: 63, 5: 20, 14: 3, 7: 2, 19: 1}"
      ]
     },
     "execution_count": 65,
     "metadata": {},
     "output_type": "execute_result"
    }
   ],
   "source": [
    "df['Children count'].value_counts().to_dict()"
   ]
  },
  {
   "cell_type": "code",
   "execution_count": 66,
   "id": "b0ba2270",
   "metadata": {},
   "outputs": [
    {
     "name": "stdout",
     "output_type": "stream",
     "text": [
      "25 percentile :- 0.0\n",
      "75 percentile :- 1.0\n",
      "iqr is :-  1.0\n",
      "lower tail :- -1.5\n",
      "upper tail :- 2.5\n",
      "Detected outliers are :- [3, 3, 3, 3, 3, 3, 4, 3, 3, 3, 3, 3, 3, 3, 3, 3, 3, 3, 3, 3, 3, 3, 4, 3, 3, 3, 3, 3, 3, 4, 3, 3, 3, 3, 3, 3, 3, 3, 3, 4, 3, 3, 3, 3, 3, 4, 5, 7, 3, 3, 3, 3, 3, 14, 3, 3, 3, 3, 3, 3, 4, 3, 3, 3, 3, 3, 3, 3, 3, 3, 3, 3, 4, 3, 4, 3, 3, 3, 3, 3, 3, 3, 3, 3, 3, 3, 3, 3, 3, 3, 4, 4, 3, 3, 3, 3, 3, 3, 3, 3, 3, 3, 3, 3, 3, 3, 4, 3, 3, 3, 3, 3, 3, 3, 3, 3, 3, 3, 3, 3, 3, 3, 3, 3, 3, 4, 3, 3, 3, 3, 3, 3, 3, 5, 3, 3, 3, 3, 3, 3, 3, 3, 3, 3, 3, 3, 4, 3, 3, 3, 3, 3, 4, 4, 3, 4, 5, 3, 3, 3, 4, 3, 3, 4, 4, 3, 3, 3, 3, 3, 3, 4, 3, 5, 3, 3, 4, 3, 3, 3, 3, 3, 3, 5, 3, 3, 3, 3, 4, 4, 3, 3, 3, 4, 3, 3, 3, 4, 3, 3, 3, 3, 19, 3, 3, 3, 3, 3, 3, 3, 5, 5, 3, 3, 3, 3, 4, 3, 3, 3, 7, 3, 3, 3, 3, 4, 3, 5, 3, 4, 3, 4, 3, 3, 3, 3, 3, 3, 4, 3, 3, 3, 4, 3, 4, 3, 3, 3, 3, 3, 3, 4, 3, 3, 3, 3, 4, 3, 3, 3, 3, 3, 3, 3, 3, 4, 3, 3, 3, 4, 3, 3, 3, 4, 3, 3, 3, 3, 3, 3, 3, 4, 4, 3, 3, 3, 3, 3, 3, 3, 3, 3, 3, 4, 5, 3, 3, 3, 3, 3, 3, 5, 3, 3, 3, 3, 4, 3, 3, 3, 3, 3, 3, 3, 3, 3, 3, 3, 3, 3, 4, 3, 5, 3, 3, 3, 5, 3, 3, 4, 3, 3, 3, 3, 3, 3, 3, 3, 3, 3, 3, 5, 3, 3, 3, 4, 3, 3, 4, 3, 3, 3, 3, 3, 14, 3, 3, 3, 3, 3, 3, 3, 4, 3, 4, 5, 3, 4, 4, 5, 3, 3, 3, 3, 3, 3, 3, 3, 3, 3, 3, 3, 3, 3, 3, 3, 3, 4, 3, 3, 4, 3, 3, 4, 3, 3, 3, 3, 3, 3, 3, 3, 4, 3, 3, 3, 3, 3, 3, 3, 3, 3, 3, 3, 3, 3, 3, 3, 3, 3, 3, 3, 3, 3, 3, 3, 5, 3, 3, 3, 4, 3, 3, 3, 3, 4, 3, 3, 4, 4, 5, 3, 3, 3, 3, 3, 3, 3, 3, 3, 3, 3, 3, 3, 3, 3, 4, 3, 3, 3, 3, 3, 3, 3, 3, 3, 3, 3, 3, 3, 4, 3, 3, 14, 5, 3, 4, 3, 3, 5, 3, 3, 3, 3, 3, 3, 5, 3, 3, 3, 3, 3, 4, 3, 3, 3, 3, 3, 3, 3, 3, 3, 3, 4, 3, 3, 4, 3]\n"
     ]
    }
   ],
   "source": [
    "q1,q3 = np.percentile(df['Children count'],(25,75))\n",
    "iqr = q3 - q1 \n",
    "\n",
    "print('25 percentile :-', q1)\n",
    "print('75 percentile :-', q3)\n",
    "print('iqr is :- ', iqr)\n",
    "\n",
    "lower_tail = q1 - 1.5*(iqr)\n",
    "upper_tail = q3 + 1.5*(iqr)\n",
    "print('lower tail :-',lower_tail)\n",
    "print('upper tail :-',upper_tail)\n",
    "\n",
    "outliers = []\n",
    "for i in df['Children count']:\n",
    "    if (i<lower_tail) or (i>upper_tail):\n",
    "        outliers.append(i)\n",
    "print('Detected outliers are :-', list(outliers))"
   ]
  },
  {
   "cell_type": "code",
   "execution_count": 67,
   "id": "aa36bf3c",
   "metadata": {},
   "outputs": [],
   "source": [
    "# Observation :-\n",
    "# Though it looks loke a 'numerical feature'.\n",
    "# By looking as a data, it is actually a 'categorical feature'.\n",
    "# So we can replace these outliers with 'mode'."
   ]
  },
  {
   "cell_type": "code",
   "execution_count": 68,
   "id": "26b4947d",
   "metadata": {},
   "outputs": [
    {
     "data": {
      "text/plain": [
       "array([ 0,  1,  2,  3,  4,  5,  7, 14, 19], dtype=int64)"
      ]
     },
     "execution_count": 68,
     "metadata": {},
     "output_type": "execute_result"
    }
   ],
   "source": [
    "num['Children count'].unique()"
   ]
  },
  {
   "cell_type": "code",
   "execution_count": 69,
   "id": "f93cc0c6",
   "metadata": {},
   "outputs": [
    {
     "data": {
      "text/plain": [
       "0    0\n",
       "Name: Children count, dtype: int64"
      ]
     },
     "execution_count": 69,
     "metadata": {},
     "output_type": "execute_result"
    }
   ],
   "source": [
    "num['Children count'].mode()"
   ]
  },
  {
   "cell_type": "code",
   "execution_count": 70,
   "id": "a9bd3a0d",
   "metadata": {},
   "outputs": [
    {
     "name": "stdout",
     "output_type": "stream",
     "text": [
      "Detected outliers for CHILDREN# COUNT are :-  [3, 3, 3, 3, 3, 3, 4, 3, 3, 3, 3, 3, 3, 3, 3, 3, 3, 3, 3, 3, 3, 3, 4, 3, 3, 3, 3, 3, 3, 4, 3, 3, 3, 3, 3, 3, 3, 3, 3, 4, 3, 3, 3, 3, 3, 4, 5, 7, 3, 3, 3, 3, 3, 14, 3, 3, 3, 3, 3, 3, 4, 3, 3, 3, 3, 3, 3, 3, 3, 3, 3, 3, 4, 3, 4, 3, 3, 3, 3, 3, 3, 3, 3, 3, 3, 3, 3, 3, 3, 3, 4, 4, 3, 3, 3, 3, 3, 3, 3, 3, 3, 3, 3, 3, 3, 3, 4, 3, 3, 3, 3, 3, 3, 3, 3, 3, 3, 3, 3, 3, 3, 3, 3, 3, 3, 4, 3, 3, 3, 3, 3, 3, 3, 5, 3, 3, 3, 3, 3, 3, 3, 3, 3, 3, 3, 3, 4, 3, 3, 3, 3, 3, 4, 4, 3, 4, 5, 3, 3, 3, 4, 3, 3, 4, 4, 3, 3, 3, 3, 3, 3, 4, 3, 5, 3, 3, 4, 3, 3, 3, 3, 3, 3, 5, 3, 3, 3, 3, 4, 4, 3, 3, 3, 4, 3, 3, 3, 4, 3, 3, 3, 3, 19, 3, 3, 3, 3, 3, 3, 3, 5, 5, 3, 3, 3, 3, 4, 3, 3, 3, 7, 3, 3, 3, 3, 4, 3, 5, 3, 4, 3, 4, 3, 3, 3, 3, 3, 3, 4, 3, 3, 3, 4, 3, 4, 3, 3, 3, 3, 3, 3, 4, 3, 3, 3, 3, 4, 3, 3, 3, 3, 3, 3, 3, 3, 4, 3, 3, 3, 4, 3, 3, 3, 4, 3, 3, 3, 3, 3, 3, 3, 4, 4, 3, 3, 3, 3, 3, 3, 3, 3, 3, 3, 4, 5, 3, 3, 3, 3, 3, 3, 5, 3, 3, 3, 3, 4, 3, 3, 3, 3, 3, 3, 3, 3, 3, 3, 3, 3, 3, 4, 3, 5, 3, 3, 3, 5, 3, 3, 4, 3, 3, 3, 3, 3, 3, 3, 3, 3, 3, 3, 5, 3, 3, 3, 4, 3, 3, 4, 3, 3, 3, 3, 3, 14, 3, 3, 3, 3, 3, 3, 3, 4, 3, 4, 5, 3, 4, 4, 5, 3, 3, 3, 3, 3, 3, 3, 3, 3, 3, 3, 3, 3, 3, 3, 3, 3, 4, 3, 3, 4, 3, 3, 4, 3, 3, 3, 3, 3, 3, 3, 3, 4, 3, 3, 3, 3, 3, 3, 3, 3, 3, 3, 3, 3, 3, 3, 3, 3, 3, 3, 3, 3, 3, 3, 3, 5, 3, 3, 3, 4, 3, 3, 3, 3, 4, 3, 3, 4, 4, 5, 3, 3, 3, 3, 3, 3, 3, 3, 3, 3, 3, 3, 3, 3, 3, 4, 3, 3, 3, 3, 3, 3, 3, 3, 3, 3, 3, 3, 3, 4, 3, 3, 14, 5, 3, 4, 3, 3, 5, 3, 3, 3, 3, 3, 3, 5, 3, 3, 3, 3, 3, 4, 3, 3, 3, 3, 3, 3, 3, 3, 3, 3, 4, 3, 3, 4, 3]\n"
     ]
    }
   ],
   "source": [
    "#HERE WE ARE USING Z-SCORE METHOD TO FIND OUT OUTLIERS\n",
    "\n",
    "mean = np.mean(df['Children count'])\n",
    "std = np.std(df['Children count'])\n",
    "\n",
    "threshold = 3\n",
    "outliers = []\n",
    "for x_val in df['Children count']:\n",
    "    z_score = (x_val - mean)/std\n",
    "    \n",
    "    if np.abs(z_score)> threshold:\n",
    "        outliers.append(x_val)\n",
    "        \n",
    "print('Detected outliers for CHILDREN# COUNT are :- ', outliers )"
   ]
  },
  {
   "cell_type": "code",
   "execution_count": 71,
   "id": "7b3d255f",
   "metadata": {},
   "outputs": [
    {
     "name": "stdout",
     "output_type": "stream",
     "text": [
      "AxesSubplot(0.125,0.125;0.775x0.755)\n"
     ]
    },
    {
     "data": {
      "image/png": "[encoded data removed]",
      "text/plain": [
       "<Figure size 432x288 with 1 Axes>"
      ]
     },
     "metadata": {
      "needs_background": "light"
     },
     "output_type": "display_data"
    }
   ],
   "source": [
    "plt.title('boxplot before handling outliers')\n",
    "print(sns.boxplot(df['Children count']))\n",
    "\n",
    "for val in df['Children count']:\n",
    "    if val in outliers:\n",
    "        df['Children count']= df['Children count'].replace(val,df['Children count'].mode()[0])"
   ]
  },
  {
   "cell_type": "code",
   "execution_count": 72,
   "id": "40fd7a9a",
   "metadata": {},
   "outputs": [
    {
     "name": "stdout",
     "output_type": "stream",
     "text": [
      "Text(0.5, 1.0, 'boxplot after handling outliers')\n",
      "AxesSubplot(0.125,0.125;0.775x0.755)\n"
     ]
    },
    {
     "data": {
      "image/png": "[encoded data removed]",
      "text/plain": [
       "<Figure size 432x288 with 1 Axes>"
      ]
     },
     "metadata": {
      "needs_background": "light"
     },
     "output_type": "display_data"
    }
   ],
   "source": [
    "print(plt.title('boxplot after handling outliers'))\n",
    "print(sns.boxplot(df['Children count']))"
   ]
  },
  {
   "cell_type": "markdown",
   "id": "ec576c28",
   "metadata": {},
   "source": [
    "### 2. Income"
   ]
  },
  {
   "cell_type": "code",
   "execution_count": 73,
   "id": "997b14c9",
   "metadata": {},
   "outputs": [
    {
     "name": "stdout",
     "output_type": "stream",
     "text": [
      "AxesSubplot(0.125,0.125;0.775x0.755)\n"
     ]
    },
    {
     "data": {
      "image/png": "[encoded data removed]",
      "text/plain": [
       "<Figure size 432x288 with 1 Axes>"
      ]
     },
     "metadata": {
      "needs_background": "light"
     },
     "output_type": "display_data"
    }
   ],
   "source": [
    "plt.title('boxplot before handling outliers')\n",
    "print(sns.boxplot(df['Income']))"
   ]
  },
  {
   "cell_type": "code",
   "execution_count": 74,
   "id": "7e7c9854",
   "metadata": {},
   "outputs": [
    {
     "name": "stdout",
     "output_type": "stream",
     "text": [
      "25 percentile :- 121500.0\n",
      "75 percentile :- 225000.0\n",
      "iqr is :-  103500.0\n",
      "lower tail :- -33750.0\n",
      "upper tail :- 380250.0\n",
      "Detected outliers are :- [391500.0, 405000.0, 540000.0, 450000.0, 450000.0, 405000.0, 450000.0, 450000.0, 391500.0, 634500.0, 391500.0, 391500.0, 1350000.0, 720000.0, 391500.0, 450000.0, 427500.0, 382500.0, 382500.0, 900000.0, 405000.0, 450000.0, 405000.0, 450000.0, 560250.0, 495000.0, 540000.0, 765000.0, 405000.0, 495000.0, 540000.0, 405000.0, 450000.0, 450000.0, 450000.0, 382500.0, 450000.0, 405000.0, 450000.0, 382500.0, 540000.0, 450000.0, 405000.0, 585000.0, 405000.0, 675000.0, 450000.0, 450000.0, 387000.0, 387000.0, 540000.0, 445500.0, 675000.0, 540000.0, 810000.0, 661500.0, 427500.0, 450000.0, 900000.0, 391500.0, 382500.0, 405000.0, 405000.0, 900000.0, 405000.0, 405000.0, 405000.0, 427500.0, 540000.0, 450000.0, 630000.0, 450000.0, 405000.0, 405000.0, 1575000.0, 540000.0, 450000.0, 427500.0, 382500.0, 450000.0, 495000.0, 405000.0, 450000.0, 675000.0, 540000.0, 405000.0, 445500.0, 450000.0, 450000.0, 540000.0, 472500.0, 450000.0, 450000.0, 427500.0, 540000.0, 450000.0, 450000.0, 652500.0, 450000.0, 450000.0, 405000.0, 405000.0, 382500.0, 387000.0, 382500.0, 495000.0, 630000.0, 382500.0, 405000.0, 441000.0, 391500.0, 675000.0, 450000.0, 405000.0, 450000.0, 391500.0, 450000.0, 405000.0, 450000.0, 900000.0, 450000.0, 450000.0, 387000.0, 387000.0, 382500.0, 418500.0, 630000.0, 450000.0, 450000.0, 450000.0, 612000.0, 391500.0, 405000.0, 405000.0, 405000.0, 472500.0, 562500.0, 427500.0, 382500.0, 630000.0, 450000.0, 594000.0, 517500.0, 450000.0, 585000.0, 450000.0, 418500.0, 675000.0, 450000.0, 675000.0, 382500.0, 450000.0, 540000.0, 675000.0, 450000.0, 495000.0, 427500.0, 450000.0, 630000.0, 405000.0, 405000.0, 450000.0, 720000.0, 391500.0, 405000.0, 405000.0, 612000.0, 405000.0, 585000.0, 585000.0, 405000.0, 463500.0, 450000.0, 675000.0, 450000.0, 675000.0, 675000.0, 427500.0, 900000.0, 540000.0, 382500.0, 540000.0, 405000.0, 450000.0, 391500.0, 405000.0, 900000.0, 382500.0, 450000.0, 405000.0, 405000.0, 382500.0, 450000.0, 675000.0, 405000.0, 382500.0, 450000.0, 382500.0, 1350000.0, 652500.0, 405000.0, 450000.0, 405000.0, 450000.0, 450000.0, 450000.0, 450000.0, 382500.0, 450000.0, 391500.0, 450000.0, 391500.0, 675000.0, 405000.0, 900000.0, 405000.0, 382500.0, 427500.0, 450000.0, 675000.0, 540000.0, 562500.0, 459000.0, 445500.0, 405000.0, 450000.0, 450000.0, 405000.0, 540000.0, 495000.0, 405000.0, 450000.0, 450000.0, 450000.0, 540000.0, 450000.0, 450000.0, 450000.0, 405000.0, 382500.0, 562500.0, 562500.0, 675000.0, 450000.0, 387000.0, 540000.0, 450000.0, 900000.0, 450000.0, 427500.0, 450000.0, 450000.0, 405000.0, 382500.0, 612000.0, 391500.0, 427500.0, 675000.0, 382500.0, 405000.0, 405000.0, 450000.0, 405000.0, 405000.0, 450000.0, 450000.0, 405000.0, 450000.0, 450000.0, 810000.0, 450000.0, 405000.0, 450000.0, 450000.0, 450000.0, 391500.0, 675000.0, 450000.0, 405000.0, 495000.0, 450000.0, 382500.0, 450000.0, 427500.0, 450000.0, 652500.0, 405000.0, 405000.0, 450000.0, 450000.0, 405000.0, 540000.0, 675000.0, 405000.0, 450000.0, 382500.0, 675000.0, 405000.0, 450000.0, 495000.0, 391500.0, 391500.0, 607500.0, 540000.0, 463500.0, 517500.0, 450000.0, 405000.0, 405000.0, 675000.0, 405000.0, 382500.0, 450000.0, 675000.0, 391500.0, 450000.0, 560250.0, 450000.0, 450000.0, 405000.0, 382500.0, 517500.0, 720000.0, 675000.0, 720000.0, 382500.0, 562500.0, 387000.0, 405000.0, 1350000.0, 562500.0, 450000.0, 405000.0, 405000.0, 495000.0, 900000.0, 450000.0, 450000.0, 562500.0, 450000.0, 495000.0, 405000.0, 450000.0, 675000.0, 405000.0, 945000.0, 450000.0, 675000.0, 810000.0, 560250.0, 450000.0, 427500.0, 495000.0, 382500.0, 405000.0, 630000.0, 405000.0, 450000.0, 405000.0, 382500.0, 562500.0, 427500.0, 810000.0, 427500.0, 540000.0, 810000.0, 405000.0, 540000.0, 720000.0, 405000.0, 720000.0, 405000.0, 450000.0, 495000.0, 585000.0, 675000.0, 405000.0, 720000.0, 450000.0, 427500.0, 810000.0, 391500.0, 675000.0, 494100.0, 405000.0, 495000.0, 450000.0, 612000.0, 405000.0, 382500.0, 387000.0, 450000.0, 427500.0, 450000.0, 405000.0, 540000.0, 387000.0, 382500.0, 450000.0, 405000.0, 562500.0, 405000.0, 445500.0, 652500.0, 450000.0, 810000.0, 450000.0, 450000.0, 391500.0, 450000.0, 382500.0, 612000.0, 612000.0, 382500.0, 405000.0, 540000.0, 562500.0, 1575000.0, 405000.0, 540000.0, 450000.0, 675000.0, 675000.0, 560250.0, 405000.0, 391500.0, 391500.0, 391500.0, 630000.0, 495000.0, 450000.0, 459000.0, 450000.0, 450000.0, 459000.0, 382500.0, 405000.0, 405000.0, 382500.0, 450000.0, 450000.0, 540000.0, 495000.0, 900000.0, 463500.0, 405000.0, 450000.0, 616500.0, 450000.0, 675000.0, 450000.0, 391500.0, 427500.0, 423000.0, 382500.0, 405000.0, 540000.0, 427500.0, 450000.0, 675000.0, 382500.0, 720000.0, 450000.0, 540000.0, 382500.0, 900000.0, 810000.0, 517500.0, 405000.0, 494100.0, 405000.0, 495000.0, 405000.0, 540000.0, 450000.0, 560250.0, 382500.0, 450000.0, 441000.0, 450000.0, 450000.0, 675000.0, 450000.0, 427500.0, 675000.0, 560250.0, 405000.0, 396000.0, 450000.0, 427500.0, 517500.0, 675000.0, 450000.0, 450000.0, 472500.0, 675000.0, 405000.0, 450000.0, 450000.0, 427500.0, 468000.0, 810000.0, 450000.0, 387000.0, 405000.0, 423000.0, 405000.0, 450000.0, 387000.0, 675000.0, 450000.0, 405000.0, 517500.0, 405000.0, 450000.0, 450000.0, 405000.0, 450000.0, 382500.0, 450000.0, 405000.0, 616500.0, 382500.0, 540000.0, 382500.0, 675000.0, 450000.0, 562500.0, 450000.0, 387000.0, 450000.0, 607500.0, 450000.0, 585000.0, 630000.0, 900000.0, 405000.0, 405000.0, 585000.0, 810000.0, 585000.0, 697500.0, 450000.0, 450000.0, 607500.0, 405000.0, 945000.0, 450000.0, 675000.0, 495000.0, 405000.0, 450000.0, 450000.0, 450000.0, 616500.0, 450000.0, 450000.0, 382500.0, 990000.0, 405000.0, 495000.0, 900000.0, 675000.0, 450000.0, 382500.0, 387000.0, 450000.0, 387000.0, 540000.0, 450000.0, 450000.0, 387000.0, 405000.0, 391500.0, 405000.0, 405000.0, 405000.0, 391500.0, 450000.0, 405000.0, 387000.0, 585000.0, 405000.0, 391500.0, 382500.0, 405000.0, 562500.0, 612000.0, 405000.0, 450000.0, 675000.0, 450000.0, 675000.0, 450000.0, 387000.0, 675000.0, 405000.0, 540000.0, 405000.0, 450000.0, 427500.0, 391500.0, 450000.0, 405000.0, 405000.0, 652500.0, 494100.0, 562500.0, 382500.0, 472500.0, 495000.0, 450000.0, 540000.0, 450000.0, 387000.0, 405000.0, 405000.0, 405000.0, 450000.0, 391500.0, 562500.0, 423000.0, 382500.0, 720000.0, 405000.0, 432000.0, 405000.0, 450000.0, 405000.0, 634500.0, 450000.0, 382500.0, 427500.0, 405000.0, 391500.0, 540000.0, 675000.0, 450000.0, 405000.0, 562500.0, 382500.0, 531000.0, 540000.0, 585000.0, 540000.0, 450000.0, 382500.0, 810000.0, 391500.0, 405000.0, 405000.0, 427500.0, 540000.0, 382500.0, 540000.0, 900000.0, 450000.0, 634500.0, 405000.0, 405000.0, 405000.0, 423000.0, 450000.0, 900000.0, 414000.0, 675000.0, 675000.0, 450000.0, 405000.0, 405000.0, 450000.0, 450000.0, 405000.0, 675000.0, 540000.0, 540000.0, 540000.0, 405000.0, 450000.0, 472500.0, 675000.0, 450000.0, 405000.0, 675000.0, 450000.0, 675000.0, 900000.0, 540000.0, 612000.0, 495000.0, 716323.5, 675000.0, 445500.0, 472500.0, 450000.0, 990000.0, 382500.0, 391500.0, 387000.0, 405000.0, 445500.0, 540000.0, 450000.0, 450000.0, 405000.0, 405000.0, 630000.0, 540000.0, 495000.0, 450000.0, 405000.0, 495000.0, 495000.0, 630000.0, 427500.0, 742500.0, 450000.0, 405000.0, 562500.0, 405000.0, 675000.0, 427500.0, 450000.0, 900000.0, 675000.0, 1125000.0, 450000.0, 675000.0, 450000.0, 562500.0, 742500.0, 382500.0, 450000.0, 405000.0, 405000.0, 450000.0, 495000.0, 382500.0, 450000.0, 450000.0, 675000.0, 445500.0, 562500.0, 450000.0, 450000.0, 382500.0, 540000.0, 382500.0, 450000.0, 405000.0, 450000.0, 382500.0, 472500.0, 450000.0, 450000.0, 382500.0, 450000.0, 945000.0, 396000.0, 405000.0, 472500.0, 450000.0, 630000.0, 616500.0, 405000.0, 427500.0, 382500.0, 450000.0, 540000.0, 585000.0, 450000.0, 450000.0, 495000.0, 382500.0, 405000.0, 1575000.0, 630000.0, 562500.0, 450000.0, 382500.0, 450000.0, 540000.0, 450000.0, 405000.0, 387000.0, 382500.0, 382500.0, 450000.0, 405000.0, 675000.0, 450000.0, 630000.0, 450000.0, 391500.0, 450000.0, 427500.0, 540000.0, 540000.0, 382500.0, 450000.0, 450000.0, 716323.5, 450000.0, 387000.0, 459000.0, 445500.0, 405000.0, 405000.0, 630000.0, 450000.0, 405000.0, 472500.0, 450000.0, 540000.0, 675000.0, 675000.0, 450000.0, 405000.0, 900000.0, 675000.0, 450000.0, 675000.0, 450000.0, 450000.0, 540000.0, 450000.0, 405000.0, 630000.0, 405000.0, 405000.0, 450000.0, 472500.0, 450000.0, 450000.0, 675000.0, 423000.0, 468000.0, 405000.0, 391500.0, 423000.0, 450000.0, 540000.0, 405000.0, 450000.0, 450000.0, 450000.0, 391500.0, 405000.0, 585000.0, 495000.0, 405000.0, 450000.0, 391500.0, 517500.0, 391500.0, 391500.0, 423000.0, 450000.0, 540000.0, 630000.0, 463500.0, 450000.0, 405000.0, 382500.0, 450000.0, 540000.0, 900000.0, 405000.0, 450000.0, 450000.0, 459000.0, 450000.0, 562500.0, 450000.0, 1350000.0, 427500.0, 405000.0, 396000.0, 450000.0, 540000.0, 450000.0, 675000.0, 427500.0, 391500.0, 391500.0, 382500.0, 1575000.0, 405000.0, 382500.0, 1350000.0, 495000.0, 450000.0, 450000.0, 459000.0, 450000.0, 495000.0, 450000.0, 675000.0, 405000.0, 382500.0, 540000.0, 391500.0, 463500.0, 387000.0, 450000.0, 697500.0, 495000.0, 495000.0, 675000.0, 405000.0, 675000.0, 391500.0, 405000.0, 450000.0, 450000.0, 1125000.0, 391500.0, 720000.0, 450000.0, 382500.0, 405000.0, 630000.0, 382500.0, 540000.0, 382500.0, 585000.0, 405000.0, 405000.0, 382500.0, 391500.0, 405000.0, 495000.0, 405000.0, 787500.0, 382500.0, 427500.0, 427500.0, 405000.0, 450000.0, 405000.0, 585000.0, 450000.0, 405000.0, 405000.0, 675000.0, 630000.0, 450000.0, 382500.0, 450000.0, 450000.0, 450000.0, 560250.0, 405000.0, 445500.0, 405000.0, 495000.0, 405000.0, 675000.0, 450000.0, 675000.0, 495000.0, 675000.0, 391500.0, 387000.0, 540000.0, 382500.0, 900000.0, 675000.0, 675000.0, 675000.0, 450000.0, 387000.0, 540000.0, 441000.0, 675000.0, 382500.0, 450000.0, 765000.0, 405000.0, 405000.0, 405000.0, 495000.0, 472500.0, 630000.0, 450000.0, 391500.0, 540000.0, 450000.0, 405000.0, 450000.0, 427500.0, 382500.0, 450000.0, 387000.0, 405000.0, 450000.0, 382500.0, 405000.0, 405000.0, 450000.0, 450000.0, 450000.0, 612000.0, 450000.0, 560250.0, 450000.0, 765000.0, 427500.0, 405000.0, 630000.0, 405000.0, 562500.0, 675000.0, 391500.0, 382500.0, 450000.0, 495000.0, 900000.0, 382500.0, 585000.0, 450000.0, 450000.0, 405000.0, 405000.0, 450000.0, 720000.0, 810000.0, 427500.0, 405000.0, 765000.0, 450000.0, 463500.0, 427500.0, 450000.0, 387000.0, 1575000.0, 675000.0, 540000.0, 540000.0, 765000.0, 450000.0, 405000.0, 405000.0, 675000.0, 540000.0, 675000.0, 405000.0, 900000.0, 495000.0, 900000.0, 675000.0, 405000.0, 450000.0, 540000.0, 900000.0, 450000.0, 405000.0, 396000.0, 450000.0, 405000.0, 540000.0, 405000.0, 405000.0, 382500.0, 450000.0, 585000.0, 382500.0, 472500.0, 405000.0, 450000.0, 675000.0, 517500.0, 675000.0, 450000.0, 450000.0, 405000.0, 612000.0, 585000.0, 405000.0, 450000.0, 675000.0, 450000.0, 405000.0, 1575000.0, 405000.0, 405000.0, 675000.0, 540000.0, 405000.0, 450000.0, 391500.0, 652500.0, 382500.0, 382500.0, 405000.0, 540000.0, 405000.0, 405000.0, 675000.0, 391500.0, 405000.0, 607500.0, 450000.0, 405000.0, 607500.0, 720000.0, 405000.0, 405000.0, 382500.0, 450000.0, 445500.0, 900000.0, 675000.0, 900000.0, 382500.0, 675000.0, 616500.0, 405000.0, 450000.0, 382500.0, 405000.0, 414000.0, 450000.0, 450000.0, 382500.0, 405000.0, 450000.0, 450000.0, 450000.0, 396000.0, 450000.0, 540000.0, 450000.0, 450000.0, 630000.0, 540000.0, 450000.0, 382500.0, 382500.0, 441000.0, 405000.0, 382500.0, 387000.0, 450000.0, 427500.0, 405000.0, 450000.0, 450000.0, 387000.0, 418500.0, 630000.0, 405000.0, 387000.0, 900000.0, 990000.0, 382500.0, 450000.0, 450000.0, 450000.0, 382500.0, 387000.0, 405000.0, 387000.0, 441000.0, 405000.0, 742500.0, 450000.0, 450000.0, 450000.0, 450000.0, 382500.0, 630000.0, 540000.0, 405000.0, 405000.0, 560250.0, 612000.0, 382500.0, 463500.0, 675000.0, 612000.0, 675000.0, 382500.0, 675000.0, 450000.0, 450000.0, 450000.0, 382500.0, 450000.0, 427500.0, 630000.0, 405000.0, 405000.0, 405000.0, 405000.0, 742500.0, 405000.0, 450000.0, 675000.0, 382500.0, 405000.0, 382500.0, 810000.0, 540000.0, 607500.0, 675000.0, 405000.0, 450000.0, 450000.0, 405000.0, 450000.0, 387000.0, 405000.0, 450000.0, 405000.0, 450000.0, 562500.0, 450000.0, 540000.0, 450000.0, 405000.0, 450000.0, 405000.0, 1125000.0, 562500.0, 450000.0, 450000.0, 445500.0, 382500.0, 1575000.0, 562500.0, 450000.0, 900000.0, 450000.0, 540000.0, 450000.0, 585000.0, 675000.0, 445500.0, 405000.0, 562500.0, 450000.0, 387000.0, 405000.0, 585000.0, 405000.0, 382500.0, 382500.0, 405000.0, 382500.0, 427500.0, 414000.0, 450000.0, 450000.0, 540000.0, 405000.0, 1350000.0, 616500.0, 450000.0, 900000.0, 900000.0, 540000.0, 675000.0, 675000.0, 495000.0, 382500.0, 1575000.0, 616500.0, 405000.0, 675000.0, 562500.0, 387000.0, 585000.0, 450000.0, 396000.0, 630000.0, 560250.0, 495000.0, 495000.0, 450000.0, 450000.0, 675000.0, 427500.0, 450000.0, 675000.0, 405000.0, 405000.0, 405000.0, 405000.0, 405000.0, 405000.0, 382500.0, 450000.0, 630000.0, 450000.0, 382500.0, 540000.0, 450000.0, 405000.0, 387000.0, 900000.0, 494100.0, 630000.0, 675000.0, 405000.0, 562500.0, 450000.0, 450000.0, 405000.0, 675000.0, 405000.0, 990000.0, 540000.0, 405000.0, 810000.0, 450000.0, 382500.0, 405000.0, 630000.0, 450000.0, 562500.0, 427500.0, 450000.0, 405000.0, 675000.0, 391500.0, 495000.0, 405000.0, 765000.0, 540000.0, 459000.0, 405000.0, 900000.0, 720000.0, 382500.0, 382500.0, 810000.0, 630000.0, 405000.0, 450000.0, 387000.0, 405000.0, 675000.0, 540000.0, 382500.0, 900000.0, 765000.0, 472500.0, 450000.0, 634500.0, 675000.0, 450000.0, 427500.0, 495000.0, 382500.0, 405000.0, 612000.0, 405000.0, 427500.0, 450000.0, 450000.0, 560250.0, 450000.0, 720000.0, 450000.0, 540000.0, 450000.0, 427500.0, 630000.0, 450000.0, 382500.0, 405000.0, 787500.0, 405000.0, 382500.0, 405000.0, 787500.0, 405000.0, 387000.0, 441000.0, 387000.0, 391500.0, 540000.0, 450000.0, 675000.0, 391500.0, 450000.0, 450000.0, 675000.0, 562500.0, 405000.0, 427500.0, 427500.0, 382500.0, 382500.0, 391500.0, 450000.0, 900000.0, 562500.0, 405000.0, 562500.0, 675000.0, 720000.0, 562500.0, 450000.0, 630000.0, 450000.0, 540000.0, 391500.0, 562500.0, 450000.0, 540000.0, 405000.0, 405000.0, 675000.0, 675000.0, 405000.0, 450000.0, 450000.0, 450000.0, 405000.0, 405000.0, 450000.0, 427500.0, 450000.0, 450000.0, 382500.0, 382500.0, 900000.0, 675000.0, 391500.0, 540000.0, 382500.0, 445500.0, 450000.0, 450000.0, 445500.0, 405000.0, 450000.0, 427500.0, 450000.0, 391500.0, 472500.0, 540000.0, 652500.0, 495000.0, 382500.0, 585000.0, 900000.0, 495000.0, 765000.0, 675000.0, 405000.0, 405000.0, 405000.0, 720000.0, 900000.0, 675000.0, 450000.0, 382500.0, 423000.0, 675000.0, 675000.0, 675000.0, 405000.0, 450000.0, 742500.0, 900000.0, 450000.0, 562500.0, 787500.0, 405000.0, 450000.0, 765000.0, 450000.0, 450000.0, 445500.0, 787500.0, 720000.0, 675000.0, 450000.0, 405000.0, 450000.0, 387000.0, 450000.0, 616500.0, 472500.0, 405000.0, 427500.0, 405000.0, 459000.0, 450000.0, 900000.0, 675000.0, 405000.0, 450000.0, 382500.0, 675000.0, 560250.0, 675000.0, 382500.0, 427500.0, 405000.0, 405000.0, 720000.0, 450000.0, 445500.0, 720000.0, 450000.0, 562500.0, 445500.0, 405000.0, 675000.0, 450000.0, 441000.0, 427500.0, 945000.0, 382500.0, 450000.0, 450000.0, 540000.0, 459000.0, 675000.0, 450000.0, 427500.0, 540000.0, 405000.0, 450000.0, 472500.0]\n"
     ]
    }
   ],
   "source": [
    "# iqr method \n",
    "q1,q3 = np.percentile(df['Income'],(25,75))\n",
    "iqr = q3 - q1 \n",
    "\n",
    "print('25 percentile :-', q1)\n",
    "print('75 percentile :-', q3)\n",
    "print('iqr is :- ', iqr)\n",
    "\n",
    "lower_tail = q1 - 1.5*(iqr)\n",
    "upper_tail = q3 + 1.5*(iqr)\n",
    "print('lower tail :-',lower_tail)\n",
    "print('upper tail :-',upper_tail)\n",
    "\n",
    "outliers = []\n",
    "for i in df['Income']:\n",
    "    if (i<lower_tail) or (i>upper_tail):\n",
    "        outliers.append(i)\n",
    "print('Detected outliers are :-', list(outliers))"
   ]
  },
  {
   "cell_type": "code",
   "execution_count": 75,
   "id": "ce427bc2",
   "metadata": {},
   "outputs": [
    {
     "data": {
      "text/plain": [
       "1575000.0"
      ]
     },
     "execution_count": 75,
     "metadata": {},
     "output_type": "execute_result"
    }
   ],
   "source": [
    "max(outliers)"
   ]
  },
  {
   "cell_type": "code",
   "execution_count": 76,
   "id": "d7471762",
   "metadata": {},
   "outputs": [
    {
     "data": {
      "text/plain": [
       "382500.0"
      ]
     },
     "execution_count": 76,
     "metadata": {},
     "output_type": "execute_result"
    }
   ],
   "source": [
    "min(outliers)"
   ]
  },
  {
   "cell_type": "code",
   "execution_count": 77,
   "id": "1e1bf7a3",
   "metadata": {},
   "outputs": [],
   "source": [
    "# We are replacing these outliers with median.\n",
    "df.loc[df['Income']> 382500.0, 'Income'] = df.loc[df['Income']< 382500.0, 'Income'].median()"
   ]
  },
  {
   "cell_type": "code",
   "execution_count": 78,
   "id": "5968e83f",
   "metadata": {},
   "outputs": [
    {
     "name": "stdout",
     "output_type": "stream",
     "text": [
      "AxesSubplot(0.125,0.125;0.775x0.755)\n"
     ]
    },
    {
     "data": {
      "image/png": "[encoded data removed]",
      "text/plain": [
       "<Figure size 432x288 with 1 Axes>"
      ]
     },
     "metadata": {
      "needs_background": "light"
     },
     "output_type": "display_data"
    }
   ],
   "source": [
    "plt.title('boxplot after handling outliers')\n",
    "print(sns.boxplot(df['Income']))"
   ]
  },
  {
   "cell_type": "code",
   "execution_count": 79,
   "id": "d2730a0d",
   "metadata": {},
   "outputs": [],
   "source": [
    "#observation :-\n",
    "# Outlier for 'Income' attribute are removed.\n",
    "# But still outliers are present."
   ]
  },
  {
   "cell_type": "markdown",
   "id": "642f2080",
   "metadata": {},
   "source": [
    "### 3. Age"
   ]
  },
  {
   "cell_type": "code",
   "execution_count": 80,
   "id": "b9f9383c",
   "metadata": {},
   "outputs": [
    {
     "data": {
      "text/plain": [
       "<AxesSubplot:xlabel='Age'>"
      ]
     },
     "execution_count": 80,
     "metadata": {},
     "output_type": "execute_result"
    },
    {
     "data": {
      "image/png": "[encoded data removed]",
      "text/plain": [
       "<Figure size 432x288 with 1 Axes>"
      ]
     },
     "metadata": {
      "needs_background": "light"
     },
     "output_type": "display_data"
    }
   ],
   "source": [
    "# boxplot before handling outliers\n",
    "sns.boxplot(df['Age'])"
   ]
  },
  {
   "cell_type": "code",
   "execution_count": 81,
   "id": "0cc62d93",
   "metadata": {},
   "outputs": [],
   "source": [
    "# Observations:-\n",
    "# Attribute 'Age' not posses any outlier."
   ]
  },
  {
   "cell_type": "markdown",
   "id": "86219078",
   "metadata": {},
   "source": [
    "### 4. Employment length"
   ]
  },
  {
   "cell_type": "code",
   "execution_count": 82,
   "id": "edac2822",
   "metadata": {},
   "outputs": [
    {
     "data": {
      "text/plain": [
       "<AxesSubplot:title={'center':'boxplot before handling outliers'}, xlabel='Employment length'>"
      ]
     },
     "execution_count": 82,
     "metadata": {},
     "output_type": "execute_result"
    },
    {
     "data": {
      "image/png": "[encoded data removed]",
      "text/plain": [
       "<Figure size 432x288 with 1 Axes>"
      ]
     },
     "metadata": {
      "needs_background": "light"
     },
     "output_type": "display_data"
    }
   ],
   "source": [
    "plt.title('boxplot before handling outliers')\n",
    "sns.boxplot(df['Employment length'])"
   ]
  },
  {
   "cell_type": "code",
   "execution_count": 83,
   "id": "dc42ceef",
   "metadata": {},
   "outputs": [
    {
     "name": "stdout",
     "output_type": "stream",
     "text": [
      "25 percentile :- -3153.0\n",
      "75 percentile :- -408.0\n",
      "iqr is :-  2745.0\n",
      "lower tail :- -7270.5\n",
      "upper tail :- 3709.5\n",
      "Detected outliers are :- [365243, 365243, 365243, 365243, 365243, 365243, 365243, 365243, 365243, 365243, 365243, 365243, 365243, 365243, -12870, 365243, 365243, 365243, -8072, 365243, 365243, -12332, 365243, 365243, 365243, -8410, 365243, 365243, 365243, -7824, 365243, -11884, 365243, 365243, 365243, -8995, 365243, 365243, 365243, 365243, -8479, 365243, 365243, 365243, 365243, -7369, 365243, 365243, 365243, -7824, -8497, 365243, 365243, -10110, 365243, 365243, 365243, 365243, 365243, -7778, 365243, 365243, 365243, 365243, 365243, 365243, -9794, 365243, 365243, -9896, -12455, 365243, 365243, -8405, 365243, -7738, 365243, 365243, 365243, -9076, 365243, 365243, 365243, 365243, -7369, 365243, 365243, 365243, 365243, 365243, 365243, 365243, 365243, 365243, 365243, 365243, 365243, 365243, -8803, 365243, 365243, 365243, 365243, 365243, 365243, 365243, 365243, -10821, 365243, 365243, -7752, 365243, -8175, 365243, 365243, -7346, 365243, 365243, 365243, -7346, 365243, 365243, 365243, 365243, 365243, 365243, 365243, -8710, -11451, -10079, -8284, 365243, 365243, 365243, 365243, 365243, 365243, 365243, -7369, -8684, -10384, -8509, 365243, 365243, -7756, -7830, -10121, -10232, -7900, -8664, 365243, 365243, -7627, 365243, 365243, -7371, 365243, -9391, 365243, -12423, 365243, 365243, -7718, 365243, -8837, 365243, -7734, 365243, 365243, 365243, 365243, 365243, 365243, 365243, 365243, -9756, -7379, 365243, 365243, 365243, -8325, 365243, 365243, -7888, 365243, 365243, -9029, -11552, 365243, -8083, -8375, 365243, 365243, 365243, -7624, 365243, -9559, -12179, 365243, -8152, 365243, 365243, -9482, -14018, 365243, -8647, 365243, 365243, 365243, 365243, 365243, 365243, 365243, 365243, 365243, 365243, 365243, 365243, 365243, 365243, 365243, 365243, 365243, -8377, 365243, 365243, 365243, -9389, -10490, 365243, 365243, 365243, 365243, 365243, -10259, 365243, 365243, 365243, 365243, 365243, 365243, 365243, 365243, 365243, 365243, 365243, 365243, 365243, 365243, 365243, 365243, 365243, 365243, 365243, 365243, 365243, 365243, -10110, 365243, 365243, 365243, 365243, 365243, 365243, 365243, 365243, -7346, 365243, -11884, 365243, 365243, 365243, 365243, -9683, 365243, -7371, 365243, 365243, 365243, 365243, 365243, -8130, 365243, 365243, -7622, 365243, 365243, 365243, 365243, -8405, 365243, -7500, 365243, 365243, 365243, 365243, 365243, -7369, -9564, -8855, -7364, -10936, -7494, 365243, -7551, 365243, 365243, 365243, 365243, 365243, 365243, 365243, 365243, -14338, -8131, 365243, 365243, -7513, -8643, 365243, 365243, 365243, 365243, -10993, 365243, 365243, 365243, 365243, -9482, 365243, 365243, 365243, 365243, -8033, 365243, -7624, 365243, 365243, 365243, 365243, 365243, 365243, -8376, 365243, -15038, 365243, 365243, 365243, 365243, 365243, 365243, 365243, 365243, 365243, -7627, 365243, 365243, 365243, 365243, 365243, 365243, 365243, 365243, -7627, 365243, -8284, 365243, -9178, 365243, 365243, 365243, 365243, -8284, -7288, 365243, -8497, 365243, 365243, -9029, -10079, 365243, 365243, -9255, 365243, 365243, 365243, -7401, -7280, -8044, 365243, 365243, -8412, 365243, 365243, 365243, 365243, 365243, 365243, -10490, 365243, 365243, 365243, 365243, 365243, 365243, 365243, -12332, 365243, 365243, 365243, 365243, 365243, 365243, 365243, 365243, 365243, 365243, 365243, 365243, 365243, 365243, 365243, 365243, 365243, 365243, 365243, 365243, 365243, 365243, 365243, 365243, 365243, 365243, -8083, 365243, 365243, -15038, 365243, 365243, 365243, 365243, 365243, 365243, 365243, 365243, 365243, 365243, 365243, 365243, 365243, 365243, -7415, -7401, 365243, 365243, 365243, 365243, 365243, -7369, -8109, 365243, -9325, 365243, -8995, 365243, -11658, 365243, 365243, 365243, 365243, -7400, 365243, 365243, 365243, 365243, 365243, 365243, -7280, -10780, -7369, 365243, -10121, -9419, 365243, 365243, 365243, 365243, 365243, 365243, 365243, 365243, 365243, 365243, 365243, -9131, 365243, 365243, 365243, -14413, 365243, 365243, 365243, 365243, 365243, 365243, -8460, -13245, -7979, 365243, -9325, 365243, -9870, -8033, 365243, 365243, -11062, 365243, 365243, 365243, -7404, 365243, -8254, 365243, 365243, 365243, 365243, 365243, 365243, -13010, 365243, -9751, 365243, 365243, -8157, 365243, 365243, 365243, 365243, 365243, -13102, 365243, 365243, 365243, 365243, -11954, 365243, 365243, 365243, 365243, 365243, -8803, 365243, 365243, 365243, 365243, -7310, 365243, 365243, 365243, -8083, 365243, 365243, 365243, 365243, 365243, 365243, 365243, 365243, 365243, 365243, 365243, -9447, 365243, 365243, 365243, 365243, 365243, -10762, 365243, 365243, 365243, -8691, -12332, 365243, 365243, 365243, 365243, 365243, -11907, 365243, -8290, 365243, -8375, 365243, 365243, 365243, -7371, 365243, 365243, 365243, -9046, 365243, 365243, 365243, 365243, 365243, 365243, -7346, 365243, 365243, 365243, 365243, 365243, 365243, 365243, -7624, 365243, 365243, -8100, 365243, -9564, 365243, -7851, -8760, 365243, 365243, 365243, 365243, 365243, 365243, 365243, 365243, 365243, 365243, -12591, 365243, 365243, 365243, 365243, 365243, 365243, 365243, 365243, 365243, 365243, 365243, -11940, 365243, 365243, 365243, 365243, 365243, 365243, 365243, -7979, 365243, 365243, 365243, 365243, 365243, 365243, 365243, 365243, 365243, -7371, 365243, 365243, -7400, 365243, -7838, -13415, -10202, 365243, 365243, 365243, 365243, -9975, -7494, 365243, 365243, -7733, 365243, 365243, 365243, 365243, 365243, 365243, 365243, 365243, -7640, 365243, 365243, 365243, 365243, 365243, 365243, -8284, 365243, 365243, -12870, 365243, 365243, 365243, 365243, 365243, -8808, 365243, 365243, 365243, -7979, 365243, -8479, 365243, 365243, 365243, 365243, 365243, 365243, 365243, 365243, 365243, 365243, -9683, 365243, 365243, 365243, 365243, 365243, 365243, 365243, 365243, -9419, 365243, 365243, 365243, -9359, 365243, 365243, -9325, -7979, 365243, 365243, -15038, 365243, 365243, 365243, 365243, -12179, 365243, 365243, 365243, 365243, 365243, -9260, 365243, 365243, 365243, 365243, -8870, -8479, 365243, 365243, 365243, 365243, 365243, -8509, -8510, -7404, 365243, -7404, 365243, 365243, 365243, -9482, 365243, -7364, 365243, 365243, 365243, 365243, -8691, 365243, 365243, 365243, 365243, -8375, -14413, 365243, -8647, 365243, 365243, 365243, 365243, 365243, 365243, 365243, 365243, 365243, -8491, 365243, 365243, 365243, 365243, 365243, 365243, -10121, 365243, 365243, 365243, 365243, 365243, 365243, 365243, 365243, 365243, 365243, 365243, -13415, 365243, 365243, 365243, 365243, 365243, -7614, -10364, 365243, 365243, 365243, 365243, -10758, 365243, -10217, 365243, 365243, -10994, 365243, 365243, 365243, 365243, 365243, 365243, 365243, 365243, 365243, 365243, -8684, 365243, -8643, 365243, 365243, 365243, 365243, 365243, 365243, 365243, 365243, 365243, -7735, 365243, 365243, 365243, 365243, -7979, 365243, 365243, 365243, 365243, 365243, 365243, 365243, 365243, -8953, 365243, 365243, 365243, 365243, 365243, 365243, 365243, 365243, -10079, 365243, -8175, -8325, 365243, -9363, -7341, 365243, 365243, -12332, 365243, 365243, 365243, 365243, 365243, -8684, -14536, -11183, -7838, 365243, -11951, 365243, -9152, 365243, -8894, -9830, 365243, 365243, 365243, 365243, -8995, 365243, 365243, -10121, 365243, 365243, 365243, 365243, 365243, 365243, -7676, 365243, 365243, -7364, 365243, -9748, -9325, 365243, 365243, -8469, 365243, 365243, -8033, -8405, 365243, -7718, 365243, 365243, 365243, 365243, 365243, 365243, 365243, 365243, -7888, 365243, 365243, 365243, 365243, 365243, 365243, 365243, 365243, 365243, 365243, -7591, 365243, 365243, -12870, 365243, 365243, 365243, -12917, 365243, -8538, 365243, 365243, 365243, 365243, -8206, -8369, 365243, -9325, 365243, 365243, 365243, 365243, 365243, 365243, -12169, 365243, -7838, 365243, 365243, 365243, 365243, 365243, 365243, -8862, -7371, -8405, 365243, 365243, 365243, 365243, 365243, 365243, 365243, 365243, 365243, -10821, 365243, 365243, 365243, 365243, -7379, -9258, 365243, 365243, -8647, -7310, 365243, 365243, 365243, 365243, 365243, -7379, 365243, -7401, 365243, 365243, -9683, 365243, 365243, 365243, -7280, 365243, -10993, 365243, -10777, 365243, -7494, 365243, 365243, 365243, 365243, 365243, -10364, 365243, 365243, -14775, 365243, 365243, 365243, 365243, 365243, 365243, 365243, -7827, -8863, 365243, 365243, 365243, 365243, 365243, 365243, 365243, 365243, 365243, 365243, 365243, 365243, 365243, -10762, -8022, 365243, 365243, 365243, 365243, 365243, 365243, -8684, 365243, 365243, 365243, 365243, 365243, 365243, 365243, 365243, 365243, -8375, -10600, 365243, -9320, 365243, 365243, 365243, 365243, -11589, 365243, 365243, -8491, 365243, -7827, 365243, -11552, 365243, 365243, 365243, 365243, 365243, 365243, -9385, 365243, 365243, 365243, -7379, -12870, 365243, 365243, -8083, -10758, 365243, 365243, 365243, 365243, 365243, 365243, 365243, 365243, 365243, -10202, 365243, 365243, 365243, 365243, 365243, 365243, 365243, 365243, 365243, 365243, 365243, 365243, 365243, 365243, 365243, 365243, -7778, 365243, -9391, 365243, 365243, 365243, 365243, -9989, 365243, 365243, 365243, -10821, 365243, 365243, 365243, 365243, 365243, -7513, 365243, 365243, 365243, 365243, 365243, 365243, 365243, 365243, 365243, 365243, -7341, 365243, 365243, 365243, 365243, -9866, 365243, 365243, -8923, 365243, 365243, 365243, 365243, 365243, 365243, -7835, 365243, 365243, -14536, -7979, 365243, 365243, 365243, 365243, -9316, 365243, 365243, -12462, 365243, 365243, 365243, 365243, 365243, 365243, -9325, 365243, 365243, 365243, 365243, 365243, 365243, 365243, 365243, 365243, 365243, 365243, 365243, 365243, 365243, 365243, -9599, -8509, 365243, -7752, 365243, 365243, 365243, 365243, 365243, -9389, 365243, 365243, 365243, -8870, 365243, -7371, 365243, 365243, 365243, 365243, 365243, 365243, -9359, -7718, -8375, 365243, 365243, 365243, 365243, -8109, 365243, 365243, -14473, -9359, 365243, 365243, 365243, 365243, 365243, 365243, 365243, 365243, -11332, 365243, 365243, 365243, 365243, 365243, -9866, 365243, 365243, 365243, 365243, -11451, 365243, -9422, 365243, -11157, 365243, 365243, 365243, 365243, 365243, 365243, -8325, 365243, 365243, 365243, 365243, 365243, 365243, 365243, 365243, 365243, 365243, 365243, 365243, -9866, 365243, -8737, 365243, -8015, 365243, 365243, 365243, 365243, -9751, 365243, -8143, 365243, 365243, 365243, 365243, 365243, -9269, 365243, 365243, 365243, 365243, 365243, 365243, -8684, -10821, -7627, 365243, 365243, 365243, 365243, -9482, 365243, 365243, -7734, 365243, -8100, 365243, 365243, 365243, 365243, 365243, 365243, -9482, 365243, -10236, 365243, 365243, 365243, 365243, 365243, 365243, 365243, -11589, 365243, -7979, 365243, -8507, -13102, 365243, 365243, 365243, 365243, 365243, 365243, 365243, -8714, 365243, -11448, 365243, -12253, -7979, 365243, 365243, 365243, -9698, 365243, 365243, -10993, 365243, 365243, 365243, 365243, 365243, 365243, 365243, -7346, 365243, 365243, 365243, 365243, 365243, 365243, 365243, 365243, 365243, 365243, 365243, 365243, 365243, -7949, 365243, 365243, -11954, 365243, 365243, 365243, -12179, 365243, 365243, 365243, 365243, 365243, 365243, 365243, 365243, -7310, 365243, 365243, 365243, 365243, -11451, 365243, 365243, 365243, 365243, 365243, 365243, 365243, -9870, 365243, -9975, 365243, -10475, 365243, -15038, 365243, -8040, 365243, 365243, -14810, 365243, 365243, -8479, 365243, 365243, 365243, 365243, -15661, 365243, 365243, 365243, 365243, 365243, 365243, 365243, -14887, 365243, 365243, 365243, 365243, 365243, 365243, -10094, 365243, -7346, 365243, -8469, -9181, 365243, -9269, 365243, 365243, 365243, 365243, 365243, -12169, 365243, -11940, 365243, -8691, 365243, 365243, -8072, 365243, 365243, 365243, 365243, 365243, -13699, 365243, 365243, 365243, 365243, 365243, 365243, 365243, 365243, 365243, 365243, 365243, -8479, 365243, 365243, 365243, 365243, 365243, 365243, 365243, 365243, 365243, 365243, 365243, 365243, 365243, 365243, 365243, -8063, 365243, 365243, -7413, 365243, 365243, -7465, 365243, 365243, 365243, 365243, -8036, 365243, 365243, 365243, 365243, -14775, 365243, 365243, 365243, 365243, 365243, 365243, -9136, 365243, 365243, -12332, -8206, -7622, 365243, 365243, 365243, 365243, 365243, 365243, -12647, -10384, 365243, 365243, 365243, 365243, 365243, 365243, 365243, 365243, 365243, 365243, 365243, -9225, 365243, 365243, 365243, 365243, -10936, 365243, 365243, -10994, 365243, 365243, -13245, 365243, -7369, 365243, 365243, 365243, -7288, 365243, 365243, 365243, 365243, 365243, -7733, 365243, 365243, -9385, 365243, 365243, 365243, -8479, 365243, -12870, 365243, 365243, 365243, 365243, 365243, 365243, 365243, 365243, 365243, 365243, 365243, 365243, 365243, 365243, -10758, 365243, 365243, 365243, 365243, 365243, 365243, 365243, 365243, 365243, 365243, 365243, 365243, -7640, 365243, 365243, 365243, 365243, 365243, 365243, 365243, 365243, 365243, 365243, -7371, 365243, 365243, 365243, -9870, 365243, -11589, 365243, -12253, 365243, 365243, 365243, 365243, 365243, 365243, 365243, 365243, 365243, 365243, 365243, 365243, 365243, 365243, -7840, 365243, -7838, 365243, 365243, -8538, 365243, -7733, -7471, 365243, -10079, 365243, 365243, -11954, 365243, 365243, 365243, 365243, 365243, 365243, 365243, 365243, -7371, 365243, 365243, 365243, 365243, 365243, 365243, 365243, 365243, -11542, 365243, 365243, -8033, 365243, 365243, -7536, 365243, 365243, 365243, 365243, 365243, 365243, 365243, 365243, 365243, 365243, 365243, 365243, 365243, 365243, 365243, 365243, 365243, 365243, 365243, 365243, -7465, 365243, 365243, 365243, -9419, 365243, 365243, 365243, -8140, 365243, 365243, -8163, 365243, 365243, 365243, 365243, 365243, 365243, 365243, 365243, 365243, 365243, 365243, 365243, 365243, 365243, 365243, 365243, 365243, 365243, 365243, 365243, 365243, -10490, 365243, 365243, -13415, 365243, -7851, 365243, 365243, -11951, 365243, -7346, 365243, 365243, -7369, -7280, 365243, 365243, 365243, 365243, 365243, -7824, 365243, 365243, 365243, -7347, -8861, 365243, 365243, 365243, -7871, -9311, 365243, 365243, 365243, 365243, 365243, 365243, 365243, -8684, 365243, 365243, 365243, 365243, 365243, 365243, 365243, 365243, -11555, 365243, -7521, -9988, -11183, -14018, 365243, 365243, 365243, 365243, 365243, 365243, -7310, 365243, 365243, 365243, 365243, -7415, 365243, 365243, -7706, 365243, 365243, 365243, -9698, 365243, -12949, 365243, -9389, 365243, 365243, -10147, 365243, 365243, 365243, -7280, 365243, 365243, 365243, 365243, -7280, 365243, 365243, 365243, -8479, 365243, 365243, 365243, 365243, -8100, 365243, 365243, 365243, 365243, 365243, 365243, 365243, 365243, 365243, 365243, 365243, 365243, 365243, 365243, -7288, 365243, -7627, 365243, 365243, 365243, 365243, 365243, 365243, 365243, 365243, 365243, 365243, 365243, 365243, -10437, 365243, 365243, -9391, -7373, 365243, 365243, 365243, -7851, -8855, 365243, 365243, 365243, 365243, -7676, 365243, 365243, 365243, 365243, 365243, 365243, 365243, -14018, 365243, 365243, -7979, -12169, 365243, 365243, 365243, 365243, 365243, 365243, 365243, 365243, 365243, -11083, 365243, 365243, 365243, -7346, 365243, 365243, 365243, 365243, 365243, 365243, -7310, 365243, 365243, 365243, 365243, -7734, 365243, -10079, -15661, 365243, 365243, 365243, -7824, 365243, 365243, 365243, 365243, 365243, 365243, 365243, -10079, 365243, 365243, 365243, 365243, 365243, -9136, 365243, 365243, 365243, 365243, 365243, 365243, -7415, 365243, 365243, 365243, 365243, 365243, 365243, -8143, 365243, 365243, -8405, 365243, 365243, 365243, -7804, 365243, -7949, 365243, -9482, 365243, -8684, 365243, 365243, 365243, -10600, 365243, 365243, 365243, 365243, 365243, 365243, 365243, -8460, -10600, 365243, 365243, 365243, 365243, -7676, -9683, 365243, 365243, 365243, 365243, 365243, 365243, 365243, -12870, 365243, 365243, 365243, 365243, -9748, -10155, 365243, 365243, 365243, 365243, -7522, 365243, 365243, 365243, 365243, 365243, 365243, 365243, 365243, 365243, 365243, -7280, 365243, 365243, 365243, 365243, 365243, 365243, 365243, 365243, 365243, 365243, 365243, 365243, 365243, 365243, 365243, 365243, 365243, 365243, -8647, 365243, 365243, 365243, 365243, 365243, 365243, 365243, 365243, 365243, 365243, 365243, 365243, 365243, 365243, 365243, -8647, 365243, 365243, 365243, 365243, 365243, 365243, 365243, 365243, 365243, 365243, -8254, 365243, 365243, -11552, 365243, 365243, 365243, 365243, 365243, 365243, 365243, 365243, 365243, 365243, 365243, 365243, 365243, -9258, 365243, 365243, -8647, -8870, -7624, 365243, -8479, -8100, -7401, 365243, 365243, -12148, 365243, 365243, -8091, 365243, 365243, 365243, 365243, 365243, 365243, 365243, -14810, 365243, 365243, 365243, -9046, -8855, -10384, -9756, 365243, -10780, 365243, 365243, 365243, 365243, 365243, 365243, 365243, -12179, 365243, 365243, -7734, 365243, 365243, -9866, -8206, 365243, 365243, 365243, 365243, 365243, 365243, 365243, 365243, 365243, 365243, 365243, -7864, 365243, 365243, -10821, -8083, 365243, 365243, -10384, 365243, 365243, 365243, -9359, 365243, 365243, 365243, -8760, 365243, 365243, 365243, -9131, 365243, 365243, 365243, 365243, 365243, 365243, 365243, 365243, 365243, 365243, 365243, -8643, 365243, 365243, 365243, 365243, -8033, 365243, 365243, 365243, -7371, 365243, 365243, 365243, 365243, 365243, 365243, 365243, -7627, 365243, 365243, 365243, 365243, 365243, -8316, 365243, -15038, 365243, 365243, 365243, 365243, 365243, 365243, 365243, 365243, 365243, 365243, 365243, 365243, 365243, -7622, -8862, 365243, 365243, 365243, -7346, 365243, -8691, 365243, 365243, 365243, 365243, 365243, 365243, 365243, 365243, 365243, -7371, 365243, 365243, 365243, -7371, 365243, 365243, 365243, 365243, 365243, 365243, 365243, -9988, 365243, 365243, 365243, 365243, 365243, 365243, 365243, 365243, 365243, -10110, -8535, 365243, 365243, 365243, 365243, 365243, 365243, 365243, 365243, 365243, 365243, 365243, 365243, 365243, -8143, 365243, 365243, 365243, 365243, 365243, -11785, -14536, 365243, 365243, 365243, 365243, 365243, -7369, 365243, -10600, 365243, -10780, -9136, 365243, -9975, 365243, 365243, 365243, 365243, 365243, -8011, 365243, -9527, 365243, 365243, -8803, -7369, 365243, 365243, -7778, 365243, 365243, 365243, 365243, 365243, -13010, 365243, -10155, -7364, 365243, 365243, 365243, 365243, 365243, 365243, 365243, 365243, 365243, 365243, 365243, 365243, 365243, 365243, 365243, 365243, 365243, 365243, 365243, -11589, 365243, 365243, 365243, 365243, 365243, -14127, 365243, 365243, 365243, 365243, -7465, -7369, 365243, -10600, 365243, 365243, 365243, -14887, -8375, -11954, 365243, 365243, 365243, 365243, -7752, 365243, 365243, 365243, 365243, 365243, 365243, 365243, 365243, 365243, 365243, 365243, 365243, 365243, 365243, 365243, 365243, 365243, -7369, 365243, 365243, 365243, 365243, -7979, 365243, 365243, 365243, 365243, -15661, 365243, 365243, 365243, 365243, 365243, -9745, 365243, 365243, 365243, 365243, 365243, -9485, -8760, 365243, 365243, -7622, 365243, -10993, 365243, 365243, 365243, 365243, -7465, 365243, 365243, 365243, 365243, 365243, -8671, -7276, 365243, 365243, -9925, 365243, -14887, 365243, 365243, 365243, -7900, 365243, 365243, 365243, 365243, -10155, -7718, 365243, 365243, 365243, 365243, 365243, 365243, 365243, -7288, 365243, 365243, 365243, 365243, 365243, -9076, 365243, 365243, 365243, 365243, 365243, 365243, 365243, -7347, 365243, 365243, 365243, 365243, -12490, 365243, 365243, 365243, 365243, 365243, 365243, 365243, 365243, -11555, -7614, 365243, 365243, 365243, -8290, -8130, 365243, 365243, 365243, -14018, 365243, 365243, 365243, 365243, 365243, 365243, 365243, 365243, -7888, 365243, 365243, 365243, 365243, 365243, 365243, 365243, 365243, 365243, 365243, 365243, 365243, 365243, 365243, 365243, 365243, -8163, -8737, 365243, 365243, -8538, 365243, -11542, 365243, 365243, -11451, 365243, 365243, 365243, 365243, -8479, 365243, 365243, -7400, 365243, 365243, 365243, 365243, 365243, 365243, 365243, 365243, -9195, 365243, 365243, 365243, 365243, 365243, 365243, 365243, 365243, -7500, 365243, 365243, 365243, 365243, 365243, 365243, 365243, 365243, 365243, -9052, 365243, 365243, 365243, 365243, -10600, 365243, 365243, 365243, 365243, -8044, -12647, -8527, 365243, 365243, 365243, 365243, -8469, 365243, 365243, 365243, -11906, -9957, 365243, 365243, 365243, -7373, -10290, -8859, 365243, 365243, 365243, 365243, 365243, 365243, 365243, 365243, 365243, 365243, 365243, 365243, 365243, 365243, -7471, -7765, -8036, 365243, 365243, 365243, 365243, -15713, 365243, 365243, 365243, 365243, 365243, -9029, 365243, 365243, 365243, 365243, 365243, 365243, 365243, 365243, 365243, -8376, 365243, -15072, 365243, 365243, 365243, 365243, -14810, 365243, -14473, 365243, 365243, 365243, 365243, -7346, 365243, 365243, 365243, -9136, 365243, 365243, -7346, 365243, 365243, -7346, 365243, 365243, -8375, 365243, 365243, 365243, -7371, 365243, -7369, 365243, 365243, 365243, 365243, 365243, 365243, 365243, 365243, 365243, 365243, -7804, 365243, -7413, 365243, 365243, 365243, 365243, 365243, 365243, 365243, 365243, 365243, 365243, 365243, 365243, -9988, 365243, -11555, -8737, -7804, 365243, 365243, 365243, -8509, 365243, 365243, 365243, 365243, 365243, 365243, 365243, 365243, 365243, 365243, 365243, 365243, 365243, 365243, 365243, 365243, 365243, 365243, 365243, 365243, 365243, 365243, -7413, 365243, -8376, 365243, -7811, -14473, -9029, -9269, 365243, 365243, 365243, -8664, 365243, 365243, -8405, 365243, 365243, 365243, 365243, -7500, 365243, 365243, 365243, -11542, 365243, 365243, 365243, 365243, -8714, 365243, 365243, 365243, 365243, 365243, 365243, 365243, 365243, -8987, 365243, 365243, 365243, 365243, 365243, -10110, 365243, 365243, 365243, 365243, 365243, 365243, 365243, 365243, -8230, 365243, 365243, 365243, -7341, 365243, 365243, 365243, 365243, 365243, 365243, 365243, 365243, 365243, -7627, 365243, -9559, 365243, 365243, 365243, 365243, 365243, -7840, 365243, -9745, -12332, -7752, 365243, 365243, 365243, -8691, 365243, 365243, 365243, 365243, -12827, 365243, -8206, 365243, -11940, -8855, 365243, -7624, 365243, 365243, 365243, 365243, 365243, 365243, 365243, 365243, -8172, 365243, 365243, 365243, 365243, -13102, 365243, 365243, -9385, 365243, 365243, -12490, 365243, 365243, -7838, 365243, -7835, 365243, -9482, 365243, 365243, 365243, 365243, 365243, 365243, 365243, 365243, 365243, 365243, -7838, -10773, 365243, 365243, 365243, 365243, 365243, 365243, 365243, -8737, 365243, -7413, -10490, 365243, 365243, 365243, 365243, 365243, 365243, 365243, 365243, 365243, 365243, 365243, 365243, 365243, 365243, -7346, -7921, -7415, 365243, 365243, 365243, 365243, 365243, 365243, 365243, 365243, 365243, 365243, 365243, -11398, 365243, 365243, 365243, 365243, -8479, -7522, 365243, -10993, 365243, 365243, 365243, 365243, 365243, 365243, 365243, -8443, 365243, 365243, 365243, 365243, 365243, 365243, 365243, 365243, 365243, 365243, 365243, 365243, 365243, 365243, 365243, 365243, -9363, 365243, -9559, 365243, 365243, 365243, 365243, 365243, 365243, 365243, 365243, 365243, 365243, 365243, 365243, 365243, 365243, 365243, 365243, -8691, 365243, 365243, 365243, 365243, 365243, 365243, 365243, 365243, 365243, 365243, 365243, 365243, 365243, -8684, 365243, 365243, 365243, 365243, 365243, 365243, -7593, 365243, 365243, 365243, 365243, 365243, 365243, 365243, 365243, 365243, 365243, -7504, 365243, -8036, 365243, -9870, 365243, -9870, 365243, 365243, 365243, 365243, -7347, 365243, -10364, 365243, 365243, 365243, 365243, -7752, 365243, 365243, 365243, 365243, 365243, 365243, 365243, 365243, 365243, -10692, 365243, 365243, 365243, 365243, -11061, 365243, 365243, -8601, 365243, -8040, 365243, 365243, 365243, 365243, 365243, 365243, 365243, 365243, 365243, -9131, 365243, 365243, -12591, 365243, 365243, -12827, 365243, 365243, -8091, -7310, 365243, 365243, 365243, 365243, 365243, 365243, 365243, 365243, 365243, 365243, 365243, 365243, 365243, 365243, -7404, 365243, 365243, -9325, 365243, -7804, 365243, 365243, 365243, 365243, 365243, 365243, 365243, 365243, 365243, 365243, 365243, -8405, 365243, 365243, -9683, 365243, -9751, -7415, 365243, 365243, -7341, 365243, 365243, 365243, -10147, 365243, 365243, 365243, 365243, 365243, -7280, 365243, 365243, 365243, -7401, 365243, 365243, 365243, -7288, 365243, 365243, 365243, 365243, 365243, 365243, 365243, -8469, 365243, 365243, 365243, 365243, -8803, 365243, 365243, 365243, 365243, 365243, 365243, 365243, -7310, 365243, -7536, -10290, -10094, -7288, 365243, 365243, 365243, 365243, 365243, 365243, 365243, 365243, 365243, 365243, 365243, 365243, -7494, 365243, 365243, 365243, 365243, 365243, 365243, 365243, 365243, 365243, 365243, 365243, -8109, 365243, 365243, 365243, -9422, 365243, 365243, 365243, 365243, 365243, 365243, 365243, 365243, 365243, 365243, 365243, 365243, 365243, -8412, 365243, 365243, -9052, 365243, 365243, 365243, -8316, -8283, 365243, 365243, 365243, 365243, 365243, -7346, -9239, -8808, 365243, 365243, -15038, 365243, 365243, 365243, 365243, 365243, 365243, 365243, 365243, 365243, 365243, 365243, 365243, 365243, 365243, 365243, 365243, 365243, 365243, -10490, 365243, 365243, 365243, -10993, 365243, 365243, 365243, 365243, -7627, 365243, 365243, 365243, 365243, 365243, 365243, 365243, 365243, 365243, 365243, 365243, 365243, 365243, -12332, 365243, 365243, 365243, 365243, -14887, 365243, 365243, 365243, 365243, 365243, 365243, 365243, 365243, -9359, 365243, 365243, 365243, 365243, 365243, 365243, 365243, 365243, 365243, 365243, 365243, 365243, -9479, -11693, -7851, 365243, 365243, 365243, -7804, 365243, -7522, -7341, 365243, -7401, 365243, 365243, -7415, -13415, 365243, 365243, 365243, -8033, 365243, 365243, 365243, 365243, -8647, -8377, -7824, 365243, 365243, 365243, 365243, 365243, 365243, 365243, -9581, 365243, 365243, 365243, 365243, 365243, 365243, 365243, 365243, 365243, 365243, 365243, 365243, 365243, 365243, 365243, -7900, 365243, 365243, -8375, -8647, 365243, -11907, 365243, 365243, 365243, 365243, -10094, 365243, 365243, 365243, 365243, -7838, 365243, -8143, -9363, 365243, -9316, -8538, 365243, 365243, 365243, 365243, 365243, -12870, 365243, -8469, 365243, 365243, -9748, -8163, 365243, 365243, 365243, 365243, 365243, 365243, 365243, 365243, 365243, -7627, 365243, 365243, 365243, 365243, 365243, -7371, 365243, 365243, 365243, 365243, 365243, -9131, 365243, 365243, 365243, 365243, -10490, -9748, 365243, -10490, 365243, 365243, 365243, 365243, 365243, -9194, -7627, -11542, 365243, 365243, 365243, 365243, 365243, -8601, -10259, 365243, 365243, 365243, -7518, 365243, 365243, 365243, 365243, 365243, 365243, -8794, 365243, 365243, 365243, -10290, 365243, 365243, 365243, 365243, 365243, 365243, 365243, 365243, -11692, -9029, 365243, 365243, 365243, 365243, -10600, 365243, 365243, 365243, 365243, 365243, -9325, 365243, 365243, 365243, -11157, -7341, -7400, -7979, -9258, -7640, -14018, 365243, 365243, -9925, 365243, 365243, 365243, 365243, 365243, 365243, 365243, -11202, 365243, -9870, 365243, 365243, 365243, 365243, -9391, -9359, 365243, -8071, 365243, -7978, 365243, 365243, 365243, 365243, 365243, 365243, 365243, 365243, 365243, -9508, 365243, 365243, -9258, 365243, 365243, 365243, 365243, 365243, 365243, 365243, -7364, 365243, 365243, 365243, 365243, 365243, 365243, 365243, 365243, 365243, -9363, 365243, 365243, 365243, -15038, 365243, 365243, 365243, 365243, 365243, -9751, -8794, 365243, 365243, 365243, 365243, -11061, 365243, -11954, 365243, 365243, 365243, -8033, 365243, 365243, 365243, -11954, -7415, 365243, 365243, 365243, 365243, -8230, -10600, 365243, 365243, 365243, 365243, 365243, 365243, 365243, 365243, 365243, -8175, -7679, 365243, 365243, -10121, 365243, 365243, 365243, 365243, -7593, -8469, 365243, -7916, 365243, -12591, 365243, 365243, -14887, 365243, 365243, 365243, 365243, -12278, 365243, -7734, -10993, 365243, 365243, 365243, 365243, 365243, 365243, 365243, 365243, 365243, -7866, 365243, -14810, 365243, 365243, 365243, -10758, -7465, 365243, 365243, 365243, -7401, 365243, 365243, 365243, 365243, 365243, -8348, 365243, 365243, 365243, -9870, -7369, 365243, 365243, 365243, 365243, -11906, 365243, 365243, 365243, 365243, 365243, 365243, -8011, 365243, 365243, -9019, 365243, -10909, 365243, 365243, 365243, 365243, 365243, 365243, -9269, -7718, 365243, 365243, 365243, 365243, 365243, 365243, -8855, 365243, 365243, 365243, 365243, -8411, 365243, 365243, 365243, 365243, 365243, 365243, 365243, 365243, 365243, -8469, 365243, -7288, -9269, -7514, 365243, 365243, 365243, -7591, 365243, 365243, 365243, 365243, 365243, -8405, 365243, 365243, 365243, 365243, 365243, 365243, 365243, 365243, 365243, 365243, 365243, 365243, 365243, 365243, 365243, 365243, 365243, 365243, 365243, 365243, -12455, 365243, 365243, 365243, 365243, 365243, -11542, 365243, 365243, 365243, -7276, 365243, 365243, 365243, 365243, -8803, 365243, 365243, -11907, 365243, 365243, -9363, 365243, 365243, 365243, -10079, -12455, 365243, 365243, 365243, 365243, 365243, 365243, -9131, -7676, -9422, 365243, 365243, 365243, 365243, 365243, 365243, -9389, 365243, -7494, -12870, 365243, -9748, 365243, 365243, 365243, 365243, 365243, 365243, 365243, 365243, 365243, 365243, 365243, 365243, 365243, -7627, 365243, 365243, 365243, -9269, 365243, 365243, -7756, 365243, 365243, -14473, 365243, 365243, -10994, -9582, 365243, -7597, 365243, -7702, 365243, -8100, 365243, 365243, 365243, 365243, -8143, 365243, 365243, -14887, 365243, -8875, 365243, 365243, 365243, -9029, -7379, 365243, -9181, -9269, -8469, 365243, 365243, 365243, 365243, -10094, -9239, 365243, 365243, 365243, -8767, 365243, 365243, 365243, 365243, 365243, 365243, -9152, -8230, 365243, 365243, 365243, 365243, 365243, -12169, 365243, 365243, 365243, 365243, 365243, 365243, -10758, 365243, 365243, 365243, 365243, 365243, 365243, 365243, 365243, 365243, 365243, 365243, 365243, 365243, 365243, 365243, 365243, -9756, 365243, 365243, 365243, 365243, 365243, 365243, 365243, 365243, 365243, 365243, 365243, 365243, 365243, 365243, 365243, 365243, -7404, 365243, -7341, -8995, 365243, 365243, 365243, 365243, 365243, 365243, 365243, 365243, 365243, 365243, 365243, 365243, -9419, 365243, 365243, -13382, 365243, 365243, 365243, -7514, 365243, 365243, -9029, 365243, 365243, 365243, -9830, -9575, -8737, -9559, 365243, 365243, 365243, 365243, -10936, 365243, 365243, -7371, 365243, 365243, 365243, 365243, 365243, 365243, 365243, 365243, 365243, 365243, 365243, -8044, 365243, 365243, 365243, 365243, 365243, -9270, 365243, -7310, 365243, 365243, -7627, 365243, 365243, 365243, -7979, 365243, 365243, 365243, -10821, 365243, 365243, -10762, 365243, 365243, 365243, 365243, 365243, -7364, 365243, 365243, -9363, -15038, 365243, 365243, 365243, 365243, 365243, -9748, -7677, 365243, 365243, -8325, 365243, -9581, 365243, 365243, 365243, 365243, 365243, 365243, 365243, 365243, 365243, 365243, 365243, 365243, -9194, 365243, -7400, -10147, -7500, -12917, 365243, 365243, 365243, -8684, 365243, 365243, 365243, 365243, 365243, 365243, 365243, 365243, -8647, 365243, -7341, 365243, 365243, 365243, 365243, 365243, 365243, -8140, 365243, 365243, 365243, 365243, 365243, 365243, 365243, -7494, 365243, 365243, 365243, -8205, 365243, -10364, 365243, 365243, 365243, 365243, 365243, -9029, 365243, 365243, 365243, 365243, 365243, -7949, 365243, -7400, 365243, 365243, 365243, 365243, 365243, 365243, 365243, 365243, 365243, -13415, 365243, 365243, 365243, 365243, 365243, 365243, 365243, 365243, 365243, 365243, 365243, 365243, -7838, 365243, 365243, -8375, 365243, 365243, -7627, 365243, 365243, 365243, 365243, -10050, 365243, 365243, -8376, -8036, 365243, -7500, 365243, 365243, 365243, 365243, 365243, 365243, 365243, -10094, 365243, 365243, 365243, 365243, -7563, -10050, 365243, 365243, 365243, 365243, 365243, -11183, 365243, 365243, 365243, 365243, 365243, 365243, 365243, 365243, -7622, -10794, -8538, 365243, 365243, -7364, -9236, -7276, 365243, 365243, 365243, 365243, 365243, 365243, 365243, 365243, 365243, -8491, 365243, 365243, 365243, 365243, -10758, 365243, 365243, -9925, 365243, 365243, -8033, -8875, -8803, 365243, -9270, 365243, 365243, 365243, 365243, -7310, 365243, 365243, 365243, 365243, -9181, 365243, -8376, 365243, 365243, 365243, 365243, -8684, -8405, -7557, 365243, 365243, 365243, -12423, 365243, 365243, 365243, 365243, 365243, 365243, 365243, 365243, 365243, -9181, -7518, -7413, 365243, 365243, 365243, 365243, -10155, 365243, 365243, -8377, 365243, 365243, 365243, 365243, 365243, -9724, 365243, 365243, 365243, -7627, 365243, 365243, 365243, 365243, -8479, -7566, -7679, 365243, 365243, 365243, -10657, -7786, 365243, 365243, 365243, -7401, 365243, 365243, 365243, -13102, 365243, 365243, 365243, -8756, 365243, 365243, 365243, 365243, 365243, -10110, -8875, 365243, 365243, 365243, 365243, -8140, 365243, 365243, 365243, 365243, 365243, 365243, 365243, 365243, 365243, 365243, 365243, 365243, 365243, -8862, 365243, 365243, -9269, 365243, -9236, 365243, 365243, 365243, 365243, 365243, -11785, 365243, -7840, 365243, 365243, 365243, 365243, 365243, -11272, 365243, 365243, 365243, 365243, 365243, -8710, 365243, -8375, 365243, 365243, -10821, 365243, 365243, 365243, 365243, 365243, 365243, 365243, -8649, 365243, 365243, 365243, 365243, -7415, -8863, 365243, 365243, 365243, -9988, 365243, 365243, 365243, 365243, 365243, -9748, 365243, 365243, 365243, -9751, 365243, -8375, 365243, 365243, -7718, 365243, -8015, 365243, -8163, 365243, 365243, 365243, -9988, 365243, -9866, 365243, 365243, -8460, -7627, -7824, 365243, 365243, -7369, 365243, 365243, 365243, -9422, 365243, 365243, 365243, 365243, -7979, 365243, 365243, 365243, -8284, 365243, 365243, -14536, -11940, 365243, 365243, 365243, 365243, -8298, -10936, -9052, 365243, 365243, 365243, 365243, 365243, 365243, 365243, 365243, -7364, 365243, 365243, 365243, -15038, 365243, 365243, -12332, 365243, -7400, -8171, 365243, 365243, 365243, 365243, 365243, 365243, 365243, 365243, 365243, 365243, -9255, 365243, 365243, 365243, 365243, 365243, 365243, -8316, 365243, 365243, -8298, 365243, 365243, 365243, -7591, 365243, -8405, 365243, -9830, 365243, -11451, 365243, 365243, 365243, 365243, -8794, -7553, 365243, 365243, 365243, 365243, 365243, -7346, -10780, 365243, 365243, 365243, 365243, 365243, 365243, 365243, 365243, -7752, 365243, 365243, 365243, -7369, 365243, -8838, 365243, 365243, 365243, 365243, 365243, 365243, 365243, 365243, -7738, 365243, 365243, 365243, 365243, -9422, -7465, 365243, 365243, -9683, -7979, 365243, 365243, -8036, -8469, -8479, 365243, -12827, -8538, -13102, 365243, 365243, 365243, 365243, -8808, -8109, 365243, 365243, 365243, 365243, 365243, 365243, 365243, 365243, 365243, 365243, 365243, 365243, 365243, 365243, 365243, -9683, 365243, -11398, 365243, -7824, 365243, 365243, -8714, 365243, -7494, 365243, -7310, 365243, 365243, 365243, 365243, 365243, 365243, 365243, 365243, 365243, 365243, 365243, 365243, -7404, 365243, 365243, 365243, 365243, 365243, 365243, 365243, 365243, 365243, 365243, -8083, 365243, 365243, -7718, -7622, -7401, 365243, 365243, 365243, 365243, 365243, 365243, 365243, 365243, 365243, 365243, -9858, 365243, 365243, -10758, 365243, 365243, 365243, 365243, -9046, 365243, 365243, -8161, 365243, 365243, 365243, 365243, -7918, 365243, -8254, 365243, 365243, 365243, 365243, 365243, 365243, -10305, 365243, 365243, -8072, 365243, 365243, 365243, 365243, -12455, 365243, 365243, -10993, 365243, 365243, 365243, -8794, 365243, 365243, 365243, 365243, -12332, 365243, 365243, -7369, 365243, 365243, 365243, 365243, 365243, 365243, -7288, -10773, 365243, -7310, -12169, -11907, -8995, 365243, 365243, 365243, 365243, 365243, 365243, 365243, 365243, -7624, -11693, 365243, 365243, 365243, -10454, -7369, -9748, -11907, 365243, 365243, -12870, 365243, -11884, 365243, -9858, -7786, 365243, -9240, -12621, -9325, 365243, 365243, 365243, -9136, 365243, 365243, 365243, -10384, 365243, -8684, -12513, 365243, 365243, 365243, -10600, 365243, 365243, 365243, 365243, 365243, 365243, 365243, -8143, -8510, 365243, 365243, -9076, 365243, 365243, 365243, 365243, 365243, 365243, 365243, -12455, 365243, 365243, 365243, 365243, -8684, 365243, 365243, 365243, 365243, 365243, 365243, 365243, -9683, 365243, 365243, 365243, 365243, -9131, 365243, 365243, 365243, 365243, 365243, -8071, -7288, 365243, 365243, 365243, 365243, 365243, -7756, 365243, 365243, 365243, 365243, 365243, 365243, 365243, 365243, 365243, 365243, 365243, -7369, -7465, 365243, 365243, 365243, 365243, 365243, 365243, 365243, 365243, 365243, -7851, 365243, 365243, 365243, 365243, -7756, 365243, -9044, 365243, 365243, 365243, 365243, 365243, 365243, -7371, 365243, 365243, -15227, 365243, 365243, 365243, 365243, 365243, 365243, -7341, 365243, 365243, 365243, 365243, -13102, -8143, -8109, 365243, 365243, 365243, -11552, 365243, -10364, 365243, 365243, 365243, -8995, 365243, -7840, 365243, 365243, 365243, 365243, 365243, 365243, 365243, 365243, 365243, 365243, 365243, 365243, 365243, 365243, 365243, 365243, 365243, 365243, 365243, 365243, -14810, 365243, 365243, 365243, 365243, 365243, -9866, 365243, 365243, -12870, -7471, 365243, 365243, 365243, 365243, 365243, 365243, 365243, 365243, 365243, -9482, 365243, -11451, 365243, 365243, 365243, 365243, -8443, 365243, 365243, 365243, 365243, 365243, -8036, 365243, -10762, 365243, 365243, -9724, -7593, 365243, 365243, 365243, 365243, 365243, 365243, 365243, 365243, -9559, 365243, 365243, 365243, 365243, 365243, 365243, 365243, 365243, -11951, 365243, 365243, 365243, 365243, 365243, 365243, 365243, -9751, 365243, 365243, 365243, 365243, 365243, 365243, 365243, 365243, -8870, 365243, 365243, -8443, 365243, 365243, 365243, 365243, 365243, 365243, 365243, 365243, 365243, 365243, 365243, 365243, 365243, -8015, 365243, 365243, 365243, -7979, 365243, 365243, 365243, 365243, 365243, -8063, 365243, 365243, 365243, 365243, 365243, 365243, 365243, 365243, 365243, 365243, 365243, 365243, 365243, 365243, 365243, -9574, 365243, 365243, 365243, 365243, 365243, 365243, 365243, 365243, 365243, -8923, 365243, 365243, 365243, -7591, -7627, 365243, 365243, -8987, 365243, 365243, 365243, -14473, 365243, -7614, -7597, 365243, -10870, 365243, 365243, -7624, 365243, 365243, 365243, -7371, 365243, -7371, 365243, 365243, 365243, 365243, -8443, 365243, 365243, -7310, 365243, 365243, 365243, 365243, -9052, 365243, 365243, -15038, 365243, 365243, 365243, 365243, -8647, 365243, 365243, 365243, 365243, 365243, 365243, 365243, 365243, 365243, 365243, 365243, 365243, -11451, 365243, 365243, 365243, 365243, 365243, 365243, 365243, -12169, 365243, 365243, 365243, -9957, 365243, 365243, -8760, -11940, -9745, -8290, 365243, 365243, -7278, 365243, 365243, -7314, 365243, 365243, -12949, 365243, -11398, -7888, 365243, 365243, -8443, 365243, 365243, 365243, 365243, -8808, 365243, 365243, 365243, 365243, 365243, 365243, 365243, 365243, -7900, 365243, -8015, 365243, 365243, -8794, 365243, 365243, 365243, -9359, 365243, -10110, 365243, -10677, 365243, 365243, -8036, 365243, -7404, 365243, 365243, 365243, 365243, 365243, 365243, 365243, 365243, 365243, -8649, -10627, 365243, -10821, 365243, -15038, -10050, -7614, 365243, 365243, 365243, 365243, 365243, -7687, 365243, -10121, 365243, 365243, 365243, 365243, 365243, 365243, 365243, 365243, -10236, 365243, 365243, 365243, 365243, -9683, -10600, 365243, 365243, -8870, -11940, 365243, 365243, 365243, 365243, 365243, 365243, 365243, 365243, -14810, 365243, -14018, -10490, -8479, 365243, 365243, 365243, 365243, 365243, 365243, -8649, 365243, -7401, 365243, -10780, 365243, 365243, 365243, -9379, 365243, -9870, 365243, 365243, 365243, 365243, -8375, -8995, -8163, -9359, 365243, -8875, 365243, 365243, 365243, 365243, 365243, 365243, -11884, -7343, -8497, 365243, -14413, 365243, 365243, 365243, -12870, 365243, 365243, 365243, -9136, 365243, 365243, 365243, -9136, -7404, 365243, 365243, 365243, -12827, 365243, 365243, 365243, 365243, 365243, 365243, 365243, -7415, 365243, 365243, 365243, -9258, -8538, -7824, 365243, 365243, 365243, -7900, 365243, -8377, 365243, 365243, 365243, 365243, -9178, 365243, 365243, 365243, 365243, 365243, 365243, 365243, 365243, -12870, 365243, 365243, 365243, 365243, -9975, 365243, 365243, 365243, 365243, -10490, 365243, -9311, 365243, 365243, 365243, 365243, -8172, 365243, -8671, 365243, 365243, 365243, 365243, -8647, 365243, 365243, 365243, 365243, 365243, -9575, 365243, 365243, -7756, 365243, 365243, 365243, 365243, -8469, 365243, -8131, 365243, 365243, 365243, -7341, 365243, 365243, 365243, 365243, 365243, 365243, 365243, 365243, -12455, 365243, 365243, 365243, 365243, 365243, 365243, 365243, 365243, 365243, -7900, 365243, 365243, 365243, 365243, 365243, 365243, 365243, 365243, -7557, 365243, 365243, -11954, 365243, 365243, 365243, 365243, -11951, 365243, -12621, 365243, 365243, -7624, 365243, 365243, 365243, -7346, -12870, 365243, 365243, -7347, 365243, 365243, 365243, 365243, 365243, 365243, 365243, 365243, 365243, 365243, 365243, 365243, 365243, 365243, 365243, 365243, 365243, 365243, -7400, 365243, 365243, -9419, 365243, 365243, -10094, 365243, 365243, 365243, 365243, 365243, 365243, 365243, -9239, -7280, 365243, 365243, -8083, 365243, -10121, 365243, -9194, 365243, 365243, 365243, 365243, -13800, 365243, 365243, 365243, 365243, 365243, 365243, 365243, 365243, 365243, -9152, -7718, 365243, -7369, 365243, 365243, 365243, 365243, 365243, 365243, 365243, 365243, 365243, 365243, 365243, 365243, 365243, 365243, 365243, 365243, 365243, 365243, 365243, 365243, 365243, 365243, 365243, 365243, 365243, 365243, 365243, 365243, 365243, -7369, 365243, -9482, 365243, 365243, -8072, -8066, -11906, 365243, 365243, -7698, -7518, 365243, 365243, 365243, 365243, 365243, 365243, 365243, 365243, 365243, -12332, -8072, 365243, 365243, 365243, 365243, 365243, 365243, 365243, 365243, -10094, 365243, 365243, 365243, -7465, 365243, -8691, 365243, 365243, 365243, 365243, 365243, 365243, 365243, 365243, -8412, 365243, 365243, 365243, 365243, 365243, 365243, -8510, 365243, 365243, 365243, 365243, 365243, 365243, 365243, 365243, 365243, 365243, 365243, 365243, 365243, -9745, -7415, 365243, 365243, 365243, 365243, 365243, 365243, 365243, 365243, 365243, -8298, -7518, 365243, 365243, 365243, 365243, 365243, 365243, -7288, -11202, 365243, 365243, 365243, 365243, 365243, 365243, 365243, 365243, 365243, 365243, 365243, -8342, 365243, -13102, -11183, 365243, 365243, 365243, -7371, 365243, 365243, 365243, -11448, 365243, 365243, 365243, 365243, 365243, 365243, 365243, -9748, -7622, 365243, 365243, 365243, 365243, 365243, 365243, 365243, 365243, 365243, 365243, 365243, 365243, 365243, 365243, 365243, 365243, -11332, 365243, 365243, 365243, 365243, 365243, 365243, 365243, 365243, -7824, -8469, -7369, 365243, 365243, 365243, 365243, 365243, 365243, 365243, -8491, 365243, 365243, 365243, 365243, 365243, -7827, 365243, 365243, 365243, 365243, 365243, 365243, 365243, 365243, 365243, 365243, 365243, 365243, 365243, 365243, 365243, 365243, 365243, 365243, -9988, 365243, 365243, 365243, 365243, 365243, 365243, -10689, 365243, -10843, -7400, 365243, 365243, 365243, 365243, 365243, -8756, -15038, -7979, 365243, 365243, -8325, 365243, -9745, 365243, -8036, -8044, 365243, 365243, 365243, 365243, 365243, 365243, 365243, 365243, 365243, 365243, -7679, 365243, -8163, 365243, 365243, 365243, 365243, 365243, 365243, 365243, 365243, -10994, 365243, 365243, 365243, -9756, 365243, 365243, 365243, -7624, 365243, 365243, 365243, 365243, 365243, 365243, -8671, 365243, -7404, 365243, 365243, -11683, 365243, 365243, 365243, 365243, 365243, 365243, 365243, -10370, -10758, 365243, 365243, 365243, 365243, 365243, 365243, -7276, -7888, 365243, 365243, 365243, 365243, 365243, 365243, -9404, 365243, 365243, 365243, 365243, 365243, 365243, 365243, 365243, 365243, 365243, 365243, -7614, -8491, 365243, 365243, 365243, 365243, 365243, -7979, -8109, 365243, -7310, -9858, 365243, -7400, 365243, 365243, 365243, 365243, 365243, 365243, 365243, -8987, 365243, 365243, 365243, 365243, -9270, 365243, 365243, 365243, 365243, 365243, 365243, 365243, 365243, 365243, 365243, 365243, 365243, -10936, 365243, 365243, 365243, 365243, 365243, 365243, 365243, 365243, 365243, 365243, -15072, -10217, 365243, -9698, 365243, 365243, 365243, 365243, 365243, -7415, 365243, -10452, 365243, 365243, -8469, 365243, 365243, -7804, 365243, 365243, 365243, 365243, 365243, 365243, 365243, 365243, 365243, 365243, -11906, 365243, -11494, -8460, 365243, 365243, -8892, -10094, -8760, -8760, 365243, 365243, -9404, 365243, 365243, -10050, 365243, 365243, -10305, -12995, -7676, 365243, -7465, 365243, -9745, 365243, -8760, 365243, 365243, 365243, 365243, 365243, -9830, 365243, 365243, 365243, 365243, 365243, 365243, 365243, 365243, 365243, 365243, 365243, 365243, -7341, -8036, 365243, 365243, 365243, 365243, 365243, 365243, -11940, 365243, -9359, 365243, -8479, 365243, 365243, 365243, 365243, 365243, 365243, 365243, 365243, 365243, -9311, -15038, 365243, 365243, -13415, 365243, 365243, 365243, 365243, -10384, 365243, 365243, 365243, 365243, 365243, 365243, 365243, 365243, -10600, 365243, 365243, 365243, -8966, 365243, -8044, 365243, 365243, 365243, 365243, 365243, 365243, 365243, 365243, 365243, -10758, -7364, 365243, 365243, 365243, 365243, 365243, -9131, 365243, -7734, 365243, 365243, -12332, 365243, 365243, 365243, 365243, 365243, 365243, 365243, 365243, 365243, 365243, 365243, 365243, -7811, -11398, -7591, -10094, 365243, 365243, 365243, 365243, 365243, 365243, 365243, 365243, 365243, -9988, 365243, 365243, 365243, 365243, 365243, 365243, 365243, -9269, 365243, 365243, 365243, 365243, 365243, 365243, 365243, 365243, 365243, 365243, 365243, 365243, 365243, 365243, 365243, 365243, 365243, 365243, 365243, -10600, 365243, 365243, -8100, 365243, 365243, 365243, 365243, 365243, 365243, 365243, -8348, 365243, 365243, 365243, 365243, 365243, -9363, -7824, 365243, 365243, 365243, 365243, 365243, 365243, 365243, 365243, 365243, 365243, 365243, -10121, 365243, 365243, 365243, 365243, 365243, -8808, 365243, 365243, 365243, -7310, 365243, 365243, -9181, 365243, 365243, 365243, 365243, 365243, -11083, 365243, 365243, 365243, 365243, 365243, 365243, 365243, 365243, 365243, 365243, 365243, -9756, 365243, 365243, -9748, -7288, 365243, 365243, 365243, 365243, 365243, 365243, 365243, 365243, -7500, 365243, 365243, -7888, 365243, 365243, 365243, 365243, 365243, 365243, 365243, 365243, -7824, 365243, -12870, 365243, 365243, 365243, -9422, -13456, 365243, 365243, 365243, 365243, -7811, 365243, 365243, 365243, 365243, -8036, 365243, 365243, 365243, 365243, 365243, 365243, 365243, 365243, 365243, 365243, -8870, 365243, 365243, 365243, -8862, -10688, 365243, 365243, -14018, -14018, -7676, -7415, 365243, -9363, 365243, 365243, -7734, 365243, -8100, 365243, 365243, 365243, 365243, 365243, -9947, 365243, 365243, 365243, -10364, 365243, 365243, 365243, 365243, 365243, 365243, 365243, 365243, -10936, 365243, 365243, -8479, 365243, 365243, 365243, 365243, 365243, 365243, 365243, 365243, 365243, 365243, 365243, 365243, 365243, 365243, 365243, 365243, 365243, 365243, -8152, -10600, 365243, -7566, -7341, -8011, 365243, 365243, 365243, 365243, 365243, 365243, 365243, 365243, 365243, 365243, 365243, 365243, -11693, -7811, 365243, 365243, 365243, 365243, 365243, 365243, 365243, -8794, 365243, 365243, 365243, 365243, 365243, 365243, 365243, 365243, 365243, 365243, 365243, 365243, 365243, 365243, 365243, 365243, 365243, 365243, 365243, 365243, 365243, 365243, 365243, 365243, 365243, 365243, -8601, 365243, 365243, 365243, 365243, -9269, 365243, 365243, -8376, -9255, 365243, 365243, 365243, 365243, -7676, 365243, 365243, -7622, 365243, 365243, 365243, 365243, 365243, 365243, 365243, -9988, -7288, -8995, -11389, -10773, -8649, 365243, 365243, 365243, 365243, -12490, 365243, 365243, 365243, 365243, 365243, -10050, -7401, 365243, 365243, 365243, 365243, 365243, 365243, 365243, 365243, 365243, 365243, -9419, -10110, -11940, 365243, -10079, -10361, 365243, 365243, 365243, 365243, -11176, 365243, 365243, 365243, 365243, 365243, -9359, 365243, -8284, 365243, 365243, -8100, 365243, 365243, 365243, 365243, 365243, 365243, 365243, -7627, 365243, 365243, 365243, 365243, 365243, 365243, 365243, 365243, 365243, 365243, 365243, 365243, 365243, 365243, -7341, 365243, 365243, -10629, 365243, 365243, 365243, 365243, 365243, 365243, 365243, 365243, 365243, 365243, 365243, 365243, 365243, 365243, -7415, -7401, 365243, 365243, 365243, 365243, 365243, 365243, 365243, 365243, 365243, -9975, 365243, -9325, -8443, 365243, -9044, 365243, 365243, -8044, 365243, -10490, 365243, 365243, 365243, 365243, 365243, 365243, 365243, 365243, 365243, 365243, 365243, 365243, 365243, -9698, 365243, 365243, -11389, 365243, 365243, -8643, 365243, -7522, 365243, 365243, 365243, 365243, 365243, 365243, 365243, 365243, 365243, 365243, 365243, 365243, 365243, 365243, 365243, 365243, 365243, 365243, 365243, 365243, 365243, 365243, 365243, 365243, 365243, 365243, 365243, 365243, 365243, -9136, 365243, 365243, 365243, -8855, -7949, 365243, 365243, 365243, 365243, 365243, 365243, 365243, -9255, 365243, 365243, -13245, 365243, 365243, 365243, 365243, 365243, 365243, 365243, 365243, -12332, 365243, 365243, 365243, 365243, 365243, -11693, 365243, -7288, 365243, 365243, 365243, 365243, 365243, 365243, 365243, 365243, -8862, 365243, -9419, 365243, 365243, 365243, 365243, 365243, 365243, 365243, -9391, 365243, -10843, 365243, 365243, 365243, -8143, 365243, 365243, 365243, 365243, 365243, 365243, 365243, 365243, 365243, 365243, 365243, 365243, 365243, 365243, 365243, 365243, 365243, 365243, 365243, 365243, 365243, 365243, 365243, 365243, 365243, 365243, 365243, 365243, -10689, 365243, 365243, -10773, -7840, 365243, 365243, -7979, -8760, 365243, 365243, -7522, -8163, 365243, 365243, 365243, -7614, 365243, -14018, 365243, 365243, -7979, 365243, 365243, 365243, 365243, 365243, 365243, 365243, -8375, 365243, 365243, 365243, -8256, 365243, 365243, 365243, 365243, 365243, 365243, -7900, 365243, 365243, 365243, 365243, 365243, 365243, 365243, -7624, 365243, 365243, 365243, 365243, -9270, -14473, 365243, -7624, 365243, 365243, 365243, 365243, 365243, -10149, 365243, -10094, 365243, -10110, -8206, -12995, 365243, -7371, 365243, 365243, 365243, 365243, 365243, 365243, 365243, 365243, 365243, 365243, 365243, 365243, 365243, 365243, 365243, 365243, 365243, 365243, -14018, 365243, -11951, 365243, 365243, 365243, 365243, 365243, 365243, -10490, -7557, 365243, 365243, 365243, -9391, -7804, 365243, 365243, 365243, 365243, 365243, 365243, 365243, 365243, 365243, -11398, 365243, 365243, 365243, -8063, 365243, 365243, -7838, 365243, 365243, 365243, 365243, 365243, 365243, -9131, 365243, 365243, 365243, 365243, 365243, 365243, 365243, 365243, 365243, 365243, 365243, -7369, -10993, 365243, 365243, -9389, 365243, -8757, 365243, 365243, 365243, 365243, -9870, 365243, 365243, 365243, 365243, -12179, 365243, 365243, -11555, 365243, 365243, -7401, -9270, 365243, 365243, 365243, 365243, 365243, 365243, 365243, 365243, 365243, -8377, -8448, -8369, 365243, -7953, 365243, 365243, 365243, 365243, 365243, 365243, 365243, -8538, 365243, 365243, 365243, 365243, 365243, 365243, -8071, -8011, 365243, 365243, 365243, 365243, 365243, 365243, 365243, -10364, 365243, 365243, 365243, -8684, 365243, 365243, -11693, -8862, 365243, 365243, -10490, -8175, 365243, -7736, 365243, 365243, -10490, 365243, 365243, 365243, 365243, 365243, 365243, 365243, 365243, 365243, 365243, 365243, 365243, 365243, 365243, 365243, -11884, 365243, -11954, -7756, 365243, 365243, 365243, -12332, 365243, -9258, -8794, 365243, -8509, 365243, 365243, 365243, 365243, -10236, 365243, 365243, 365243, 365243, 365243, 365243, 365243, 365243, 365243, 365243, 365243, 365243, 365243, -14810, 365243, 365243, 365243, 365243, 365243, 365243, 365243, -10121, 365243, 365243, 365243, 365243, -13415, -9052, 365243, 365243, 365243, 365243, 365243, -7536, 365243, 365243, 365243, 365243, 365243, 365243, 365243, 365243, 365243, -7627, 365243, 365243, -8469, 365243, 365243, 365243, 365243, 365243, 365243, 365243, 365243, 365243, 365243, -15661, 365243, 365243, -7627, 365243, 365243, 365243, 365243, 365243, -11693, 365243, 365243, -9422, -8100, 365243, 365243, 365243, -8130, 365243, 365243, -7835, 365243, 365243, 365243, 365243, 365243, 365243, 365243, 365243, 365243, -8290, -8033, 365243, 365243, -8041, 365243, -9745, -8509, -8448, 365243, -9988, 365243, 365243, 365243, 365243, 365243, 365243, 365243, 365243, 365243, 365243, -9756, -7310, 365243, 365243, 365243, 365243, 365243, -8230, 365243, 365243, 365243, 365243, -8649, 365243, 365243, 365243, 365243, -7827, 365243, -7401, 365243, 365243, 365243, 365243, 365243, 365243, 365243, 365243, 365243, -9574, -10762, 365243, 365243, -7838, 365243, 365243, 365243, -9724, -10217, 365243, -8691, 365243, 365243, 365243, 365243, 365243, 365243, 365243, 365243, 365243, -7979, 365243, 365243, 365243, 365243, 365243, 365243, -8015, 365243, 365243, 365243, -8756, 365243, -8375, 365243, -7704, 365243, -14810, 365243, 365243, -8376, 365243, 365243, 365243, 365243, 365243, 365243, 365243, -14413, 365243, -8375, 365243, -10147, 365243, 365243, 365243, 365243, 365243, 365243, 365243, -10232, 365243, 365243, 365243, 365243, 365243, 365243, 365243, 365243, -10110, 365243, 365243, 365243, -9748, 365243, 365243, -10121, 365243, 365243, 365243, -10994, 365243, -9683, 365243, 365243, 365243, 365243, 365243, 365243, 365243, -11785, -7471, 365243, 365243, 365243, 365243, 365243, 365243, -8509, 365243, 365243, 365243, 365243, 365243, 365243, 365243, 365243, -8671, 365243, 365243, 365243, 365243, 365243, 365243, 365243, 365243, 365243, 365243, 365243, 365243, 365243, 365243, 365243, 365243, -10600, -9325, -8509, 365243, 365243, 365243, 365243, -11389, 365243, 365243, 365243, 365243, 365243, 365243, 365243, 365243, 365243, 365243, 365243, 365243, 365243, -7379, 365243, 365243, 365243, -9683, 365243, 365243, 365243, 365243, -7310, 365243, -8538, 365243, 365243, 365243, 365243, 365243, 365243, 365243, 365243, 365243, -7706, 365243, 365243, -11603, 365243, 365243, -10232, 365243, 365243, 365243, 365243, 365243, 365243, 365243, -10236, -11906, 365243, 365243, -8044, 365243, 365243, 365243, -11884, 365243, 365243, 365243, 365243, 365243, 365243, 365243, 365243, 365243, 365243, 365243, -10047, 365243, -8801, 365243, 365243, 365243, 365243, 365243, 365243, 365243, 365243, -12621, 365243, 365243, 365243, 365243, 365243, 365243, 365243, 365243, 365243, 365243, 365243, 365243, 365243, 365243, 365243, -10600, -15038, -10110, 365243, 365243, 365243, -7379, -8036, 365243, -8375, 365243, -7404, 365243, 365243, 365243, -8691, 365243, -7369, 365243, 365243, 365243, -8044, 365243, 365243, 365243, 365243, -7494, -9698, 365243, 365243, -7591, -9748, 365243, 365243, 365243, 365243, 365243, 365243, 365243, 365243, 365243, 365243, 365243, 365243, 365243, -9988, -12253, -10746, 365243, 365243, 365243, 365243, 365243, 365243, 365243, -10821, 365243, 365243, 365243, -8083, 365243, 365243, 365243, 365243, 365243, 365243, 365243, 365243, 365243, -13415, 365243, 365243, -7553, 365243, 365243, 365243, 365243, 365243, 365243, 365243, 365243, 365243, 365243, 365243, -11589, -9683, 365243, 365243, 365243, -11494, -9748, 365243, 365243, 365243, 365243, -8071, -9745, 365243, 365243, -9698, 365243, 365243, -8036, 365243, 365243, -7676, 365243, 365243, 365243, -7288, 365243, 365243, 365243, 365243, 365243, 365243, 365243, 365243, 365243, 365243, 365243, -9239, 365243, -12591, 365243, 365243, 365243, 365243, 365243, 365243, 365243, 365243, -8375, 365243, 365243, 365243, 365243, 365243, -9178, 365243, 365243, -11398, -8855, 365243, -9236, 365243, 365243, -11157, 365243, 365243, -9255, 365243, 365243, 365243, 365243, 365243, 365243, 365243, 365243, 365243, 365243, 365243, 365243, 365243, -8469, 365243, -8710, -14413, 365243, 365243, -7824, 365243, 365243, -10437, 365243, 365243, 365243, 365243, 365243, 365243, 365243, 365243, 365243, -10758, 365243, 365243, 365243, 365243, 365243, 365243, 365243, 365243, 365243, -7465, 365243, -10052, 365243, 365243, 365243, 365243, 365243, 365243, 365243, 365243, 365243, 365243, 365243, 365243, 365243, -11884, -7979, 365243, 365243, 365243, 365243, -9052, 365243, 365243, 365243, 365243, 365243, -12332, 365243, 365243, 365243, 365243, 365243, 365243, 365243, 365243, 365243, 365243, 365243, 365243, 365243, -8555, 365243, -8509, 365243, 365243, 365243, 365243, 365243, 365243, 365243, 365243, 365243, 365243, 365243, 365243, 365243, 365243, -7404, 365243, 365243, -8760, -10290, 365243, 365243, 365243, 365243, 365243, 365243, 365243, 365243, -9269, 365243, -8479, 365243, 365243, 365243, 365243, 365243, -7404, -9751, 365243, 365243, -10780, 365243, 365243, 365243, -7866, 365243, 365243, 365243, 365243, 365243, 365243, -8691, 365243, 365243, 365243, 365243, -7979, -10758, 365243, 365243, 365243, 365243, -10121, -12870, -12917, 365243, 365243, 365243, 365243, 365243, 365243, 365243, 365243, 365243, -11589, 365243, 365243, 365243, 365243, 365243, 365243, 365243, -7400, -10758, 365243, -10936, -7415, -8772, -7676, 365243, 365243, 365243, 365243, 365243, 365243, 365243, 365243, 365243, 365243, 365243, 365243, 365243, 365243, -7310, 365243, 365243, -8189, 365243, 365243, -10627, -7314, 365243, 365243, 365243, -10454, 365243, 365243, -13735, 365243, 365243, 365243, -10121, 365243, 365243, 365243, 365243, 365243, 365243, 365243, 365243, -8131, 365243, 365243, 365243, 365243, 365243, 365243, -10689, 365243, 365243, 365243, 365243, 365243, -7346, 365243, 365243, 365243, -8375, 365243, 365243, 365243, 365243, 365243, 365243, 365243, 365243, 365243, 365243, 365243, -15038, 365243, 365243, 365243, 365243, 365243, 365243, 365243, 365243, 365243, 365243, 365243, -7347, 365243, 365243, 365243, 365243, 365243, 365243, 365243, 365243, 365243, 365243, 365243, 365243, -7369, 365243, -10290, 365243, -9574, 365243, -7369, 365243, -10110, 365243, 365243, 365243, 365243, -11951, -10647, -9794, 365243, -10155, 365243, 365243, 365243, 365243, -11951, 365243, 365243, 365243, -13415, 365243, 365243, -10094, 365243, 365243, 365243, 365243, -10490, 365243, 365243, 365243, 365243, 365243, -8862, 365243, -9094, 365243, 365243, -9858, -11951, 365243, 365243, 365243, 365243, 365243, 365243, 365243, 365243, 365243, 365243, 365243, 365243, 365243, 365243, 365243, 365243, 365243, 365243, -8412, 365243, 365243, 365243, 365243, 365243, 365243, 365243, 365243, 365243, 365243, 365243, 365243, 365243, 365243, 365243, -9975, 365243, -9683, 365243, -11884, -8794, -12163, 365243, 365243, 365243, -7778, 365243, -9581, 365243, -10689, 365243, 365243, -15038, -7276, 365243, 365243, 365243, -7371, 365243, 365243, 365243, 365243, 365243, -8316, 365243, 365243, 365243, 365243, 365243, 365243, 365243, -12032, 365243, 365243, 365243, 365243, 365243, 365243, 365243, 365243, 365243, 365243, -9359, 365243, 365243, 365243, -8172, 365243, -9485, 365243, -10647, 365243, 365243, 365243, 365243, 365243, 365243, 365243, 365243, 365243, 365243, 365243, 365243, 365243, 365243, 365243, 365243, 365243, -8479, 365243, 365243, -10353, 365243, 365243, 365243, 365243, -10780, 365243, 365243, 365243, 365243, 365243, -9349, 365243, 365243, 365243, -11589, 365243, 365243, 365243, -7627, -15072, 365243, -8100, 365243, 365243, 365243, -14018, -8290, 365243, 365243, -7415, -8469, 365243, 365243, 365243, 365243, 365243, -7627, 365243, 365243, 365243, -8808, 365243, 365243, 365243, 365243, -8469, -7835, 365243, 365243, 365243, -8175, 365243, 365243, 365243, 365243, -7752, 365243, -9422, -8033, -8230, -10758, 365243, 365243, 365243, 365243, 365243, -8639, 365243, 365243, 365243, 365243, 365243, 365243, 365243, 365243, 365243, 365243, 365243, 365243, 365243, 365243, 365243, 365243, -12332, 365243, 365243, 365243, -9479, 365243, 365243, 365243, 365243, -7888, 365243, -7400, 365243, 365243, 365243, 365243, 365243, 365243, 365243, 365243, 365243, 365243, 365243, 365243, -7379, 365243, -9391, 365243, 365243, 365243, -8284, 365243, 365243, 365243, 365243, 365243, 365243, 365243, 365243, 365243, 365243, 365243, -7734, 365243, 365243, -7747, 365243, 365243, 365243, 365243, 365243, 365243, 365243, 365243, 365243, 365243, -8553, 365243, 365243, 365243, 365243, 365243, -10758, 365243, -9363, -11389, -11603, 365243, 365243, 365243, 365243, -8647, -8870, 365243, 365243, 365243, 365243, 365243, -11083, 365243, 365243, -8448, 365243, 365243, 365243, 365243, 365243, 365243, 365243, 365243, 365243, 365243, 365243, 365243, 365243, 365243, -10647, -7553, 365243, 365243, 365243, 365243, 365243, 365243, 365243, 365243, 365243, 365243, 365243, 365243, 365243, 365243, -8707, 365243, 365243, 365243, -7733, 365243, -7504, -9683, 365243, -11157, -7830, 365243, 365243, 365243, 365243, 365243, 365243, 365243, 365243, -7314, 365243, 365243, -9260, 365243, 365243, 365243, 365243, 365243, 365243, 365243, 365243, 365243, -8643, 365243, 365243, 365243, 365243, 365243, 365243, 365243, 365243, 365243, 365243, -7401, 365243, 365243, -7400, 365243, 365243, -9724, -10758, 365243, 365243, 365243, 365243, 365243, 365243, 365243, 365243, -9988, -12179, 365243, 365243, 365243, 365243, 365243, 365243, 365243, 365243, 365243, 365243, 365243, 365243, -8157, 365243, 365243, 365243, -10689, 365243, -10821, 365243, -8624, 365243, 365243, 365243, -7627, -9989, 365243, 365243, 365243, 365243, 365243, -9748, 365243, 365243, 365243, -8044, 365243, 365243, 365243, 365243, 365243, -9270, 365243, 365243, 365243, 365243, -9866, 365243, 365243, 365243, 365243, 365243, 365243, -10094, 365243, 365243, 365243, 365243, 365243, 365243, -8100, 365243, -7866, 365243, 365243, 365243, -7736, 365243, 365243, 365243, 365243, 365243, 365243, 365243, 365243, 365243, 365243, -8284, 365243, 365243, 365243, 365243, 365243, 365243, 365243, -9152, 365243, 365243, 365243, 365243, 365243, -8618, 365243, 365243, 365243, 365243, 365243, 365243, 365243, 365243, 365243, -10079, 365243, 365243, 365243, 365243, 365243, 365243, -8131, 365243, 365243, 365243, 365243, 365243, 365243, 365243, 365243, 365243, 365243, 365243, -7835, 365243, 365243, 365243, 365243, 365243, 365243, -10155, 365243, -10758, -11062, 365243, 365243, 365243, 365243, 365243, 365243, 365243, 365243]\n"
     ]
    }
   ],
   "source": [
    "# IQR method\n",
    "q1,q3 = np.percentile(df['Employment length'],(25,75))\n",
    "iqr = q3 - q1 \n",
    "\n",
    "print('25 percentile :-', q1)\n",
    "print('75 percentile :-', q3)\n",
    "print('iqr is :- ', iqr)\n",
    "\n",
    "lower_tail = q1 - 1.5*(iqr)\n",
    "upper_tail = q3 + 1.5*(iqr)\n",
    "print('lower tail :-',lower_tail)\n",
    "print('upper tail :-',upper_tail)\n",
    "\n",
    "outliers = []\n",
    "for i in df['Employment length']:\n",
    "    if (i<lower_tail) or (i>upper_tail):\n",
    "        outliers.append(i)\n",
    "print('Detected outliers are :-', list(outliers))"
   ]
  },
  {
   "cell_type": "code",
   "execution_count": 84,
   "id": "b7e25bd1",
   "metadata": {},
   "outputs": [
    {
     "data": {
      "text/plain": [
       "7905"
      ]
     },
     "execution_count": 84,
     "metadata": {},
     "output_type": "execute_result"
    }
   ],
   "source": [
    "len(outliers)"
   ]
  },
  {
   "cell_type": "code",
   "execution_count": 85,
   "id": "eda86e6f",
   "metadata": {},
   "outputs": [],
   "source": [
    "#df.loc[df['Employment length']<lower_tail,'Employment length']\n",
    "#df.loc[df['Employment length']>upper_tail,'Employment length']"
   ]
  },
  {
   "cell_type": "code",
   "execution_count": 86,
   "id": "300f82b1",
   "metadata": {},
   "outputs": [],
   "source": [
    "df.loc[df['Employment length']>upper_tail,'Employment length'] = np.nan"
   ]
  },
  {
   "cell_type": "code",
   "execution_count": 87,
   "id": "85ab8fdd",
   "metadata": {},
   "outputs": [],
   "source": [
    "df.loc[df['Employment length']<lower_tail,'Employment length'] = np.nan"
   ]
  },
  {
   "cell_type": "code",
   "execution_count": 88,
   "id": "3c0e7351",
   "metadata": {},
   "outputs": [
    {
     "data": {
      "text/plain": [
       "7905"
      ]
     },
     "execution_count": 88,
     "metadata": {},
     "output_type": "execute_result"
    }
   ],
   "source": [
    "df['Employment length'].isna().sum()"
   ]
  },
  {
   "cell_type": "code",
   "execution_count": 89,
   "id": "54dd7d9e",
   "metadata": {},
   "outputs": [],
   "source": [
    "df['Employment length'] = df['Employment length'].fillna(df['Employment length'].median())"
   ]
  },
  {
   "cell_type": "code",
   "execution_count": 90,
   "id": "15c20e4f",
   "metadata": {},
   "outputs": [
    {
     "data": {
      "text/plain": [
       "<AxesSubplot:title={'center':'boxplot after handling outliers'}, xlabel='Employment length'>"
      ]
     },
     "execution_count": 90,
     "metadata": {},
     "output_type": "execute_result"
    },
    {
     "data": {
      "image/png": "[encoded data removed]",
      "text/plain": [
       "<Figure size 432x288 with 1 Axes>"
      ]
     },
     "metadata": {
      "needs_background": "light"
     },
     "output_type": "display_data"
    }
   ],
   "source": [
    "plt.title('boxplot after handling outliers')\n",
    "sns.boxplot(df['Employment length'])"
   ]
  },
  {
   "cell_type": "code",
   "execution_count": 91,
   "id": "3400e839",
   "metadata": {},
   "outputs": [
    {
     "data": {
      "text/plain": [
       "0"
      ]
     },
     "execution_count": 91,
     "metadata": {},
     "output_type": "execute_result"
    }
   ],
   "source": [
    "df['Employment length'].isna().sum()"
   ]
  },
  {
   "cell_type": "code",
   "execution_count": 92,
   "id": "42a8cfa7",
   "metadata": {},
   "outputs": [],
   "source": [
    "# Observation :-\n",
    "# We removed some of the outliers.\n",
    "# But some outliers are still present in 'Employment length' attribute."
   ]
  },
  {
   "cell_type": "markdown",
   "id": "1de89b18",
   "metadata": {},
   "source": [
    "### 5. Family member count"
   ]
  },
  {
   "cell_type": "code",
   "execution_count": 93,
   "id": "40591023",
   "metadata": {},
   "outputs": [
    {
     "data": {
      "text/plain": [
       "array([ 2.,  4.,  1.,  3.,  5.,  6.,  7.,  9., 15., 20.])"
      ]
     },
     "execution_count": 93,
     "metadata": {},
     "output_type": "execute_result"
    }
   ],
   "source": [
    "df['Family member count'].unique()\n",
    "\n",
    "# Though it looks like a numerical variable.\n",
    "# But it is a categorical variable.\n",
    "# So we can replace outliers from this attribute with mode."
   ]
  },
  {
   "cell_type": "code",
   "execution_count": 94,
   "id": "d55ff8e5",
   "metadata": {},
   "outputs": [
    {
     "data": {
      "text/plain": [
       "10"
      ]
     },
     "execution_count": 94,
     "metadata": {},
     "output_type": "execute_result"
    }
   ],
   "source": [
    "df['Family member count'].nunique()"
   ]
  },
  {
   "cell_type": "code",
   "execution_count": 95,
   "id": "4112849b",
   "metadata": {},
   "outputs": [
    {
     "data": {
      "text/plain": [
       "<AxesSubplot:title={'center':'boxplot before handling outliers'}, xlabel='Family member count'>"
      ]
     },
     "execution_count": 95,
     "metadata": {},
     "output_type": "execute_result"
    },
    {
     "data": {
      "image/png": "[encoded data removed]",
      "text/plain": [
       "<Figure size 432x288 with 1 Axes>"
      ]
     },
     "metadata": {
      "needs_background": "light"
     },
     "output_type": "display_data"
    }
   ],
   "source": [
    "plt.title('boxplot before handling outliers')\n",
    "sns.boxplot(df['Family member count'])"
   ]
  },
  {
   "cell_type": "code",
   "execution_count": 96,
   "id": "33f8ed9e",
   "metadata": {},
   "outputs": [
    {
     "name": "stdout",
     "output_type": "stream",
     "text": [
      "25 percentile :- 2.0\n",
      "75 percentile :- 3.0\n",
      "iqr is :-  1.0\n",
      "lower tail :- 0.5\n",
      "upper tail :- 4.5\n",
      "Detected outliers are :- [5.0, 5.0, 5.0, 5.0, 5.0, 6.0, 5.0, 5.0, 5.0, 5.0, 5.0, 5.0, 5.0, 5.0, 5.0, 5.0, 5.0, 5.0, 5.0, 5.0, 6.0, 5.0, 5.0, 5.0, 5.0, 5.0, 5.0, 6.0, 5.0, 5.0, 5.0, 5.0, 5.0, 5.0, 5.0, 5.0, 5.0, 6.0, 5.0, 5.0, 5.0, 5.0, 5.0, 6.0, 7.0, 9.0, 5.0, 5.0, 15.0, 5.0, 5.0, 5.0, 5.0, 5.0, 6.0, 5.0, 5.0, 5.0, 5.0, 5.0, 5.0, 5.0, 5.0, 5.0, 5.0, 6.0, 5.0, 6.0, 5.0, 5.0, 5.0, 5.0, 5.0, 5.0, 5.0, 5.0, 5.0, 5.0, 5.0, 5.0, 5.0, 5.0, 6.0, 6.0, 5.0, 5.0, 5.0, 5.0, 5.0, 5.0, 5.0, 5.0, 5.0, 5.0, 5.0, 5.0, 5.0, 5.0, 6.0, 5.0, 5.0, 5.0, 5.0, 5.0, 5.0, 5.0, 5.0, 5.0, 5.0, 5.0, 5.0, 5.0, 5.0, 5.0, 5.0, 5.0, 6.0, 5.0, 5.0, 5.0, 5.0, 5.0, 5.0, 7.0, 5.0, 5.0, 5.0, 5.0, 5.0, 5.0, 5.0, 5.0, 5.0, 5.0, 5.0, 5.0, 6.0, 5.0, 5.0, 5.0, 5.0, 5.0, 6.0, 6.0, 5.0, 6.0, 6.0, 5.0, 5.0, 5.0, 6.0, 5.0, 5.0, 6.0, 6.0, 5.0, 5.0, 5.0, 5.0, 5.0, 5.0, 6.0, 5.0, 7.0, 5.0, 5.0, 6.0, 5.0, 5.0, 5.0, 5.0, 5.0, 7.0, 5.0, 5.0, 5.0, 5.0, 6.0, 6.0, 5.0, 5.0, 5.0, 6.0, 5.0, 5.0, 5.0, 6.0, 5.0, 5.0, 5.0, 20.0, 5.0, 5.0, 5.0, 5.0, 5.0, 5.0, 5.0, 7.0, 7.0, 5.0, 5.0, 5.0, 5.0, 6.0, 5.0, 5.0, 5.0, 9.0, 5.0, 5.0, 5.0, 5.0, 6.0, 5.0, 7.0, 5.0, 5.0, 5.0, 5.0, 5.0, 5.0, 5.0, 5.0, 5.0, 6.0, 5.0, 5.0, 5.0, 5.0, 5.0, 6.0, 5.0, 5.0, 5.0, 5.0, 5.0, 6.0, 5.0, 5.0, 5.0, 5.0, 6.0, 5.0, 5.0, 5.0, 5.0, 5.0, 5.0, 5.0, 5.0, 6.0, 5.0, 5.0, 5.0, 6.0, 5.0, 5.0, 5.0, 6.0, 5.0, 5.0, 5.0, 5.0, 5.0, 5.0, 6.0, 6.0, 5.0, 5.0, 5.0, 5.0, 5.0, 5.0, 5.0, 5.0, 5.0, 5.0, 6.0, 7.0, 5.0, 5.0, 5.0, 5.0, 5.0, 5.0, 7.0, 5.0, 5.0, 5.0, 5.0, 6.0, 5.0, 5.0, 5.0, 5.0, 5.0, 5.0, 5.0, 5.0, 5.0, 5.0, 5.0, 6.0, 5.0, 7.0, 5.0, 5.0, 5.0, 7.0, 5.0, 5.0, 5.0, 5.0, 5.0, 5.0, 5.0, 5.0, 5.0, 5.0, 5.0, 5.0, 5.0, 7.0, 5.0, 5.0, 5.0, 6.0, 5.0, 5.0, 5.0, 5.0, 5.0, 5.0, 5.0, 5.0, 15.0, 5.0, 5.0, 5.0, 5.0, 5.0, 5.0, 5.0, 6.0, 5.0, 6.0, 7.0, 5.0, 6.0, 6.0, 7.0, 5.0, 5.0, 5.0, 5.0, 5.0, 5.0, 5.0, 5.0, 5.0, 5.0, 5.0, 5.0, 5.0, 5.0, 5.0, 5.0, 6.0, 5.0, 5.0, 6.0, 5.0, 5.0, 6.0, 5.0, 5.0, 5.0, 5.0, 5.0, 5.0, 5.0, 6.0, 5.0, 5.0, 5.0, 5.0, 5.0, 5.0, 5.0, 5.0, 5.0, 5.0, 5.0, 5.0, 5.0, 5.0, 5.0, 5.0, 5.0, 5.0, 5.0, 7.0, 5.0, 5.0, 5.0, 6.0, 5.0, 5.0, 5.0, 5.0, 6.0, 5.0, 5.0, 6.0, 6.0, 7.0, 5.0, 5.0, 5.0, 5.0, 5.0, 5.0, 5.0, 5.0, 5.0, 5.0, 5.0, 5.0, 5.0, 5.0, 6.0, 5.0, 5.0, 5.0, 5.0, 5.0, 5.0, 5.0, 5.0, 5.0, 5.0, 5.0, 5.0, 6.0, 5.0, 5.0, 15.0, 7.0, 6.0, 5.0, 5.0, 7.0, 5.0, 5.0, 5.0, 5.0, 5.0, 5.0, 7.0, 5.0, 5.0, 5.0, 5.0, 5.0, 6.0, 5.0, 5.0, 5.0, 5.0, 5.0, 5.0, 5.0, 5.0, 5.0, 5.0, 5.0, 5.0, 6.0, 5.0] 480\n"
     ]
    }
   ],
   "source": [
    "# IQR method\n",
    "q1,q3 = np.percentile(df['Family member count'],(25,75))\n",
    "iqr = q3 - q1 \n",
    "\n",
    "print('25 percentile :-', q1)\n",
    "print('75 percentile :-', q3)\n",
    "print('iqr is :- ', iqr)\n",
    "\n",
    "lower_tail = q1 - 1.5*(iqr)\n",
    "upper_tail = q3 + 1.5*(iqr)\n",
    "print('lower tail :-',lower_tail)\n",
    "print('upper tail :-',upper_tail)\n",
    "\n",
    "outliers = []\n",
    "for i in df['Family member count']:\n",
    "    if (i<lower_tail) or (i>upper_tail):\n",
    "        outliers.append(i)\n",
    "print('Detected outliers are :-', list(outliers),len(outliers))"
   ]
  },
  {
   "cell_type": "code",
   "execution_count": 97,
   "id": "52c70b39",
   "metadata": {},
   "outputs": [
    {
     "data": {
      "text/plain": [
       "(5.0, 20.0)"
      ]
     },
     "execution_count": 97,
     "metadata": {},
     "output_type": "execute_result"
    }
   ],
   "source": [
    "min(outliers),max(outliers)"
   ]
  },
  {
   "cell_type": "code",
   "execution_count": 98,
   "id": "c119e05c",
   "metadata": {},
   "outputs": [],
   "source": [
    "df.loc[df['Family member count']>upper_tail, 'Family member count'] = np.nan"
   ]
  },
  {
   "cell_type": "code",
   "execution_count": 99,
   "id": "8bf89e3d",
   "metadata": {},
   "outputs": [
    {
     "data": {
      "text/plain": [
       "Series([], Name: Family member count, dtype: float64)"
      ]
     },
     "execution_count": 99,
     "metadata": {},
     "output_type": "execute_result"
    }
   ],
   "source": [
    "df.loc[df['Family member count']>upper_tail, 'Family member count']"
   ]
  },
  {
   "cell_type": "code",
   "execution_count": 100,
   "id": "7b6b975f",
   "metadata": {},
   "outputs": [
    {
     "data": {
      "text/plain": [
       "480"
      ]
     },
     "execution_count": 100,
     "metadata": {},
     "output_type": "execute_result"
    }
   ],
   "source": [
    "df['Family member count'].isna().sum()"
   ]
  },
  {
   "cell_type": "code",
   "execution_count": 101,
   "id": "8e528e86",
   "metadata": {},
   "outputs": [],
   "source": [
    "from scipy.stats import mode"
   ]
  },
  {
   "cell_type": "code",
   "execution_count": 102,
   "id": "7d318fae",
   "metadata": {},
   "outputs": [
    {
     "data": {
      "text/plain": [
       "array([2.])"
      ]
     },
     "execution_count": 102,
     "metadata": {},
     "output_type": "execute_result"
    }
   ],
   "source": [
    "mode(num['Family member count'])[0]"
   ]
  },
  {
   "cell_type": "code",
   "execution_count": 103,
   "id": "013cba23",
   "metadata": {},
   "outputs": [
    {
     "data": {
      "text/plain": [
       "2.0"
      ]
     },
     "execution_count": 103,
     "metadata": {},
     "output_type": "execute_result"
    }
   ],
   "source": [
    "df['Family member count'].mode()[0]"
   ]
  },
  {
   "cell_type": "code",
   "execution_count": 104,
   "id": "840dd984",
   "metadata": {},
   "outputs": [
    {
     "data": {
      "text/plain": [
       "array([ 2.,  4.,  1.,  3.,  5.,  6.,  7.,  9., 15., 20.])"
      ]
     },
     "execution_count": 104,
     "metadata": {},
     "output_type": "execute_result"
    }
   ],
   "source": [
    "num['Family member count'].unique()"
   ]
  },
  {
   "cell_type": "code",
   "execution_count": 105,
   "id": "b182699b",
   "metadata": {},
   "outputs": [],
   "source": [
    "df['Family member count'] = df['Family member count'].fillna(df['Family member count'].mode()[0])"
   ]
  },
  {
   "cell_type": "code",
   "execution_count": 106,
   "id": "11fbdee2",
   "metadata": {},
   "outputs": [
    {
     "data": {
      "text/plain": [
       "0"
      ]
     },
     "execution_count": 106,
     "metadata": {},
     "output_type": "execute_result"
    }
   ],
   "source": [
    "df['Family member count'].isna().sum()"
   ]
  },
  {
   "cell_type": "code",
   "execution_count": 107,
   "id": "477f6a33",
   "metadata": {},
   "outputs": [
    {
     "data": {
      "text/plain": [
       "<AxesSubplot:title={'center':'boxplot after handling outliers'}, xlabel='Family member count'>"
      ]
     },
     "execution_count": 107,
     "metadata": {},
     "output_type": "execute_result"
    },
    {
     "data": {
      "image/png": "[encoded data removed]",
      "text/plain": [
       "<Figure size 432x288 with 1 Axes>"
      ]
     },
     "metadata": {
      "needs_background": "light"
     },
     "output_type": "display_data"
    }
   ],
   "source": [
    "plt.title('boxplot after handling outliers')\n",
    "sns.boxplot(df['Family member count'])"
   ]
  },
  {
   "cell_type": "code",
   "execution_count": 108,
   "id": "1d872de0",
   "metadata": {},
   "outputs": [],
   "source": [
    "# Observations :-\n",
    "# Outliers are completely removed"
   ]
  },
  {
   "cell_type": "markdown",
   "id": "217d2dc1",
   "metadata": {},
   "source": [
    "### 6. Account age"
   ]
  },
  {
   "cell_type": "code",
   "execution_count": 109,
   "id": "cab90397",
   "metadata": {},
   "outputs": [
    {
     "data": {
      "text/plain": [
       "<AxesSubplot:title={'center':'boxplot before handling outliers'}, xlabel='Account age'>"
      ]
     },
     "execution_count": 109,
     "metadata": {},
     "output_type": "execute_result"
    },
    {
     "data": {
      "image/png": "[encoded data removed]",
      "text/plain": [
       "<Figure size 432x288 with 1 Axes>"
      ]
     },
     "metadata": {
      "needs_background": "light"
     },
     "output_type": "display_data"
    }
   ],
   "source": [
    "plt.title('boxplot before handling outliers')\n",
    "sns.boxplot(df['Account age'])"
   ]
  },
  {
   "cell_type": "code",
   "execution_count": 110,
   "id": "2caf8c9b",
   "metadata": {},
   "outputs": [],
   "source": [
    "# Observation :-\n",
    "# We dont have any outliers in 'Account age' attribute."
   ]
  },
  {
   "cell_type": "markdown",
   "id": "918c4a9e",
   "metadata": {},
   "source": [
    "#  "
   ]
  },
  {
   "cell_type": "code",
   "execution_count": 111,
   "id": "38028418",
   "metadata": {},
   "outputs": [
    {
     "name": "stdout",
     "output_type": "stream",
     "text": [
      "<class 'pandas.core.frame.DataFrame'>\n",
      "Int64Index: 36457 entries, 0 to 7291\n",
      "Data columns (total 19 columns):\n",
      " #   Column               Non-Null Count  Dtype  \n",
      "---  ------               --------------  -----  \n",
      " 0   Gender               36457 non-null  int64  \n",
      " 1   Has a car            36457 non-null  int64  \n",
      " 2   Has a property       36457 non-null  int64  \n",
      " 3   Children count       36457 non-null  int64  \n",
      " 4   Income               36457 non-null  float64\n",
      " 5   Employment status    36457 non-null  int64  \n",
      " 6   Education level      36457 non-null  int32  \n",
      " 7   Marital status       36457 non-null  int32  \n",
      " 8   Dwelling             36457 non-null  int32  \n",
      " 9   Age                  36457 non-null  int64  \n",
      " 10  Employment length    36457 non-null  float64\n",
      " 11  Has a mobile phone   36457 non-null  int64  \n",
      " 12  Has a work phone     36457 non-null  int64  \n",
      " 13  Has a phone          36457 non-null  int64  \n",
      " 14  Has an email         36457 non-null  int64  \n",
      " 15  Job title            36457 non-null  int32  \n",
      " 16  Family member count  36457 non-null  float64\n",
      " 17  Account age          36457 non-null  float64\n",
      " 18  Is high risk         36457 non-null  int64  \n",
      "dtypes: float64(4), int32(4), int64(11)\n",
      "memory usage: 5.0 MB\n"
     ]
    }
   ],
   "source": [
    "df.info()"
   ]
  },
  {
   "cell_type": "code",
   "execution_count": 112,
   "id": "d8268e45",
   "metadata": {},
   "outputs": [
    {
     "data": {
      "text/plain": [
       "0    35841\n",
       "1      616\n",
       "Name: Is high risk, dtype: int64"
      ]
     },
     "execution_count": 112,
     "metadata": {},
     "output_type": "execute_result"
    }
   ],
   "source": [
    "df['Is high risk'].value_counts()"
   ]
  },
  {
   "cell_type": "code",
   "execution_count": 113,
   "id": "457b7022",
   "metadata": {},
   "outputs": [],
   "source": [
    "# Observations :-\n",
    "# Here we can say that our data id imbalance\n",
    "# we also analyse how some of attributes are in imbalance format.\n",
    "# so we neet to tackle this imbalance data."
   ]
  },
  {
   "cell_type": "markdown",
   "id": "9403479a",
   "metadata": {},
   "source": [
    "# "
   ]
  },
  {
   "cell_type": "markdown",
   "id": "503fd44c",
   "metadata": {},
   "source": [
    "# Splitting dataset"
   ]
  },
  {
   "cell_type": "code",
   "execution_count": 114,
   "id": "98105851",
   "metadata": {},
   "outputs": [],
   "source": [
    "x = df.drop('Is high risk',axis=1)\n",
    "y = df['Is high risk']"
   ]
  },
  {
   "cell_type": "code",
   "execution_count": 115,
   "id": "2ed29d07",
   "metadata": {},
   "outputs": [
    {
     "data": {
      "text/plain": [
       "(36457, 18)"
      ]
     },
     "execution_count": 115,
     "metadata": {},
     "output_type": "execute_result"
    }
   ],
   "source": [
    "x.shape"
   ]
  },
  {
   "cell_type": "code",
   "execution_count": 116,
   "id": "4a831a78",
   "metadata": {},
   "outputs": [
    {
     "data": {
      "text/plain": [
       "(36457,)"
      ]
     },
     "execution_count": 116,
     "metadata": {},
     "output_type": "execute_result"
    }
   ],
   "source": [
    "y.shape"
   ]
  },
  {
   "cell_type": "code",
   "execution_count": null,
   "id": "31787ebc",
   "metadata": {},
   "outputs": [],
   "source": []
  },
  {
   "cell_type": "markdown",
   "id": "b3e6a4ea",
   "metadata": {},
   "source": [
    "# "
   ]
  },
  {
   "cell_type": "markdown",
   "id": "ead35a6d",
   "metadata": {},
   "source": [
    "# Balancing the imbalance data"
   ]
  },
  {
   "cell_type": "code",
   "execution_count": 117,
   "id": "dac4ff25",
   "metadata": {},
   "outputs": [],
   "source": [
    "from imblearn.over_sampling import SMOTE"
   ]
  },
  {
   "cell_type": "code",
   "execution_count": 118,
   "id": "d0cb9d6b",
   "metadata": {},
   "outputs": [],
   "source": [
    "x_osampling,y_osampling = SMOTE().fit_resample(x,y.values.ravel())"
   ]
  },
  {
   "cell_type": "code",
   "execution_count": 119,
   "id": "dd8ffce5",
   "metadata": {},
   "outputs": [
    {
     "name": "stdout",
     "output_type": "stream",
     "text": [
      "(71682, 18)\n",
      "(71682,)\n"
     ]
    }
   ],
   "source": [
    "print(x_osampling.shape)\n",
    "print(y_osampling.shape)"
   ]
  },
  {
   "cell_type": "code",
   "execution_count": null,
   "id": "16d8f27b",
   "metadata": {},
   "outputs": [],
   "source": []
  },
  {
   "cell_type": "code",
   "execution_count": null,
   "id": "3baf6dd3",
   "metadata": {},
   "outputs": [],
   "source": []
  },
  {
   "cell_type": "markdown",
   "id": "9d5373d6",
   "metadata": {},
   "source": [
    "# train test split"
   ]
  },
  {
   "cell_type": "code",
   "execution_count": 153,
   "id": "f5032d31",
   "metadata": {},
   "outputs": [],
   "source": [
    "x_train,x_test,y_train,y_test = train_test_split(x_osampling,y_osampling,test_size=0.33,random_state=1,stratify=y_osampling)"
   ]
  },
  {
   "cell_type": "code",
   "execution_count": 154,
   "id": "6d2de142",
   "metadata": {},
   "outputs": [
    {
     "data": {
      "text/plain": [
       "(48026, 18)"
      ]
     },
     "execution_count": 154,
     "metadata": {},
     "output_type": "execute_result"
    }
   ],
   "source": [
    "x_train.shape"
   ]
  },
  {
   "cell_type": "code",
   "execution_count": 155,
   "id": "ecbd9c27",
   "metadata": {},
   "outputs": [
    {
     "data": {
      "text/plain": [
       "(48026,)"
      ]
     },
     "execution_count": 155,
     "metadata": {},
     "output_type": "execute_result"
    }
   ],
   "source": [
    "y_train.shape"
   ]
  },
  {
   "cell_type": "code",
   "execution_count": 156,
   "id": "171bcf20",
   "metadata": {},
   "outputs": [
    {
     "data": {
      "text/plain": [
       "(23656, 18)"
      ]
     },
     "execution_count": 156,
     "metadata": {},
     "output_type": "execute_result"
    }
   ],
   "source": [
    "x_test.shape"
   ]
  },
  {
   "cell_type": "code",
   "execution_count": 157,
   "id": "771c64fb",
   "metadata": {},
   "outputs": [
    {
     "data": {
      "text/plain": [
       "(23656,)"
      ]
     },
     "execution_count": 157,
     "metadata": {},
     "output_type": "execute_result"
    }
   ],
   "source": [
    "y_test.shape"
   ]
  },
  {
   "cell_type": "markdown",
   "id": "095c0954",
   "metadata": {},
   "source": [
    "# "
   ]
  },
  {
   "cell_type": "markdown",
   "id": "f2628b1a",
   "metadata": {},
   "source": [
    "# Decision tree "
   ]
  },
  {
   "cell_type": "code",
   "execution_count": 158,
   "id": "ee0a54ba",
   "metadata": {},
   "outputs": [],
   "source": [
    "from sklearn.tree import DecisionTreeClassifier\n",
    "from sklearn.metrics import accuracy_score, classification_report, confusion_matrix, roc_auc_score, roc_curve\n",
    "\n",
    "from sklearn.model_selection import GridSearchCV, RandomizedSearchCV\n",
    "from sklearn.tree import plot_tree"
   ]
  },
  {
   "cell_type": "code",
   "execution_count": 159,
   "id": "c1c58c8a",
   "metadata": {},
   "outputs": [
    {
     "data": {
      "text/plain": [
       "DecisionTreeClassifier()"
      ]
     },
     "execution_count": 159,
     "metadata": {},
     "output_type": "execute_result"
    }
   ],
   "source": [
    "tree_model = DecisionTreeClassifier()\n",
    "tree_model.fit(x_train,y_train)"
   ]
  },
  {
   "cell_type": "code",
   "execution_count": 160,
   "id": "28a43197",
   "metadata": {},
   "outputs": [],
   "source": [
    "y_pred_test = tree_model.predict(x_test)"
   ]
  },
  {
   "cell_type": "code",
   "execution_count": 161,
   "id": "ddd8792d",
   "metadata": {},
   "outputs": [
    {
     "name": "stdout",
     "output_type": "stream",
     "text": [
      "accuracy for testing data is :-  0.9708741968211024\n",
      "\n",
      "confussion matrix for testing data is :- \n",
      " [[11435   393]\n",
      " [  296 11532]]\n",
      "\n",
      "classification report for testing data is :- \n",
      "               precision    recall  f1-score   support\n",
      "\n",
      "           0       0.97      0.97      0.97     11828\n",
      "           1       0.97      0.97      0.97     11828\n",
      "\n",
      "    accuracy                           0.97     23656\n",
      "   macro avg       0.97      0.97      0.97     23656\n",
      "weighted avg       0.97      0.97      0.97     23656\n",
      "\n"
     ]
    }
   ],
   "source": [
    "# testing accuracies\n",
    "accuracy = accuracy_score(y_test,y_pred_test)\n",
    "print('accuracy for testing data is :- ', accuracy)\n",
    "print()\n",
    "confu_mat = confusion_matrix(y_test,y_pred_test)\n",
    "print('confussion matrix for testing data is :- \\n', confu_mat)\n",
    "print()\n",
    "class_report = classification_report(y_test,y_pred_test)\n",
    "print('classification report for testing data is :- \\n', class_report)"
   ]
  },
  {
   "cell_type": "code",
   "execution_count": 162,
   "id": "c6052549",
   "metadata": {},
   "outputs": [
    {
     "data": {
      "text/plain": [
       "0.99941698246783"
      ]
     },
     "execution_count": 162,
     "metadata": {},
     "output_type": "execute_result"
    }
   ],
   "source": [
    "# accuracy of training data\n",
    "tree_model.score(x_train,y_train)"
   ]
  },
  {
   "cell_type": "code",
   "execution_count": 163,
   "id": "65a3d5a0",
   "metadata": {},
   "outputs": [
    {
     "name": "stdout",
     "output_type": "stream",
     "text": [
      "[0. 1. 1. ... 0. 1. 1.]\n"
     ]
    }
   ],
   "source": [
    "y_pred_prob_test = tree_model.predict_proba(x_test)\n",
    "print(y_pred_prob_test[:,1])"
   ]
  },
  {
   "cell_type": "code",
   "execution_count": 164,
   "id": "0f20e54e",
   "metadata": {},
   "outputs": [],
   "source": [
    "fpr,tpr,threshold = roc_curve(y_test,y_pred_prob_test[:,1])"
   ]
  },
  {
   "cell_type": "code",
   "execution_count": 165,
   "id": "08c5f4ed",
   "metadata": {},
   "outputs": [
    {
     "data": {
      "text/plain": [
       "Text(0, 0.5, 'tpr')"
      ]
     },
     "execution_count": 165,
     "metadata": {},
     "output_type": "execute_result"
    },
    {
     "data": {
      "image/png": "[encoded data removed]",
      "text/plain": [
       "<Figure size 432x288 with 1 Axes>"
      ]
     },
     "metadata": {
      "needs_background": "light"
     },
     "output_type": "display_data"
    }
   ],
   "source": [
    "plt.title('ROC and AUC Curve')\n",
    "plt.plot(fpr,tpr)\n",
    "plt.xlabel('fpr')\n",
    "plt.ylabel('tpr')"
   ]
  },
  {
   "cell_type": "code",
   "execution_count": 166,
   "id": "4b8cb017",
   "metadata": {},
   "outputs": [
    {
     "data": {
      "text/plain": [
       "0.9709553145588402"
      ]
     },
     "execution_count": 166,
     "metadata": {},
     "output_type": "execute_result"
    }
   ],
   "source": [
    "roc_auc_score(y_test,y_pred_prob_test[:,1])"
   ]
  },
  {
   "cell_type": "code",
   "execution_count": null,
   "id": "349c004b",
   "metadata": {},
   "outputs": [],
   "source": []
  },
  {
   "cell_type": "code",
   "execution_count": null,
   "id": "b63a5a8a",
   "metadata": {},
   "outputs": [],
   "source": []
  },
  {
   "cell_type": "code",
   "execution_count": null,
   "id": "13de5e1d",
   "metadata": {},
   "outputs": [],
   "source": []
  },
  {
   "cell_type": "code",
   "execution_count": 167,
   "id": "b46b8a1f",
   "metadata": {},
   "outputs": [],
   "source": [
    "# Observation :-\n",
    "# There is low bais and low variance in the data.\n",
    "# seems that training accuracy if too high.\n",
    "# so need hypertuning"
   ]
  },
  {
   "cell_type": "markdown",
   "id": "2991ca30",
   "metadata": {},
   "source": [
    "### Hyper-parameter tunung"
   ]
  },
  {
   "cell_type": "code",
   "execution_count": 168,
   "id": "7981c3ae",
   "metadata": {},
   "outputs": [
    {
     "data": {
      "text/plain": [
       "RandomizedSearchCV(cv=5, estimator=DecisionTreeClassifier(),\n",
       "                   param_distributions={'criterion': ['gini', 'entropy'],\n",
       "                                        'max_depth': array([2, 3, 4, 5, 6, 7, 8, 9]),\n",
       "                                        'min_samples_leaf': array([1, 2, 3, 4, 5, 6, 7, 8, 9]),\n",
       "                                        'min_samples_split': array([2, 3, 4, 5, 6, 7, 8, 9])})"
      ]
     },
     "execution_count": 168,
     "metadata": {},
     "output_type": "execute_result"
    }
   ],
   "source": [
    "# using rscv search cv\n",
    "model = DecisionTreeClassifier()\n",
    "hype = {'criterion' : ['gini','entropy'],\n",
    "        'max_depth' : np.arange(2,10),\n",
    "        'min_samples_split' : np.arange(2,10),\n",
    "        'min_samples_leaf' : np.arange(1,10)}\n",
    "rscv_model = RandomizedSearchCV(model,hype,cv=5)\n",
    "rscv_model.fit(x_train,y_train)"
   ]
  },
  {
   "cell_type": "code",
   "execution_count": 169,
   "id": "64480ed8",
   "metadata": {},
   "outputs": [
    {
     "data": {
      "text/plain": [
       "{'min_samples_split': 2,\n",
       " 'min_samples_leaf': 7,\n",
       " 'max_depth': 9,\n",
       " 'criterion': 'gini'}"
      ]
     },
     "execution_count": 169,
     "metadata": {},
     "output_type": "execute_result"
    }
   ],
   "source": [
    "rscv_model.best_params_"
   ]
  },
  {
   "cell_type": "code",
   "execution_count": 170,
   "id": "37c3aeb8",
   "metadata": {},
   "outputs": [
    {
     "data": {
      "text/plain": [
       "DecisionTreeClassifier(max_depth=9, min_samples_leaf=3)"
      ]
     },
     "execution_count": 170,
     "metadata": {},
     "output_type": "execute_result"
    }
   ],
   "source": [
    "new_tree = DecisionTreeClassifier(criterion='gini',max_depth=9,min_samples_leaf=3,min_samples_split=2)\n",
    "new_tree.fit(x_train,y_train)"
   ]
  },
  {
   "cell_type": "code",
   "execution_count": 171,
   "id": "b3448ff6",
   "metadata": {},
   "outputs": [
    {
     "name": "stdout",
     "output_type": "stream",
     "text": [
      "accuracy for testing data is :-  0.8539059857964153\n",
      "\n",
      "confussion matrix for testing data is :- \n",
      " [[10157  1671]\n",
      " [ 1785 10043]]\n",
      "\n",
      "classification report for testing data is :- \n",
      "               precision    recall  f1-score   support\n",
      "\n",
      "           0       0.85      0.86      0.85     11828\n",
      "           1       0.86      0.85      0.85     11828\n",
      "\n",
      "    accuracy                           0.85     23656\n",
      "   macro avg       0.85      0.85      0.85     23656\n",
      "weighted avg       0.85      0.85      0.85     23656\n",
      "\n"
     ]
    }
   ],
   "source": [
    "# testing accuracy after hyper-parameter tuning\n",
    "\n",
    "y_pred_test = new_tree.predict(x_test)\n",
    "\n",
    "accuracy = accuracy_score(y_test,y_pred_test)\n",
    "print('accuracy for testing data is :- ', accuracy)\n",
    "print()\n",
    "\n",
    "confu_mat = confusion_matrix(y_test,y_pred_test)\n",
    "print('confussion matrix for testing data is :- \\n', confu_mat)\n",
    "print()\n",
    "\n",
    "class_report = classification_report(y_test,y_pred_test)\n",
    "print('classification report for testing data is :- \\n', class_report)"
   ]
  },
  {
   "cell_type": "code",
   "execution_count": 172,
   "id": "0b2c20c9",
   "metadata": {},
   "outputs": [
    {
     "name": "stdout",
     "output_type": "stream",
     "text": [
      "accuracy for training data is :-  0.8657602132178404\n",
      "\n",
      "confussion matrix for training data is :- \n",
      " [[20816  3197]\n",
      " [ 3250 20763]]\n",
      "\n",
      "classification report for training data is :- \n",
      "               precision    recall  f1-score   support\n",
      "\n",
      "           0       0.86      0.87      0.87     24013\n",
      "           1       0.87      0.86      0.87     24013\n",
      "\n",
      "    accuracy                           0.87     48026\n",
      "   macro avg       0.87      0.87      0.87     48026\n",
      "weighted avg       0.87      0.87      0.87     48026\n",
      "\n"
     ]
    }
   ],
   "source": [
    "# training accuracy after hyper-parameter tuning\n",
    "\n",
    "y_pred_train = new_tree.predict(x_train)\n",
    "\n",
    "accuracy = accuracy_score(y_train,y_pred_train)\n",
    "print('accuracy for training data is :- ', accuracy)\n",
    "print()\n",
    "\n",
    "confu_mat = confusion_matrix(y_train,y_pred_train)\n",
    "print('confussion matrix for training data is :- \\n', confu_mat)\n",
    "print()\n",
    "\n",
    "class_report = classification_report(y_train,y_pred_train)\n",
    "print('classification report for training data is :- \\n', class_report)"
   ]
  },
  {
   "cell_type": "code",
   "execution_count": 173,
   "id": "3e966dd7",
   "metadata": {},
   "outputs": [],
   "source": [
    "# observation :-\n",
    "#our model accuracy is quite good.\n",
    "# We need to focus on 'Falsely positive'."
   ]
  },
  {
   "cell_type": "markdown",
   "id": "9ab97b39",
   "metadata": {},
   "source": [
    "# "
   ]
  },
  {
   "cell_type": "markdown",
   "id": "e112b5c9",
   "metadata": {},
   "source": [
    "# Random forest"
   ]
  },
  {
   "cell_type": "code",
   "execution_count": 174,
   "id": "bbd34c5f",
   "metadata": {},
   "outputs": [],
   "source": [
    "from sklearn.ensemble import RandomForestClassifier"
   ]
  },
  {
   "cell_type": "code",
   "execution_count": 175,
   "id": "0e3885dd",
   "metadata": {},
   "outputs": [
    {
     "data": {
      "text/plain": [
       "RandomForestClassifier()"
      ]
     },
     "execution_count": 175,
     "metadata": {},
     "output_type": "execute_result"
    }
   ],
   "source": [
    "rf_model = RandomForestClassifier()\n",
    "rf_model.fit(x_train,y_train)"
   ]
  },
  {
   "cell_type": "code",
   "execution_count": 176,
   "id": "5eca02fb",
   "metadata": {},
   "outputs": [
    {
     "name": "stdout",
     "output_type": "stream",
     "text": [
      "accuracy for testing data is :-  0.9877409536692594\n",
      "\n",
      "confussion matrix for testing data is :- \n",
      " [[11700   128]\n",
      " [  162 11666]]\n",
      "\n",
      "classification report for testing data is :- \n",
      "               precision    recall  f1-score   support\n",
      "\n",
      "           0       0.99      0.99      0.99     11828\n",
      "           1       0.99      0.99      0.99     11828\n",
      "\n",
      "    accuracy                           0.99     23656\n",
      "   macro avg       0.99      0.99      0.99     23656\n",
      "weighted avg       0.99      0.99      0.99     23656\n",
      "\n"
     ]
    }
   ],
   "source": [
    "# testing accuracy in Random Forest\n",
    "\n",
    "y_pred_test = rf_model.predict(x_test)\n",
    "\n",
    "accuracy = accuracy_score(y_test,y_pred_test)\n",
    "print('accuracy for testing data is :- ', accuracy)\n",
    "print()\n",
    "\n",
    "confu_mat = confusion_matrix(y_test,y_pred_test)\n",
    "print('confussion matrix for testing data is :- \\n', confu_mat)\n",
    "print()\n",
    "\n",
    "class_report = classification_report(y_test,y_pred_test)\n",
    "print('classification report for testing data is :- \\n', class_report)"
   ]
  },
  {
   "cell_type": "code",
   "execution_count": 178,
   "id": "637372dc",
   "metadata": {},
   "outputs": [
    {
     "name": "stdout",
     "output_type": "stream",
     "text": [
      "accuracy for training data is :-  0.99941698246783\n",
      "\n",
      "confussion matrix for training data is :- \n",
      " [[24002    11]\n",
      " [   17 23996]]\n",
      "\n",
      "classification report for training data is :- \n",
      "               precision    recall  f1-score   support\n",
      "\n",
      "           0       1.00      1.00      1.00     24013\n",
      "           1       1.00      1.00      1.00     24013\n",
      "\n",
      "    accuracy                           1.00     48026\n",
      "   macro avg       1.00      1.00      1.00     48026\n",
      "weighted avg       1.00      1.00      1.00     48026\n",
      "\n"
     ]
    }
   ],
   "source": [
    "# training accuracy Random forest\n",
    "\n",
    "y_pred_train = rf_model.predict(x_train)\n",
    "\n",
    "accuracy = accuracy_score(y_train,y_pred_train)\n",
    "print('accuracy for training data is :- ', accuracy)\n",
    "print()\n",
    "\n",
    "confu_mat = confusion_matrix(y_train,y_pred_train)\n",
    "print('confussion matrix for training data is :- \\n', confu_mat)\n",
    "print()\n",
    "\n",
    "class_report = classification_report(y_train,y_pred_train)\n",
    "print('classification report for training data is :- \\n', class_report)"
   ]
  },
  {
   "cell_type": "markdown",
   "id": "0c767f10",
   "metadata": {},
   "source": [
    "### hyper-parameter in random forest"
   ]
  },
  {
   "cell_type": "code",
   "execution_count": 179,
   "id": "d071f053",
   "metadata": {},
   "outputs": [
    {
     "data": {
      "text/plain": [
       "RandomizedSearchCV(cv=5, estimator=RandomForestClassifier(),\n",
       "                   param_distributions={'criterion': ['gini', 'entropy'],\n",
       "                                        'max_depth': array([2, 3, 4, 5, 6, 7, 8, 9]),\n",
       "                                        'min_samples_leaf': array([1, 2, 3, 4, 5, 6, 7, 8, 9]),\n",
       "                                        'min_samples_split': array([2, 3, 4, 5, 6, 7, 8, 9]),\n",
       "                                        'n_estimators': array([10, 11, 12, 13, 14, 15, 16, 17, 18, 19, 20, 21, 22, 23, 24, 25, 26,\n",
       "       27, 28, 29, 30, 31, 32, 33, 34, 35, 36, 37, 38, 39, 40, 41, 42, 43,\n",
       "       44, 45, 46, 47, 48, 49, 50, 51, 52, 53, 54, 55, 56, 57, 58, 59, 60,\n",
       "       61, 62, 63, 64, 65, 66, 67, 68, 69, 70, 71, 72, 73, 74, 75, 76, 77,\n",
       "       78, 79, 80, 81, 82, 83, 84, 85, 86, 87, 88, 89, 90, 91, 92, 93, 94,\n",
       "       95, 96, 97, 98, 99])})"
      ]
     },
     "execution_count": 179,
     "metadata": {},
     "output_type": "execute_result"
    }
   ],
   "source": [
    "# using Rscv model\n",
    "model = RandomForestClassifier()\n",
    "hype = {'n_estimators' : np.arange(10,100),\n",
    "        'criterion' : ['gini','entropy'],\n",
    "        'max_depth' : np.arange(2,10),\n",
    "        'min_samples_split' : np.arange(2,10),\n",
    "        'min_samples_leaf' : np.arange(1,10)}\n",
    "\n",
    "rscv_model = RandomizedSearchCV(model,hype,cv=5)\n",
    "rscv_model.fit(x_train,y_train)"
   ]
  },
  {
   "cell_type": "code",
   "execution_count": 182,
   "id": "a71320f8",
   "metadata": {},
   "outputs": [
    {
     "data": {
      "text/plain": [
       "{'n_estimators': 33,\n",
       " 'min_samples_split': 4,\n",
       " 'min_samples_leaf': 3,\n",
       " 'max_depth': 9,\n",
       " 'criterion': 'entropy'}"
      ]
     },
     "execution_count": 182,
     "metadata": {},
     "output_type": "execute_result"
    }
   ],
   "source": [
    "rscv_model.best_params_"
   ]
  },
  {
   "cell_type": "code",
   "execution_count": 183,
   "id": "9ee5a107",
   "metadata": {},
   "outputs": [
    {
     "data": {
      "text/plain": [
       "RandomForestClassifier(criterion='entropy', max_depth=9, min_samples_leaf=3,\n",
       "                       min_samples_split=4, n_estimators=33)"
      ]
     },
     "execution_count": 183,
     "metadata": {},
     "output_type": "execute_result"
    }
   ],
   "source": [
    "new_rf = RandomForestClassifier(n_estimators=33,min_samples_split=4,min_samples_leaf=3,max_depth=9,criterion='entropy')\n",
    "new_rf.fit(x_train,y_train)"
   ]
  },
  {
   "cell_type": "code",
   "execution_count": 184,
   "id": "f932dc57",
   "metadata": {},
   "outputs": [
    {
     "name": "stdout",
     "output_type": "stream",
     "text": [
      "accuracy for testing data is :-  0.8892458572877917\n",
      "\n",
      "confussion matrix for testing data is :- \n",
      " [[10146  1682]\n",
      " [  938 10890]]\n",
      "\n",
      "classification report for testing data is :- \n",
      "               precision    recall  f1-score   support\n",
      "\n",
      "           0       0.92      0.86      0.89     11828\n",
      "           1       0.87      0.92      0.89     11828\n",
      "\n",
      "    accuracy                           0.89     23656\n",
      "   macro avg       0.89      0.89      0.89     23656\n",
      "weighted avg       0.89      0.89      0.89     23656\n",
      "\n"
     ]
    }
   ],
   "source": [
    "# testing accuracy after hyper-parameter tuning\n",
    "\n",
    "y_pred_test = new_rf.predict(x_test)\n",
    "\n",
    "accuracy = accuracy_score(y_test,y_pred_test)\n",
    "print('accuracy for testing data is :- ', accuracy)\n",
    "print()\n",
    "\n",
    "confu_mat = confusion_matrix(y_test,y_pred_test)\n",
    "print('confussion matrix for testing data is :- \\n', confu_mat)\n",
    "print()\n",
    "\n",
    "class_report = classification_report(y_test,y_pred_test)\n",
    "print('classification report for testing data is :- \\n', class_report)"
   ]
  },
  {
   "cell_type": "code",
   "execution_count": 185,
   "id": "f41b4d57",
   "metadata": {},
   "outputs": [
    {
     "name": "stdout",
     "output_type": "stream",
     "text": [
      "accuracy for training data is :-  0.8939949194186483\n",
      "\n",
      "confussion matrix for training data is :- \n",
      " [[20659  3354]\n",
      " [ 1737 22276]]\n",
      "\n",
      "classification report for training data is :- \n",
      "               precision    recall  f1-score   support\n",
      "\n",
      "           0       0.92      0.86      0.89     24013\n",
      "           1       0.87      0.93      0.90     24013\n",
      "\n",
      "    accuracy                           0.89     48026\n",
      "   macro avg       0.90      0.89      0.89     48026\n",
      "weighted avg       0.90      0.89      0.89     48026\n",
      "\n"
     ]
    }
   ],
   "source": [
    "# training accuracy after hyper-parameter tuning\n",
    "\n",
    "y_pred_train = new_rf.predict(x_train)\n",
    "\n",
    "accuracy = accuracy_score(y_train,y_pred_train)\n",
    "print('accuracy for training data is :- ', accuracy)\n",
    "print()\n",
    "\n",
    "confu_mat = confusion_matrix(y_train,y_pred_train)\n",
    "print('confussion matrix for training data is :- \\n', confu_mat)\n",
    "print()\n",
    "\n",
    "class_report = classification_report(y_train,y_pred_train)\n",
    "print('classification report for training data is :- \\n', class_report)"
   ]
  },
  {
   "cell_type": "markdown",
   "id": "4093c694",
   "metadata": {},
   "source": [
    "# "
   ]
  },
  {
   "cell_type": "markdown",
   "id": "eaf9efe1",
   "metadata": {},
   "source": [
    "# Adaboost "
   ]
  },
  {
   "cell_type": "code",
   "execution_count": 186,
   "id": "8e34921e",
   "metadata": {},
   "outputs": [],
   "source": [
    "from sklearn.ensemble import AdaBoostClassifier"
   ]
  },
  {
   "cell_type": "code",
   "execution_count": 187,
   "id": "9990c1fb",
   "metadata": {},
   "outputs": [
    {
     "data": {
      "text/plain": [
       "AdaBoostClassifier()"
      ]
     },
     "execution_count": 187,
     "metadata": {},
     "output_type": "execute_result"
    }
   ],
   "source": [
    "adaboost = AdaBoostClassifier()\n",
    "adaboost.fit(x_train,y_train)"
   ]
  },
  {
   "cell_type": "code",
   "execution_count": 188,
   "id": "5cf371a3",
   "metadata": {},
   "outputs": [
    {
     "name": "stdout",
     "output_type": "stream",
     "text": [
      "accuracy for testing data is :-  0.8112106865065946\n",
      "\n",
      "confussion matrix for testing data is :- \n",
      " [[9619 2209]\n",
      " [2257 9571]]\n",
      "\n",
      "classification report for testing data is :- \n",
      "               precision    recall  f1-score   support\n",
      "\n",
      "           0       0.81      0.81      0.81     11828\n",
      "           1       0.81      0.81      0.81     11828\n",
      "\n",
      "    accuracy                           0.81     23656\n",
      "   macro avg       0.81      0.81      0.81     23656\n",
      "weighted avg       0.81      0.81      0.81     23656\n",
      "\n"
     ]
    }
   ],
   "source": [
    "# testing accuracy \n",
    "\n",
    "y_pred_test = adaboost.predict(x_test)\n",
    "\n",
    "accuracy = accuracy_score(y_test,y_pred_test)\n",
    "print('accuracy for testing data is :- ', accuracy)\n",
    "print()\n",
    "\n",
    "confu_mat = confusion_matrix(y_test,y_pred_test)\n",
    "print('confussion matrix for testing data is :- \\n', confu_mat)\n",
    "print()\n",
    "\n",
    "class_report = classification_report(y_test,y_pred_test)\n",
    "print('classification report for testing data is :- \\n', class_report)"
   ]
  },
  {
   "cell_type": "code",
   "execution_count": 189,
   "id": "5b0b5f1b",
   "metadata": {},
   "outputs": [
    {
     "name": "stdout",
     "output_type": "stream",
     "text": [
      "accuracy for training data is :-  0.8130595927206097\n",
      "\n",
      "confussion matrix for training data is :- \n",
      " [[19598  4415]\n",
      " [ 4563 19450]]\n",
      "\n",
      "classification report for training data is :- \n",
      "               precision    recall  f1-score   support\n",
      "\n",
      "           0       0.81      0.82      0.81     24013\n",
      "           1       0.82      0.81      0.81     24013\n",
      "\n",
      "    accuracy                           0.81     48026\n",
      "   macro avg       0.81      0.81      0.81     48026\n",
      "weighted avg       0.81      0.81      0.81     48026\n",
      "\n"
     ]
    }
   ],
   "source": [
    "# training accuracy after hyper-parameter tuning\n",
    "\n",
    "y_pred_train = adaboost.predict(x_train)\n",
    "\n",
    "accuracy = accuracy_score(y_train,y_pred_train)\n",
    "print('accuracy for training data is :- ', accuracy)\n",
    "print()\n",
    "\n",
    "confu_mat = confusion_matrix(y_train,y_pred_train)\n",
    "print('confussion matrix for training data is :- \\n', confu_mat)\n",
    "print()\n",
    "\n",
    "class_report = classification_report(y_train,y_pred_train)\n",
    "print('classification report for training data is :- \\n', class_report)"
   ]
  },
  {
   "cell_type": "markdown",
   "id": "cb69d1bd",
   "metadata": {},
   "source": [
    "### hyper-parameter tuning"
   ]
  },
  {
   "cell_type": "code",
   "execution_count": 190,
   "id": "4bb3fd10",
   "metadata": {},
   "outputs": [
    {
     "data": {
      "text/plain": [
       "RandomizedSearchCV(cv=5, estimator=AdaBoostClassifier(),\n",
       "                   param_distributions={'learning_rate': array([2, 3, 4, 5, 6, 7, 8, 9]),\n",
       "                                        'n_estimators': array([51, 52, 53, 54, 55, 56, 57, 58, 59, 60, 61, 62, 63, 64, 65, 66, 67,\n",
       "       68, 69, 70, 71, 72, 73, 74, 75, 76, 77, 78, 79, 80, 81, 82, 83, 84,\n",
       "       85, 86, 87, 88, 89, 90, 91, 92, 93, 94, 95, 96, 97, 98, 99])})"
      ]
     },
     "execution_count": 190,
     "metadata": {},
     "output_type": "execute_result"
    }
   ],
   "source": [
    "model = AdaBoostClassifier()\n",
    "hype = {'n_estimators' : np.arange(51,100),\n",
    "        'learning_rate' : np.arange(2,10)}\n",
    "\n",
    "rscv_model = RandomizedSearchCV(model,hype,cv=5)\n",
    "rscv_model.fit(x_train,y_train)"
   ]
  },
  {
   "cell_type": "code",
   "execution_count": 191,
   "id": "ca360dd0",
   "metadata": {},
   "outputs": [
    {
     "data": {
      "text/plain": [
       "{'n_estimators': 77, 'learning_rate': 3}"
      ]
     },
     "execution_count": 191,
     "metadata": {},
     "output_type": "execute_result"
    }
   ],
   "source": [
    "rscv_model.best_params_"
   ]
  },
  {
   "cell_type": "code",
   "execution_count": 192,
   "id": "dde04d6a",
   "metadata": {},
   "outputs": [
    {
     "data": {
      "text/plain": [
       "AdaBoostClassifier(learning_rate=3, n_estimators=77)"
      ]
     },
     "execution_count": 192,
     "metadata": {},
     "output_type": "execute_result"
    }
   ],
   "source": [
    "new_adaboost = AdaBoostClassifier(n_estimators=77,learning_rate=3)\n",
    "new_adaboost.fit(x_train,y_train)"
   ]
  },
  {
   "cell_type": "code",
   "execution_count": 193,
   "id": "95ae88ae",
   "metadata": {},
   "outputs": [
    {
     "name": "stdout",
     "output_type": "stream",
     "text": [
      "accuracy for testing data is :-  0.6262681772066283\n",
      "\n",
      "confussion matrix for testing data is :- \n",
      " [[ 4681  7147]\n",
      " [ 1694 10134]]\n",
      "\n",
      "classification report for testing data is :- \n",
      "               precision    recall  f1-score   support\n",
      "\n",
      "           0       0.73      0.40      0.51     11828\n",
      "           1       0.59      0.86      0.70     11828\n",
      "\n",
      "    accuracy                           0.63     23656\n",
      "   macro avg       0.66      0.63      0.61     23656\n",
      "weighted avg       0.66      0.63      0.61     23656\n",
      "\n"
     ]
    }
   ],
   "source": [
    "# testing accuracy after hyperparameter tuning \n",
    "\n",
    "y_pred_test = new_adaboost.predict(x_test)\n",
    "\n",
    "accuracy = accuracy_score(y_test,y_pred_test)\n",
    "print('accuracy for testing data is :- ', accuracy)\n",
    "print()\n",
    "\n",
    "confu_mat = confusion_matrix(y_test,y_pred_test)\n",
    "print('confussion matrix for testing data is :- \\n', confu_mat)\n",
    "print()\n",
    "\n",
    "class_report = classification_report(y_test,y_pred_test)\n",
    "print('classification report for testing data is :- \\n', class_report)"
   ]
  },
  {
   "cell_type": "code",
   "execution_count": 194,
   "id": "4ea5f92c",
   "metadata": {},
   "outputs": [
    {
     "name": "stdout",
     "output_type": "stream",
     "text": [
      "accuracy for training data is :-  0.6235372506558947\n",
      "\n",
      "confussion matrix for training data is :- \n",
      " [[ 9392 14621]\n",
      " [ 3459 20554]]\n",
      "\n",
      "classification report for training data is :- \n",
      "               precision    recall  f1-score   support\n",
      "\n",
      "           0       0.73      0.39      0.51     24013\n",
      "           1       0.58      0.86      0.69     24013\n",
      "\n",
      "    accuracy                           0.62     48026\n",
      "   macro avg       0.66      0.62      0.60     48026\n",
      "weighted avg       0.66      0.62      0.60     48026\n",
      "\n"
     ]
    }
   ],
   "source": [
    "# training accuracy after hyper-parameter tuning\n",
    "\n",
    "y_pred_train = new_adaboost.predict(x_train)\n",
    "\n",
    "accuracy = accuracy_score(y_train,y_pred_train)\n",
    "print('accuracy for training data is :- ', accuracy)\n",
    "print()\n",
    "\n",
    "confu_mat = confusion_matrix(y_train,y_pred_train)\n",
    "print('confussion matrix for training data is :- \\n', confu_mat)\n",
    "print()\n",
    "\n",
    "class_report = classification_report(y_train,y_pred_train)\n",
    "print('classification report for training data is :- \\n', class_report)"
   ]
  },
  {
   "cell_type": "markdown",
   "id": "56fbf929",
   "metadata": {},
   "source": [
    "## So we can say that, by looking at all accuracies i.e without tuning or with tuning, without tuning gives us good result for this dataset."
   ]
  },
  {
   "cell_type": "markdown",
   "id": "d8da5a6f",
   "metadata": {},
   "source": [
    "## Amongs all, Random forest gives us best result for this detaset."
   ]
  },
  {
   "cell_type": "code",
   "execution_count": null,
   "id": "49572a1d",
   "metadata": {},
   "outputs": [],
   "source": []
  }
 ],
 "metadata": {
  "kernelspec": {
   "display_name": "Python 3 (ipykernel)",
   "language": "python",
   "name": "python3"
  },
  "language_info": {
   "codemirror_mode": {
    "name": "ipython",
    "version": 3
   },
   "file_extension": ".py",
   "mimetype": "text/x-python",
   "name": "python",
   "nbconvert_exporter": "python",
   "pygments_lexer": "ipython3",
   "version": "3.9.12"
  }
 },
 "nbformat": 4,
 "nbformat_minor": 5
}
